{
 "cells": [
  {
   "cell_type": "code",
   "execution_count": 1,
   "metadata": {},
   "outputs": [],
   "source": [
    "import findspark\n",
    "findspark.init()"
   ]
  },
  {
   "cell_type": "code",
   "execution_count": 2,
   "metadata": {},
   "outputs": [],
   "source": [
    "from pyspark.sql import SparkSession\n",
    "\n",
    "spark = SparkSession.builder. \\\n",
    "    appName(\"pyspark-1\"). \\\n",
    "    getOrCreate()"
   ]
  },
  {
   "cell_type": "markdown",
   "metadata": {},
   "source": [
    "### Read data"
   ]
  },
  {
   "cell_type": "code",
   "execution_count": 34,
   "metadata": {},
   "outputs": [
    {
     "name": "stdout",
     "output_type": "stream",
     "text": [
      "root\n",
      " |-- Job ID: integer (nullable = true)\n",
      " |-- Agency: string (nullable = true)\n",
      " |-- Posting Type: string (nullable = true)\n",
      " |-- # Of Positions: integer (nullable = true)\n",
      " |-- Business Title: string (nullable = true)\n",
      " |-- Civil Service Title: string (nullable = true)\n",
      " |-- Title Code No: string (nullable = true)\n",
      " |-- Level: string (nullable = true)\n",
      " |-- Job Category: string (nullable = true)\n",
      " |-- Full-Time/Part-Time indicator: string (nullable = true)\n",
      " |-- Salary Range From: double (nullable = true)\n",
      " |-- Salary Range To: double (nullable = true)\n",
      " |-- Salary Frequency: string (nullable = true)\n",
      " |-- Work Location: string (nullable = true)\n",
      " |-- Division/Work Unit: string (nullable = true)\n",
      " |-- Job Description: string (nullable = true)\n",
      " |-- Minimum Qual Requirements: string (nullable = true)\n",
      " |-- Preferred Skills: string (nullable = true)\n",
      " |-- Additional Information: string (nullable = true)\n",
      " |-- To Apply: string (nullable = true)\n",
      " |-- Hours/Shift: string (nullable = true)\n",
      " |-- Work Location 1: string (nullable = true)\n",
      " |-- Recruitment Contact: string (nullable = true)\n",
      " |-- Residency Requirement: string (nullable = true)\n",
      " |-- Posting Date: timestamp (nullable = true)\n",
      " |-- Post Until: timestamp (nullable = true)\n",
      " |-- Posting Updated: timestamp (nullable = true)\n",
      " |-- Process Date: timestamp (nullable = true)\n",
      "\n"
     ]
    }
   ],
   "source": [
    "# upon first inspecting the dataframe using default load options, we find that the data is not parsed correctly. adding quotes option solved it\n",
    "df = spark.read.options(header=True, inferSchema=True)\\\n",
    ".option(\"quote\", \"\\\"\")\\\n",
    ".option(\"escape\", \"\\\"\")\\\n",
    ".csv(\"/dataset/nyc-jobs.csv\")\n",
    "df.printSchema()"
   ]
  },
  {
   "cell_type": "code",
   "execution_count": 35,
   "metadata": {},
   "outputs": [],
   "source": [
    "# check if data is read correctly\n",
    "# opportunity to add a test \n",
    "# df.groupBy('Process Date').count().show()"
   ]
  },
  {
   "cell_type": "markdown",
   "metadata": {},
   "source": [
    "# EDA"
   ]
  },
  {
   "cell_type": "code",
   "execution_count": 38,
   "metadata": {},
   "outputs": [
    {
     "data": {
      "text/html": [
       "<div>\n",
       "<style scoped>\n",
       "    .dataframe tbody tr th:only-of-type {\n",
       "        vertical-align: middle;\n",
       "    }\n",
       "\n",
       "    .dataframe tbody tr th {\n",
       "        vertical-align: top;\n",
       "    }\n",
       "\n",
       "    .dataframe thead th {\n",
       "        text-align: right;\n",
       "    }\n",
       "</style>\n",
       "<table border=\"1\" class=\"dataframe\">\n",
       "  <thead>\n",
       "    <tr style=\"text-align: right;\">\n",
       "      <th></th>\n",
       "      <th>Job ID</th>\n",
       "      <th># Of Positions</th>\n",
       "      <th>Salary Range From</th>\n",
       "      <th>Salary Range To</th>\n",
       "    </tr>\n",
       "  </thead>\n",
       "  <tbody>\n",
       "    <tr>\n",
       "      <th>count</th>\n",
       "      <td>2946.000000</td>\n",
       "      <td>2946.000000</td>\n",
       "      <td>2946.000000</td>\n",
       "      <td>2946.000000</td>\n",
       "    </tr>\n",
       "    <tr>\n",
       "      <th>mean</th>\n",
       "      <td>384821.563136</td>\n",
       "      <td>2.495927</td>\n",
       "      <td>58904.139794</td>\n",
       "      <td>85535.711627</td>\n",
       "    </tr>\n",
       "    <tr>\n",
       "      <th>std</th>\n",
       "      <td>53075.338977</td>\n",
       "      <td>9.281313</td>\n",
       "      <td>26986.575936</td>\n",
       "      <td>42871.313454</td>\n",
       "    </tr>\n",
       "    <tr>\n",
       "      <th>min</th>\n",
       "      <td>87990.000000</td>\n",
       "      <td>1.000000</td>\n",
       "      <td>0.000000</td>\n",
       "      <td>10.360000</td>\n",
       "    </tr>\n",
       "    <tr>\n",
       "      <th>25%</th>\n",
       "      <td>378496.750000</td>\n",
       "      <td>1.000000</td>\n",
       "      <td>49390.000000</td>\n",
       "      <td>62000.000000</td>\n",
       "    </tr>\n",
       "    <tr>\n",
       "      <th>50%</th>\n",
       "      <td>404382.000000</td>\n",
       "      <td>1.000000</td>\n",
       "      <td>58440.000000</td>\n",
       "      <td>82056.000000</td>\n",
       "    </tr>\n",
       "    <tr>\n",
       "      <th>75%</th>\n",
       "      <td>419974.250000</td>\n",
       "      <td>1.000000</td>\n",
       "      <td>73171.750000</td>\n",
       "      <td>106222.000000</td>\n",
       "    </tr>\n",
       "    <tr>\n",
       "      <th>max</th>\n",
       "      <td>426238.000000</td>\n",
       "      <td>200.000000</td>\n",
       "      <td>218587.000000</td>\n",
       "      <td>234402.000000</td>\n",
       "    </tr>\n",
       "  </tbody>\n",
       "</table>\n",
       "</div>"
      ],
      "text/plain": [
       "              Job ID  # Of Positions  Salary Range From  Salary Range To\n",
       "count    2946.000000     2946.000000        2946.000000      2946.000000\n",
       "mean   384821.563136        2.495927       58904.139794     85535.711627\n",
       "std     53075.338977        9.281313       26986.575936     42871.313454\n",
       "min     87990.000000        1.000000           0.000000        10.360000\n",
       "25%    378496.750000        1.000000       49390.000000     62000.000000\n",
       "50%    404382.000000        1.000000       58440.000000     82056.000000\n",
       "75%    419974.250000        1.000000       73171.750000    106222.000000\n",
       "max    426238.000000      200.000000      218587.000000    234402.000000"
      ]
     },
     "execution_count": 38,
     "metadata": {},
     "output_type": "execute_result"
    }
   ],
   "source": [
    "# basic statistics\n",
    "pandas_df = df.toPandas()\n",
    "pandas_df.describe()"
   ]
  },
  {
   "cell_type": "code",
   "execution_count": 39,
   "metadata": {},
   "outputs": [
    {
     "name": "stdout",
     "output_type": "stream",
     "text": [
      "<class 'pandas.core.frame.DataFrame'>\n",
      "RangeIndex: 2946 entries, 0 to 2945\n",
      "Data columns (total 28 columns):\n",
      " #   Column                         Non-Null Count  Dtype         \n",
      "---  ------                         --------------  -----         \n",
      " 0   Job ID                         2946 non-null   int32         \n",
      " 1   Agency                         2946 non-null   object        \n",
      " 2   Posting Type                   2946 non-null   object        \n",
      " 3   # Of Positions                 2946 non-null   int32         \n",
      " 4   Business Title                 2946 non-null   object        \n",
      " 5   Civil Service Title            2946 non-null   object        \n",
      " 6   Title Code No                  2946 non-null   object        \n",
      " 7   Level                          2946 non-null   object        \n",
      " 8   Job Category                   2944 non-null   object        \n",
      " 9   Full-Time/Part-Time indicator  2751 non-null   object        \n",
      " 10  Salary Range From              2946 non-null   float64       \n",
      " 11  Salary Range To                2946 non-null   float64       \n",
      " 12  Salary Frequency               2946 non-null   object        \n",
      " 13  Work Location                  2946 non-null   object        \n",
      " 14  Division/Work Unit             2946 non-null   object        \n",
      " 15  Job Description                2946 non-null   object        \n",
      " 16  Minimum Qual Requirements      2926 non-null   object        \n",
      " 17  Preferred Skills               2553 non-null   object        \n",
      " 18  Additional Information         1854 non-null   object        \n",
      " 19  To Apply                       2945 non-null   object        \n",
      " 20  Hours/Shift                    884 non-null    object        \n",
      " 21  Work Location 1                1358 non-null   object        \n",
      " 22  Recruitment Contact            0 non-null      object        \n",
      " 23  Residency Requirement          2942 non-null   object        \n",
      " 24  Posting Date                   2942 non-null   datetime64[ns]\n",
      " 25  Post Until                     871 non-null    datetime64[ns]\n",
      " 26  Posting Updated                2942 non-null   datetime64[ns]\n",
      " 27  Process Date                   2942 non-null   datetime64[ns]\n",
      "dtypes: datetime64[ns](4), float64(2), int32(2), object(20)\n",
      "memory usage: 621.5+ KB\n"
     ]
    }
   ],
   "source": [
    "# dataframe quality\n",
    "pandas_df.info()"
   ]
  },
  {
   "cell_type": "code",
   "execution_count": 40,
   "metadata": {},
   "outputs": [
    {
     "name": "stdout",
     "output_type": "stream",
     "text": [
      "+------+--------------------+------------+--------------+--------------------+--------------------+-------------+-----+------------+-----------------------------+-----------------+---------------+----------------+-------------------+--------------------+--------------------+-------------------------+--------------------+----------------------+--------------------+-----------+---------------+-------------------+---------------------+-------------------+----------+-------------------+-------------------+\n",
      "|Job ID|              Agency|Posting Type|# Of Positions|      Business Title| Civil Service Title|Title Code No|Level|Job Category|Full-Time/Part-Time indicator|Salary Range From|Salary Range To|Salary Frequency|      Work Location|  Division/Work Unit|     Job Description|Minimum Qual Requirements|    Preferred Skills|Additional Information|            To Apply|Hours/Shift|Work Location 1|Recruitment Contact|Residency Requirement|       Posting Date|Post Until|    Posting Updated|       Process Date|\n",
      "+------+--------------------+------------+--------------+--------------------+--------------------+-------------+-----+------------+-----------------------------+-----------------+---------------+----------------+-------------------+--------------------+--------------------+-------------------------+--------------------+----------------------+--------------------+-----------+---------------+-------------------+---------------------+-------------------+----------+-------------------+-------------------+\n",
      "| 87990|DEPARTMENT OF BUS...|    Internal|             1|     Account Manager|CONTRACT REVIEWER...|        40563|    1|        null|                         null|          42405.0|        65485.0|          Annual|110 William St. N Y|Strategy & Analytics|Division of Econo...|     1.\tA baccalaureat...|â€¢\tExcellent int...|  Salary range for ...|                null|       null|           null|               null| New York City res...|2011-06-24 00:00:00|      null|2011-06-24 00:00:00|2019-12-17 00:00:00|\n",
      "| 97899|DEPARTMENT OF BUS...|    Internal|             1|EXECUTIVE DIRECTO...|ADMINISTRATIVE BU...|        10009|   M3|        null|                            F|          60740.0|       162014.0|          Annual|110 William St. N Y|Tech Talent Pipeline|The New York City...|     1. A baccalaureat...|                null|                  null|In addition to ap...|       null|           null|               null| New York City res...|2012-01-26 00:00:00|      null|2012-01-26 00:00:00|2019-12-17 00:00:00|\n",
      "+------+--------------------+------------+--------------+--------------------+--------------------+-------------+-----+------------+-----------------------------+-----------------+---------------+----------------+-------------------+--------------------+--------------------+-------------------------+--------------------+----------------------+--------------------+-----------+---------------+-------------------+---------------------+-------------------+----------+-------------------+-------------------+\n",
      "only showing top 2 rows\n",
      "\n"
     ]
    }
   ],
   "source": [
    "df.show(2)"
   ]
  },
  {
   "cell_type": "code",
   "execution_count": 42,
   "metadata": {},
   "outputs": [
    {
     "name": "stdout",
     "output_type": "stream",
     "text": [
      "Recruitment Contact is a column which only has value [None]\n"
     ]
    }
   ],
   "source": [
    "constant_col = []\n",
    "for i in pandas_df.columns:\n",
    "    if len(pandas_df[i].unique()) == 1:\n",
    "        print('{} is a column which only has value {}'.format(i,pandas_df[i].unique()))\n",
    "        constant_col.append(i)\n",
    "        \n",
    "# Recruitment Contact is null, we can drop"
   ]
  },
  {
   "cell_type": "code",
   "execution_count": 37,
   "metadata": {},
   "outputs": [
    {
     "data": {
      "text/plain": [
       "array(['2019-12-17T00:00:00.000000000',                           'NaT'],\n",
       "      dtype='datetime64[ns]')"
      ]
     },
     "execution_count": 37,
     "metadata": {},
     "output_type": "execute_result"
    }
   ],
   "source": [
    "pandas_df['Process Date'].unique()"
   ]
  },
  {
   "cell_type": "code",
   "execution_count": null,
   "metadata": {},
   "outputs": [],
   "source": []
  },
  {
   "cell_type": "code",
   "execution_count": 59,
   "metadata": {},
   "outputs": [],
   "source": [
    "# distincy categorical values - visualize \n",
    "numerical_columns = [i for i in pandas_df.columns if (pandas_df[i].dtypes == \"float64\" or pandas_df[i].dtypes == \"int32\")]\n",
    "categorical_columns = [i for i in pandas_df.columns if pandas_df[i].dtypes == \"object\"]"
   ]
  },
  {
   "cell_type": "code",
   "execution_count": 61,
   "metadata": {},
   "outputs": [],
   "source": [
    "# plots to understand the distinct values in categorical columns \n",
    "# for each categorical column, count how many distinct values there are, and plot the top 10 "
   ]
  },
  {
   "cell_type": "code",
   "execution_count": 73,
   "metadata": {},
   "outputs": [
    {
     "data": {
      "text/plain": [
       "131"
      ]
     },
     "execution_count": 73,
     "metadata": {},
     "output_type": "execute_result"
    }
   ],
   "source": [
    "distinctvalues = df.select(\"Job Category\").distinct()\n",
    "distinctvalues.count()"
   ]
  },
  {
   "cell_type": "code",
   "execution_count": 66,
   "metadata": {},
   "outputs": [],
   "source": [
    "import seaborn as sns\n",
    "import matplotlib.pyplot as plt"
   ]
  },
  {
   "cell_type": "code",
   "execution_count": 67,
   "metadata": {},
   "outputs": [
    {
     "name": "stderr",
     "output_type": "stream",
     "text": [
      "/usr/local/lib/python3.7/dist-packages/IPython/core/pylabtools.py:132: UserWarning: constrained_layout not applied.  At least one axes collapsed to zero width or height.\n",
      "  fig.canvas.print_figure(bytes_io, **kw)\n"
     ]
    },
    {
     "data": {
      "image/png": "[encoded data removed]",
      "text/plain": [
       "<Figure size 864x576 with 1 Axes>"
      ]
     },
     "metadata": {
      "needs_background": "light"
     },
     "output_type": "display_data"
    }
   ],
   "source": [
    "fig, axs = plt.subplots(constrained_layout=True)\n",
    "fig.set_size_inches(12, 8)\n",
    "fig.suptitle('Non numerical variables')\n",
    "\n",
    "sns.countplot(\n",
    "        data=pandas_df,\n",
    "        x='Job Category'\n",
    "    )\n",
    "plt.show()"
   ]
  },
  {
   "cell_type": "code",
   "execution_count": null,
   "metadata": {},
   "outputs": [],
   "source": []
  },
  {
   "cell_type": "code",
   "execution_count": 65,
   "metadata": {},
   "outputs": [
    {
     "data": {
      "text/plain": [
       "[Row(Job Category='Engineering, Architecture, & Planning', count=504),\n",
       " Row(Job Category='Technology, Data & Innovation', count=313),\n",
       " Row(Job Category='Legal Affairs', count=226),\n",
       " Row(Job Category='Public Safety, Inspections, & Enforcement', count=182),\n",
       " Row(Job Category='Building Operations & Maintenance', count=181),\n",
       " Row(Job Category='Finance, Accounting, & Procurement', count=169),\n",
       " Row(Job Category='Administration & Human Resources', count=134),\n",
       " Row(Job Category='Constituent Services & Community Programs', count=129),\n",
       " Row(Job Category='Health', count=125),\n",
       " Row(Job Category='Policy, Research & Analysis', count=124)]"
      ]
     },
     "execution_count": 65,
     "metadata": {},
     "output_type": "execute_result"
    }
   ],
   "source": [
    "df.groupBy(\"Job Category\").count().sort(\"count\",ascending=False).take(10)"
   ]
  },
  {
   "cell_type": "code",
   "execution_count": 10,
   "metadata": {},
   "outputs": [],
   "source": [
    "# unprocessed continuous values \n",
    "# no null in salary column\n",
    "# add columns salary_floor_hourly and salary_ceiling_hourly\n",
    "# assumption: 8 working hours per day, 22 working days per month \n",
    "# annual salary -> salary / (22*12*8)\n",
    "# daily salary -> salary / (8)"
   ]
  },
  {
   "cell_type": "code",
   "execution_count": 75,
   "metadata": {},
   "outputs": [
    {
     "name": "stdout",
     "output_type": "stream",
     "text": [
      "+----------------+\n",
      "|Salary Frequency|\n",
      "+----------------+\n",
      "|          Annual|\n",
      "|           Daily|\n",
      "|          Hourly|\n",
      "+----------------+\n",
      "\n"
     ]
    }
   ],
   "source": [
    "df.select('Salary Frequency').distinct().show()"
   ]
  },
  {
   "cell_type": "code",
   "execution_count": null,
   "metadata": {},
   "outputs": [],
   "source": [
    "def salary_converter(frequency: String) -> int:\n",
    "    annual_working_hours = 2112  # 12*22*8 12 months * 22 days * 8 hours \n",
    "    daily_working_hours = 8 \n",
    "    if lower(frequency) == 'annual':\n",
    "        return annual_working_hours\n",
    "    elif lower(frequency) == 'daily':\n",
    "        return daily_working_hours\n",
    "    else:\n",
    "        return 1 \n",
    "        "
   ]
  },
  {
   "cell_type": "code",
   "execution_count": null,
   "metadata": {},
   "outputs": [],
   "source": [
    "df.withColumn('converted_hourly_salary',)"
   ]
  },
  {
   "cell_type": "code",
   "execution_count": 11,
   "metadata": {},
   "outputs": [],
   "source": [
    "# impute missing values "
   ]
  },
  {
   "cell_type": "code",
   "execution_count": 12,
   "metadata": {},
   "outputs": [],
   "source": []
  },
  {
   "cell_type": "markdown",
   "metadata": {},
   "source": [
    "### Sample function"
   ]
  },
  {
   "cell_type": "code",
   "execution_count": null,
   "metadata": {},
   "outputs": [],
   "source": [
    "# read dataset\n",
    "# "
   ]
  },
  {
   "cell_type": "code",
   "execution_count": 48,
   "metadata": {},
   "outputs": [],
   "source": [
    "def get_salary_frequency(df: DataFrame) -> list:\n",
    "    row_list = df.select('Salary Frequency').distinct().collect()\n",
    "    return [row['Salary Frequency'] for row in row_list]"
   ]
  },
  {
   "cell_type": "markdown",
   "metadata": {},
   "source": [
    "# CREATE A SUMMARY OF TECHNIQUES AND WORKFLOW"
   ]
  },
  {
   "cell_type": "markdown",
   "metadata": {},
   "source": [
    "### Example of test function"
   ]
  },
  {
   "cell_type": "code",
   "execution_count": 65,
   "metadata": {},
   "outputs": [],
   "source": [
    "mock_data = [('A', 'Annual'), ('B', 'Daily')]\n",
    "expected_result = ['Annual', 'Daily']"
   ]
  },
  {
   "cell_type": "code",
   "execution_count": 66,
   "metadata": {},
   "outputs": [],
   "source": [
    "def test_get_salary_frequency(mock_data: list, \n",
    "                              expected_result: list,\n",
    "                              schema: list = ['id', 'Salary Frequency']):  \n",
    "    mock_df = spark.createDataFrame(data = mock_data, schema = schema)\n",
    "    assert get_salary_frequency(mock_df) == expected_result"
   ]
  },
  {
   "cell_type": "code",
   "execution_count": 74,
   "metadata": {},
   "outputs": [],
   "source": [
    "# test read dataset"
   ]
  },
  {
   "cell_type": "code",
   "execution_count": null,
   "metadata": {},
   "outputs": [],
   "source": []
  }
 ],
 "metadata": {
  "kernelspec": {
   "display_name": "Python 3",
   "language": "python",
   "name": "python3"
  },
  "language_info": {
   "codemirror_mode": {
    "name": "ipython",
    "version": 3
   },
   "file_extension": ".py",
   "mimetype": "text/x-python",
   "name": "python",
   "nbconvert_exporter": "python",
   "pygments_lexer": "ipython3",
   "version": "3.7.3"
  },
  "vscode": {
   "interpreter": {
    "hash": "00826a481c8eaf04a3d7593b967dba21fe95800de21741369716e0153ae0478b"
   }
  }
 },
 "nbformat": 4,
 "nbformat_minor": 4
}
