{
 "cells": [
  {
   "cell_type": "markdown",
   "metadata": {},
   "source": [
    "# Outline\n",
    "\n",
    "#### 1. Exploratory data analysis (EDA)\n",
    "\n",
    "1.1 Basic statistics\n",
    "\n",
    "1.2 Column without meaning / constant value\n",
    "\n",
    "1.3 Categorical variables: Distinct columns values\n",
    "\n",
    "1.4 Continuous variables: Plotting distributions\n",
    "\n",
    "#### 2. Preprocessing and Feature Engineering (functions)\n",
    "\n",
    "2.1 Handle Missing Values \n",
    "\n",
    "2.2 Handle outliers\n",
    "\n",
    "2.3 Drop features \n",
    "\n",
    "2.4 Text processing \n",
    "\n",
    "2.5 Encoding categorical variables \n",
    "\n",
    "\n",
    "#### 3. Answering the challenges\n",
    "#### 4. Tests\n",
    "\n",
    "Zhaoxue Li 2023 April 6th"
   ]
  },
  {
   "cell_type": "markdown",
   "metadata": {},
   "source": [
    "# 0. Import libraries and read data"
   ]
  },
  {
   "cell_type": "code",
   "execution_count": 2,
   "metadata": {},
   "outputs": [],
   "source": [
    "import seaborn as sns\n",
    "import matplotlib.pyplot as plt\n",
    "import findspark\n",
    "findspark.init()\n",
    "\n",
    "from pyspark.sql import SparkSession\n",
    "spark = SparkSession.builder. \\\n",
    "    appName(\"pyspark-1\"). \\\n",
    "    getOrCreate()\n",
    "\n",
    "from pyspark.sql.types import *\n",
    "from pyspark.sql.functions import *\n",
    "\n",
    "from pyspark.ml.feature import (VectorAssembler,VectorIndexer,\n",
    "                                OneHotEncoder,StringIndexer)\n"
   ]
  },
  {
   "cell_type": "markdown",
   "metadata": {},
   "source": [
    "### Read data"
   ]
  },
  {
   "cell_type": "code",
   "execution_count": 3,
   "metadata": {},
   "outputs": [],
   "source": [
    "# Upon first inspecting the dataframe using default load options, \n",
    "# I found that the data is not parsed correctly due to commas and quotes in fields.\n",
    "# Adding quotes option solved it\n",
    "\n",
    "df = spark.read.options(header=True, inferSchema=True)\\\n",
    ".option(\"quote\", \"\\\"\")\\\n",
    ".option(\"escape\", \"\\\"\")\\\n",
    ".csv(\"/dataset/nyc-jobs.csv\")"
   ]
  },
  {
   "cell_type": "code",
   "execution_count": 4,
   "metadata": {},
   "outputs": [
    {
     "name": "stdout",
     "output_type": "stream",
     "text": [
      "There are 2946 rows in dataframe\n",
      "---------------------------------\n",
      "Below is the dataframe schema:\n",
      "root\n",
      " |-- Job ID: integer (nullable = true)\n",
      " |-- Agency: string (nullable = true)\n",
      " |-- Posting Type: string (nullable = true)\n",
      " |-- # Of Positions: integer (nullable = true)\n",
      " |-- Business Title: string (nullable = true)\n",
      " |-- Civil Service Title: string (nullable = true)\n",
      " |-- Title Code No: string (nullable = true)\n",
      " |-- Level: string (nullable = true)\n",
      " |-- Job Category: string (nullable = true)\n",
      " |-- Full-Time/Part-Time indicator: string (nullable = true)\n",
      " |-- Salary Range From: double (nullable = true)\n",
      " |-- Salary Range To: double (nullable = true)\n",
      " |-- Salary Frequency: string (nullable = true)\n",
      " |-- Work Location: string (nullable = true)\n",
      " |-- Division/Work Unit: string (nullable = true)\n",
      " |-- Job Description: string (nullable = true)\n",
      " |-- Minimum Qual Requirements: string (nullable = true)\n",
      " |-- Preferred Skills: string (nullable = true)\n",
      " |-- Additional Information: string (nullable = true)\n",
      " |-- To Apply: string (nullable = true)\n",
      " |-- Hours/Shift: string (nullable = true)\n",
      " |-- Work Location 1: string (nullable = true)\n",
      " |-- Recruitment Contact: string (nullable = true)\n",
      " |-- Residency Requirement: string (nullable = true)\n",
      " |-- Posting Date: timestamp (nullable = true)\n",
      " |-- Post Until: timestamp (nullable = true)\n",
      " |-- Posting Updated: timestamp (nullable = true)\n",
      " |-- Process Date: timestamp (nullable = true)\n",
      "\n"
     ]
    }
   ],
   "source": [
    "print('There are {} rows in dataframe'.format(df.count()))\n",
    "print('---------------------------------')\n",
    "print('Below is the dataframe schema:')\n",
    "df.printSchema()"
   ]
  },
  {
   "cell_type": "markdown",
   "metadata": {},
   "source": [
    "# 1.EDA"
   ]
  },
  {
   "cell_type": "markdown",
   "metadata": {},
   "source": [
    "1.1 Basic Statistics "
   ]
  },
  {
   "cell_type": "code",
   "execution_count": 5,
   "metadata": {},
   "outputs": [
    {
     "data": {
      "text/html": [
       "<div>\n",
       "<style scoped>\n",
       "    .dataframe tbody tr th:only-of-type {\n",
       "        vertical-align: middle;\n",
       "    }\n",
       "\n",
       "    .dataframe tbody tr th {\n",
       "        vertical-align: top;\n",
       "    }\n",
       "\n",
       "    .dataframe thead th {\n",
       "        text-align: right;\n",
       "    }\n",
       "</style>\n",
       "<table border=\"1\" class=\"dataframe\">\n",
       "  <thead>\n",
       "    <tr style=\"text-align: right;\">\n",
       "      <th></th>\n",
       "      <th>Job ID</th>\n",
       "      <th># Of Positions</th>\n",
       "      <th>Salary Range From</th>\n",
       "      <th>Salary Range To</th>\n",
       "    </tr>\n",
       "  </thead>\n",
       "  <tbody>\n",
       "    <tr>\n",
       "      <th>count</th>\n",
       "      <td>2946.000000</td>\n",
       "      <td>2946.000000</td>\n",
       "      <td>2946.000000</td>\n",
       "      <td>2946.000000</td>\n",
       "    </tr>\n",
       "    <tr>\n",
       "      <th>mean</th>\n",
       "      <td>384821.563136</td>\n",
       "      <td>2.495927</td>\n",
       "      <td>58904.139794</td>\n",
       "      <td>85535.711627</td>\n",
       "    </tr>\n",
       "    <tr>\n",
       "      <th>std</th>\n",
       "      <td>53075.338977</td>\n",
       "      <td>9.281313</td>\n",
       "      <td>26986.575936</td>\n",
       "      <td>42871.313454</td>\n",
       "    </tr>\n",
       "    <tr>\n",
       "      <th>min</th>\n",
       "      <td>87990.000000</td>\n",
       "      <td>1.000000</td>\n",
       "      <td>0.000000</td>\n",
       "      <td>10.360000</td>\n",
       "    </tr>\n",
       "    <tr>\n",
       "      <th>25%</th>\n",
       "      <td>378496.750000</td>\n",
       "      <td>1.000000</td>\n",
       "      <td>49390.000000</td>\n",
       "      <td>62000.000000</td>\n",
       "    </tr>\n",
       "    <tr>\n",
       "      <th>50%</th>\n",
       "      <td>404382.000000</td>\n",
       "      <td>1.000000</td>\n",
       "      <td>58440.000000</td>\n",
       "      <td>82056.000000</td>\n",
       "    </tr>\n",
       "    <tr>\n",
       "      <th>75%</th>\n",
       "      <td>419974.250000</td>\n",
       "      <td>1.000000</td>\n",
       "      <td>73171.750000</td>\n",
       "      <td>106222.000000</td>\n",
       "    </tr>\n",
       "    <tr>\n",
       "      <th>max</th>\n",
       "      <td>426238.000000</td>\n",
       "      <td>200.000000</td>\n",
       "      <td>218587.000000</td>\n",
       "      <td>234402.000000</td>\n",
       "    </tr>\n",
       "  </tbody>\n",
       "</table>\n",
       "</div>"
      ],
      "text/plain": [
       "              Job ID  # Of Positions  Salary Range From  Salary Range To\n",
       "count    2946.000000     2946.000000        2946.000000      2946.000000\n",
       "mean   384821.563136        2.495927       58904.139794     85535.711627\n",
       "std     53075.338977        9.281313       26986.575936     42871.313454\n",
       "min     87990.000000        1.000000           0.000000        10.360000\n",
       "25%    378496.750000        1.000000       49390.000000     62000.000000\n",
       "50%    404382.000000        1.000000       58440.000000     82056.000000\n",
       "75%    419974.250000        1.000000       73171.750000    106222.000000\n",
       "max    426238.000000      200.000000      218587.000000    234402.000000"
      ]
     },
     "execution_count": 5,
     "metadata": {},
     "output_type": "execute_result"
    }
   ],
   "source": [
    "# Convert the spark dataframe to pandas dataframe to use the built-in statistics functions\n",
    "\n",
    "pandas_df = df.toPandas()\n",
    "pandas_df.describe()"
   ]
  },
  {
   "cell_type": "code",
   "execution_count": 6,
   "metadata": {},
   "outputs": [
    {
     "name": "stdout",
     "output_type": "stream",
     "text": [
      "<class 'pandas.core.frame.DataFrame'>\n",
      "RangeIndex: 2946 entries, 0 to 2945\n",
      "Data columns (total 28 columns):\n",
      " #   Column                         Non-Null Count  Dtype         \n",
      "---  ------                         --------------  -----         \n",
      " 0   Job ID                         2946 non-null   int32         \n",
      " 1   Agency                         2946 non-null   object        \n",
      " 2   Posting Type                   2946 non-null   object        \n",
      " 3   # Of Positions                 2946 non-null   int32         \n",
      " 4   Business Title                 2946 non-null   object        \n",
      " 5   Civil Service Title            2946 non-null   object        \n",
      " 6   Title Code No                  2946 non-null   object        \n",
      " 7   Level                          2946 non-null   object        \n",
      " 8   Job Category                   2944 non-null   object        \n",
      " 9   Full-Time/Part-Time indicator  2751 non-null   object        \n",
      " 10  Salary Range From              2946 non-null   float64       \n",
      " 11  Salary Range To                2946 non-null   float64       \n",
      " 12  Salary Frequency               2946 non-null   object        \n",
      " 13  Work Location                  2946 non-null   object        \n",
      " 14  Division/Work Unit             2946 non-null   object        \n",
      " 15  Job Description                2946 non-null   object        \n",
      " 16  Minimum Qual Requirements      2926 non-null   object        \n",
      " 17  Preferred Skills               2553 non-null   object        \n",
      " 18  Additional Information         1854 non-null   object        \n",
      " 19  To Apply                       2945 non-null   object        \n",
      " 20  Hours/Shift                    884 non-null    object        \n",
      " 21  Work Location 1                1358 non-null   object        \n",
      " 22  Recruitment Contact            0 non-null      object        \n",
      " 23  Residency Requirement          2942 non-null   object        \n",
      " 24  Posting Date                   2942 non-null   datetime64[ns]\n",
      " 25  Post Until                     871 non-null    datetime64[ns]\n",
      " 26  Posting Updated                2942 non-null   datetime64[ns]\n",
      " 27  Process Date                   2942 non-null   datetime64[ns]\n",
      "dtypes: datetime64[ns](4), float64(2), int32(2), object(20)\n",
      "memory usage: 621.5+ KB\n"
     ]
    }
   ],
   "source": [
    "# Datatypes and null values of each column \n",
    "\n",
    "pandas_df.info()"
   ]
  },
  {
   "cell_type": "markdown",
   "metadata": {},
   "source": [
    "#### EDA finding 1: Of the important numeric value Salary Range, there is very big variance. There might be data quality issue becuase the min salary ranges from 0\n",
    "#### EDA finding 2: Columns ['Additional information','Hours/Shift','Work Location 1','Recruitment Contact','Post Until'] have significant portion missing, or completely missing values. Consider dropping these columns\n",
    "#### EDA finding 3: Other columns with missing values, consider imputing "
   ]
  },
  {
   "cell_type": "markdown",
   "metadata": {},
   "source": [
    "1.2 Columns without meaning / with constant values"
   ]
  },
  {
   "cell_type": "code",
   "execution_count": 6,
   "metadata": {},
   "outputs": [
    {
     "name": "stdout",
     "output_type": "stream",
     "text": [
      "EDA finding 4: Recruitment Contact is a column which only has 1 value [None]. Need to drop column\n"
     ]
    }
   ],
   "source": [
    "for i in pandas_df.columns:\n",
    "    if len(pandas_df[i].unique()) == 1:\n",
    "        print('EDA finding 4: {} is a column which only has 1 value {}. Need to drop column'.format(i,pandas_df[i].unique()))"
   ]
  },
  {
   "cell_type": "code",
   "execution_count": 7,
   "metadata": {},
   "outputs": [],
   "source": [
    "# pandas_df['Process Date'].unique()"
   ]
  },
  {
   "cell_type": "markdown",
   "metadata": {},
   "source": [
    "1.3 Categorical values"
   ]
  },
  {
   "cell_type": "code",
   "execution_count": 8,
   "metadata": {},
   "outputs": [],
   "source": [
    "# distinct categorical values - visualize \n",
    "numerical_columns = [i for i in pandas_df.columns if (pandas_df[i].dtypes == \"float64\" or pandas_df[i].dtypes == \"int32\")]\n",
    "categorical_columns = [i for i in pandas_df.columns if pandas_df[i].dtypes == \"object\"]"
   ]
  },
  {
   "cell_type": "code",
   "execution_count": 15,
   "metadata": {},
   "outputs": [
    {
     "name": "stdout",
     "output_type": "stream",
     "text": [
      "Agency\n",
      "+--------------------+-----+\n",
      "|              Agency|count|\n",
      "+--------------------+-----+\n",
      "|DEPT OF ENVIRONME...|  655|\n",
      "|NYC HOUSING AUTHO...|  231|\n",
      "|DEPT OF HEALTH/ME...|  188|\n",
      "|DEPARTMENT OF TRA...|  183|\n",
      "|DEPT OF DESIGN & ...|  142|\n",
      "|TAXI & LIMOUSINE ...|  134|\n",
      "|ADMIN FOR CHILDRE...|  108|\n",
      "|DEPT OF INFO TECH...|  107|\n",
      "|      LAW DEPARTMENT|   95|\n",
      "|HOUSING PRESERVAT...|   86|\n",
      "|OFFICE OF THE COM...|   64|\n",
      "|   POLICE DEPARTMENT|   64|\n",
      "|OFFICE OF MANAGEM...|   58|\n",
      "|NYC EMPLOYEES RET...|   54|\n",
      "|DEPARTMENT OF INV...|   53|\n",
      "|DEPARTMENT OF BUS...|   52|\n",
      "|DEPARTMENT OF COR...|   51|\n",
      "|DEPT OF PARKS & R...|   48|\n",
      "|DEPARTMENT OF CIT...|   45|\n",
      "|DEPT OF CITYWIDE ...|   42|\n",
      "|DEPARTMENT OF SAN...|   40|\n",
      "|DEPT OF YOUTH & C...|   38|\n",
      "|DEPARTMENT FOR TH...|   36|\n",
      "|HUMAN RIGHTS COMM...|   34|\n",
      "|HRA/DEPT OF SOCIA...|   31|\n",
      "|FINANCIAL INFO SV...|   31|\n",
      "|MAYORS OFFICE OF ...|   28|\n",
      "|ADMIN TRIALS AND ...|   25|\n",
      "|DEPARTMENT OF FIN...|   24|\n",
      "|DEPARTMENT OF PRO...|   23|\n",
      "+--------------------+-----+\n",
      "only showing top 30 rows\n",
      "\n",
      "Posting Type\n",
      "+------------+-----+\n",
      "|Posting Type|count|\n",
      "+------------+-----+\n",
      "|    Internal| 1684|\n",
      "|    External| 1262|\n",
      "+------------+-----+\n",
      "\n",
      "Business Title\n",
      "+--------------------+-----+\n",
      "|      Business Title|count|\n",
      "+--------------------+-----+\n",
      "|Assistant Civil E...|   33|\n",
      "|     Project Manager|   29|\n",
      "|        College Aide|   24|\n",
      "|Construction Proj...|   22|\n",
      "| ACCOUNTABLE MANAGER|   20|\n",
      "|Confidential Inve...|   18|\n",
      "|Watershed Maintainer|   17|\n",
      "|        Investigator|   17|\n",
      "|Prosecuting Attorney|   16|\n",
      "|Senior Project Ma...|   15|\n",
      "|Stationary Engine...|   13|\n",
      "|      Budget Analyst|   12|\n",
      "|COMPUTER SPECIALI...|   12|\n",
      "|    Civil Engineer 2|   12|\n",
      "|    Civil Engineer 3|   11|\n",
      "|     Deputy Director|   11|\n",
      "|      Data Scientist|   11|\n",
      "|Administrative As...|   11|\n",
      "|Information Repre...|   10|\n",
      "|     PROGRAM MANAGER|   10|\n",
      "|Engineering Techn...|   10|\n",
      "|Assistant General...|   10|\n",
      "|      Policy Analyst|   10|\n",
      "|Community Coordin...|   10|\n",
      "|     Agency Attorney|   10|\n",
      "|         Electrician|    9|\n",
      "|  Executive Director|    8|\n",
      "|Assistant Environ...|    8|\n",
      "|            Director|    8|\n",
      "| Mechanical Engineer|    8|\n",
      "+--------------------+-----+\n",
      "only showing top 30 rows\n",
      "\n",
      "Civil Service Title\n",
      "+--------------------+-----+\n",
      "| Civil Service Title|count|\n",
      "+--------------------+-----+\n",
      "|COMMUNITY COORDIN...|  182|\n",
      "|     AGENCY ATTORNEY|  112|\n",
      "|      CIVIL ENGINEER|   87|\n",
      "|CITY RESEARCH SCI...|   83|\n",
      "|  CLERICAL ASSOCIATE|   72|\n",
      "|CONSTRUCTION PROJ...|   72|\n",
      "| COMMUNITY ASSOCIATE|   69|\n",
      "|ADMINISTRATIVE PR...|   58|\n",
      "|COMPUTER SYSTEMS ...|   57|\n",
      "|ADMINISTRATIVE ST...|   53|\n",
      "|PRINCIPAL ADMINIS...|   53|\n",
      "|BUDGET ANALYST (OMB)|   52|\n",
      "|COLLEGE AIDE (ALL...|   52|\n",
      "|ADMINISTRATIVE EN...|   50|\n",
      "|ADMINISTRATIVE BU...|   48|\n",
      "|ASSISTANT CIVIL E...|   45|\n",
      "|ASSOCIATE PROJECT...|   44|\n",
      "|EXECUTIVE AGENCY ...|   41|\n",
      "|CONFIDENTIAL INVE...|   41|\n",
      "|COMPUTER SPECIALI...|   39|\n",
      "|       STAFF ANALYST|   37|\n",
      "|ASSOCIATE STAFF A...|   35|\n",
      "|ADMINISTRATIVE CO...|   34|\n",
      "|ASSISTANT CORPORA...|   33|\n",
      "|     PROJECT MANAGER|   33|\n",
      "| PROCUREMENT ANALYST|   32|\n",
      "|AGENCY ATTORNEY I...|   28|\n",
      "|WATERSHED MAINTAINER|   27|\n",
      "|RESEARCH PROJECTS...|   24|\n",
      "|CERTIFIED IT ADMI...|   24|\n",
      "+--------------------+-----+\n",
      "only showing top 30 rows\n",
      "\n",
      "Title Code No\n",
      "+-------------+-----+\n",
      "|Title Code No|count|\n",
      "+-------------+-----+\n",
      "|        56058|  182|\n",
      "|        30087|  112|\n",
      "|        20215|   87|\n",
      "|        21744|   83|\n",
      "|        34202|   72|\n",
      "|        10251|   72|\n",
      "|        56057|   69|\n",
      "|        10050|   57|\n",
      "|        10124|   53|\n",
      "|         6088|   52|\n",
      "|        10209|   52|\n",
      "|        10015|   50|\n",
      "|        20210|   45|\n",
      "|        22427|   44|\n",
      "|        95005|   41|\n",
      "|        31143|   41|\n",
      "|        10009|   40|\n",
      "|        13632|   39|\n",
      "|        8300B|   37|\n",
      "|        12626|   37|\n",
      "|        12627|   35|\n",
      "|        82991|   34|\n",
      "|        22426|   33|\n",
      "|        12158|   32|\n",
      "|         6503|   30|\n",
      "|        30086|   28|\n",
      "|        91011|   27|\n",
      "|        0527A|   24|\n",
      "|        13652|   24|\n",
      "|        31220|   23|\n",
      "+-------------+-----+\n",
      "only showing top 30 rows\n",
      "\n",
      "Level\n",
      "+-----+-----+\n",
      "|Level|count|\n",
      "+-----+-----+\n",
      "|    0| 1112|\n",
      "|    1|  521|\n",
      "|    2|  505|\n",
      "|    3|  299|\n",
      "|   M1|  161|\n",
      "|   M2|  109|\n",
      "|   M3|  103|\n",
      "|    4|   47|\n",
      "|   M4|   40|\n",
      "|   M5|   28|\n",
      "|   M7|   16|\n",
      "|   4A|    2|\n",
      "|   M6|    2|\n",
      "|   4B|    1|\n",
      "+-----+-----+\n",
      "\n",
      "Job Category\n",
      "+--------------------+-----+\n",
      "|        Job Category|count|\n",
      "+--------------------+-----+\n",
      "|Engineering, Arch...|  504|\n",
      "|Technology, Data ...|  313|\n",
      "|       Legal Affairs|  226|\n",
      "|Public Safety, In...|  182|\n",
      "|Building Operatio...|  181|\n",
      "|Finance, Accounti...|  169|\n",
      "|Administration & ...|  134|\n",
      "|Constituent Servi...|  129|\n",
      "|              Health|  125|\n",
      "|Policy, Research ...|  124|\n",
      "|Finance, Accounti...|   63|\n",
      "|     Social Services|   62|\n",
      "|Engineering, Arch...|   60|\n",
      "|Engineering, Arch...|   31|\n",
      "|Engineering, Arch...|   31|\n",
      "|Technology, Data ...|   28|\n",
      "|Information Techn...|   28|\n",
      "|Legal Affairs Pol...|   26|\n",
      "|Policy, Research ...|   25|\n",
      "|Communications & ...|   24|\n",
      "|Health Policy, Re...|   23|\n",
      "|Health Public Saf...|   21|\n",
      "|Administration & ...|   20|\n",
      "|Building Operatio...|   18|\n",
      "|Engineering, Arch...|   14|\n",
      "|Communications & ...|   14|\n",
      "|Clerical & Admini...|   13|\n",
      "|Administration & ...|   13|\n",
      "|Administration & ...|   11|\n",
      "|Constituent Servi...|   11|\n",
      "+--------------------+-----+\n",
      "only showing top 30 rows\n",
      "\n",
      "Full-Time/Part-Time indicator\n",
      "+-----------------------------+-----+\n",
      "|Full-Time/Part-Time indicator|count|\n",
      "+-----------------------------+-----+\n",
      "|                            F| 2625|\n",
      "|                         null|  195|\n",
      "|                            P|  126|\n",
      "+-----------------------------+-----+\n",
      "\n",
      "Salary Frequency\n",
      "+----------------+-----+\n",
      "|Salary Frequency|count|\n",
      "+----------------+-----+\n",
      "|          Annual| 2712|\n",
      "|          Hourly|  195|\n",
      "|           Daily|   39|\n",
      "+----------------+-----+\n",
      "\n",
      "Work Location\n",
      "+--------------------+-----+\n",
      "|       Work Location|count|\n",
      "+--------------------+-----+\n",
      "|96-05 Horace Hard...|  262|\n",
      "|59-17 Junction Bl...|  206|\n",
      "|30-30 Thomson Ave...|  142|\n",
      "|  1 Centre St., N.Y.|  123|\n",
      "|   55 Water St Ny Ny|  120|\n",
      "|33 Beaver St, New...|  110|\n",
      "|255 Greenwich Street|   96|\n",
      "|100 Church St., N.Y.|   88|\n",
      "|     100 Gold Street|   86|\n",
      "|150 William Stree...|   76|\n",
      "|   42-09 28th Street|   63|\n",
      "|2 Lafayette St., ...|   55|\n",
      "|335 Adams Street,...|   54|\n",
      "| 110 William St. N Y|   52|\n",
      "|     22 Reade St, Ny|   44|\n",
      "|    5 Manhattan West|   43|\n",
      "|253 Broadway New ...|   43|\n",
      "|1 Police Plaza, N.Y.|   37|\n",
      "|  75-20 Astoria Blvd|   37|\n",
      "|        2 Metro Tech|   37|\n",
      "|120 Broadway, New...|   37|\n",
      "|421 East 26th Str...|   36|\n",
      "|31-00 47 Ave, 3 F...|   34|\n",
      "|      59 Maiden Lane|   32|\n",
      "|      80 Maiden Lane|   30|\n",
      "|  NYC - All Boroughs|   27|\n",
      "|356 Flushing Ave,...|   24|\n",
      "|350 Jay St, Brook...|   24|\n",
      "|66 John Street, N...|   23|\n",
      "|24-55 Bklyn Qns E...|   22|\n",
      "+--------------------+-----+\n",
      "only showing top 30 rows\n",
      "\n",
      "Division/Work Unit\n",
      "+--------------------+-----+\n",
      "|  Division/Work Unit|count|\n",
      "+--------------------+-----+\n",
      "|Executive Management|   56|\n",
      "|Central Brookly C...|   36|\n",
      "|      Law Department|   32|\n",
      "|      Administration|   31|\n",
      "|Citywide Cybersec...|   29|\n",
      "|             Default|   28|\n",
      "|W   S/Connections...|   25|\n",
      "|Green Infrastructure|   25|\n",
      "|Information Techn...|   24|\n",
      "|Dept of Environme...|   24|\n",
      "|Prosecution Division|   22|\n",
      "|Office of Energy ...|   20|\n",
      "|    Asset Management|   20|\n",
      "|     Human Resources|   20|\n",
      "|      Blue Belt Unit|   19|\n",
      "|          OCME-Admin|   19|\n",
      "|Pub Bldgs/Correct...|   18|\n",
      "|Executive Deputy Com|   18|\n",
      "|Lead Hazard Contr...|   18|\n",
      "|Environmental Hea...|   18|\n",
      "|Mis Admin,Network...|   17|\n",
      "|Sidewalk/inspecti...|   17|\n",
      "|Civilian Complain...|   17|\n",
      "| WSO-OGI Maintenance|   17|\n",
      "|Borough President...|   16|\n",
      "|  Plant Construction|   16|\n",
      "|Law Enforc.Bureau...|   16|\n",
      "|           Executive|   16|\n",
      "|Information Syste...|   16|\n",
      "|Infra-Coastal Res...|   16|\n",
      "+--------------------+-----+\n",
      "only showing top 30 rows\n",
      "\n",
      "Job Description\n",
      "+--------------------+-----+\n",
      "|     Job Description|count|\n",
      "+--------------------+-----+\n",
      "|The New York City...|   14|\n",
      "|The New York City...|    6|\n",
      "|The NYC Mayorâ€™s...|    4|\n",
      "|The New York City...|    4|\n",
      "|The New York City...|    4|\n",
      "|Providing technic...|    4|\n",
      "|Examples of Typic...|    4|\n",
      "|The New York City...|    4|\n",
      "|The New York City...|    4|\n",
      "|The NYC Departmen...|    4|\n",
      "|The NYC Departmen...|    4|\n",
      "|The NYC Departmen...|    4|\n",
      "|New York City is ...|    4|\n",
      "|This candidate wi...|    4|\n",
      "|Serve as Project ...|    4|\n",
      "|The New York City...|    4|\n",
      "|The mission of th...|    4|\n",
      "|The City of New Y...|    4|\n",
      "|New York City is ...|    4|\n",
      "|The New York City...|    4|\n",
      "|Major Responsibil...|    4|\n",
      "|The Division Tena...|    4|\n",
      "|The EEO Investiga...|    4|\n",
      "|The New York City...|    4|\n",
      "|The New York City...|    4|\n",
      "|The New York City...|    4|\n",
      "|The TLC is lookin...|    4|\n",
      "|Under the general...|    4|\n",
      "|The Department of...|    4|\n",
      "|The NYC Departmen...|    4|\n",
      "+--------------------+-----+\n",
      "only showing top 30 rows\n",
      "\n",
      "Minimum Qual Requirements\n"
     ]
    },
    {
     "name": "stdout",
     "output_type": "stream",
     "text": [
      "+-------------------------+-----+\n",
      "|Minimum Qual Requirements|count|\n",
      "+-------------------------+-----+\n",
      "|     1. A baccalaureat...|  182|\n",
      "|     1. Admission to t...|  112|\n",
      "|     (1) Four (4) year...|   87|\n",
      "|     1.  For Assignmen...|   83|\n",
      "|     Qualification Req...|   72|\n",
      "|     1. A four-year hi...|   72|\n",
      "|     Qualification Req...|   69|\n",
      "|     1. A master's deg...|   57|\n",
      "|     1. A baccalaureat...|   56|\n",
      "|     1. A baccalaureat...|   53|\n",
      "|     For Assignment Le...|   52|\n",
      "|     One year of full-...|   44|\n",
      "|     1. A four-year hi...|   41|\n",
      "|     Admission to the ...|   41|\n",
      "|     1. A baccalaureat...|   40|\n",
      "|     1. A valid New Yo...|   40|\n",
      "|     (1) A baccalaurea...|   39|\n",
      "|     1. A baccalaureat...|   37|\n",
      "|     1.  A baccalaurea...|   37|\n",
      "|     1. A masterâ€™s d...|   37|\n",
      "|     1. A masterâ€™s d...|   35|\n",
      "|     At least six year...|   34|\n",
      "|     1. A baccalaureat...|   33|\n",
      "|     1. A baccalaureat...|   32|\n",
      "|     1. A master's deg...|   30|\n",
      "|     Graduation from a...|   28|\n",
      "|     A four-year high ...|   27|\n",
      "|     Professional/vend...|   24|\n",
      "|     1. A master's deg...|   23|\n",
      "|     1. A baccalaureat...|   23|\n",
      "+-------------------------+-----+\n",
      "only showing top 30 rows\n",
      "\n",
      "Preferred Skills\n",
      "+--------------------+-----+\n",
      "|    Preferred Skills|count|\n",
      "+--------------------+-----+\n",
      "|                null|  393|\n",
      "|       ERROR: #NAME?|   41|\n",
      "|Interested candid...|   18|\n",
      "|Ability to commun...|   13|\n",
      "|1.\tKnowledge of M...|   12|\n",
      "|â€¢\tAt least five...|    8|\n",
      "|1.\tExperience wit...|    8|\n",
      "|A valid NYS Drive...|    8|\n",
      "|â€¢\tExcellent ora...|    8|\n",
      "|Experience workin...|    7|\n",
      "|Candidates must h...|    6|\n",
      "|â€¢\tStrong relati...|    6|\n",
      "|â€¢\tStrong techni...|    6|\n",
      "|The preferred can...|    6|\n",
      "|The candidate mus...|    6|\n",
      "|1)\tMS Office incl...|    6|\n",
      "|1.  Experience in...|    6|\n",
      "|Organizational, i...|    5|\n",
      "|The preferred can...|    4|\n",
      "|â€¢ Driverâ€™s li...|    4|\n",
      "|â€¢ Experience re...|    4|\n",
      "|â€¢\tThree years o...|    4|\n",
      "|Ability to code ....|    4|\n",
      "|â€¢\tStrong engine...|    4|\n",
      "|â€¢The Deputy Chi...|    4|\n",
      "|â€¢\tProficiency i...|    4|\n",
      "|Candidates must h...|    4|\n",
      "|PREFERRED SKILLS ...|    4|\n",
      "|Certification/lic...|    4|\n",
      "|â€¢Knowledge of s...|    4|\n",
      "+--------------------+-----+\n",
      "only showing top 30 rows\n",
      "\n",
      "Additional Information\n",
      "+----------------------+-----+\n",
      "|Additional Information|count|\n",
      "+----------------------+-----+\n",
      "|                  null| 1092|\n",
      "|  Appointments are ...|   87|\n",
      "|  NYCHA employees a...|   56|\n",
      "|  **IMPORTANT NOTES...|   49|\n",
      "|  **IMPORTANT NOTES...|   36|\n",
      "|  Note: This positi...|   35|\n",
      "|  Appointments are ...|   27|\n",
      "|  DEP is an equal o...|   22|\n",
      "|  Appointments are ...|   20|\n",
      "|  Mayorâ€™s Office ...|   20|\n",
      "|  Section 424-A of ...|   17|\n",
      "|  We appreciate eve...|   16|\n",
      "|  Appointments are ...|   16|\n",
      "|  **IMPORTANT NOTE ...|   15|\n",
      "|  Section 424-A of ...|   15|\n",
      "|  Appointments are ...|   14|\n",
      "|  The selected cand...|   14|\n",
      "|  Certain residency...|   14|\n",
      "|  1.\tNYCHA employee...|   12|\n",
      "|  DEP is an equal o...|   10|\n",
      "|  DEP is an equal o...|    8|\n",
      "|  DEP is an equal o...|    8|\n",
      "|  TO BE APPOINTED T...|    8|\n",
      "|  1. NYCHA employee...|    8|\n",
      "|  Certain residency...|    8|\n",
      "|  â€¢\tWilling to tr...|    8|\n",
      "|  In compliance wit...|    8|\n",
      "|  NOTE: This positi...|    7|\n",
      "|  ALL CANDIDATES MU...|    6|\n",
      "|  Section 424-A of ...|    6|\n",
      "+----------------------+-----+\n",
      "only showing top 30 rows\n",
      "\n",
      "To Apply\n",
      "+--------------------+-----+\n",
      "|            To Apply|count|\n",
      "+--------------------+-----+\n",
      "|Click the \"Apply ...|  296|\n",
      "|Click, \"APPLY NOW...|  116|\n",
      "|Click the \"Apply ...|  112|\n",
      "|To apply click \"A...|   90|\n",
      "|Click \"Apply Now\"...|   54|\n",
      "|For City employee...|   46|\n",
      "|Click on the \"App...|   43|\n",
      "|Click the â€œAppl...|   41|\n",
      "|       Apply Online.|   38|\n",
      "|To apply, please ...|   38|\n",
      "|TO APPLY, PLEASE ...|   36|\n",
      "|Click on â€œApply...|   32|\n",
      "|Please click on t...|   31|\n",
      "|        Apply Online|   25|\n",
      "|To apply click \"A...|   22|\n",
      "|Click \"Apply Now\"...|   21|\n",
      "|Click the \"apply ...|   20|\n",
      "|Click on the \"App...|   20|\n",
      "|Click the \"Apply ...|   17|\n",
      "|Click the â€˜Appl...|   17|\n",
      "|Please click the ...|   16|\n",
      "|Click on â€œApply...|   15|\n",
      "|       Apply online.|   15|\n",
      "|Click on â€œApply...|   13|\n",
      "|Click on â€œApply...|   13|\n",
      "|For City employee...|   12|\n",
      "|Candidates should...|   12|\n",
      "|Click on the \"App...|   12|\n",
      "|To apply click \"A...|   12|\n",
      "|Click on the \"App...|   11|\n",
      "+--------------------+-----+\n",
      "only showing top 30 rows\n",
      "\n",
      "Hours/Shift\n",
      "+--------------------+-----+\n",
      "|         Hours/Shift|count|\n",
      "+--------------------+-----+\n",
      "|                null| 2062|\n",
      "|            35 Hours|  134|\n",
      "|   35 hours per week|   47|\n",
      "|Day - Due to the ...|   38|\n",
      "|35 hours per week...|   36|\n",
      "|               35hrs|   33|\n",
      "|Unless otherwise ...|   24|\n",
      "|DAY, 9-5; ON OCCA...|   22|\n",
      "|Monday â€“ Friday...|   19|\n",
      "|            35 hours|   18|\n",
      "|  35 hours per week.|   17|\n",
      "|Day - Due to the ...|   15|\n",
      "|                 Day|   13|\n",
      "|35 Hours Per Week...|   12|\n",
      "|Day - Due to the ...|   11|\n",
      "|Shift depends on ...|   11|\n",
      "|40 hours per week...|   11|\n",
      "|   35 Hours per week|   11|\n",
      "|                 TBD|   10|\n",
      "|35 Hours per week...|   10|\n",
      "|   35 Hours Per Week|    9|\n",
      "|     35 Hours Weekly|    8|\n",
      "|35 hours per week...|    8|\n",
      "|  35 Hours Per Week.|    8|\n",
      "|35 Hours/ To Be D...|    7|\n",
      "|35 Hours Week/Day...|    7|\n",
      "|Monday â€“ Friday...|    6|\n",
      "|    To Be Determined|    6|\n",
      "|    35 hours a week.|    6|\n",
      "|   9:00 AM - 5:00 PM|    6|\n",
      "+--------------------+-----+\n",
      "only showing top 30 rows\n",
      "\n",
      "Work Location 1\n",
      "+--------------------+-----+\n",
      "|     Work Location 1|count|\n",
      "+--------------------+-----+\n",
      "|                null| 1588|\n",
      "|30-30 Thomson Ave...|  130|\n",
      "|     100 Gold Street|   75|\n",
      "|   55 Water St Ny Ny|   72|\n",
      "|33 Beaver St, New...|   68|\n",
      "|255 Greenwich Street|   56|\n",
      "|        New York, NY|   45|\n",
      "|        Brooklyn, NY|   43|\n",
      "|1 Police Plaza, N.Y.|   32|\n",
      "|31-00 47 Ave, 3 F...|   28|\n",
      "|59-17 Junction Bl...|   22|\n",
      "|24-55 Bklyn Qns E...|   22|\n",
      "|59-17 Junction Bl...|   20|\n",
      "|59-17 Junction Bl...|   20|\n",
      "|59-17 Junction Bl...|   18|\n",
      "|96-05 Horace Hard...|   15|\n",
      "|33 Beaver St, New...|   15|\n",
      "|                 TBD|   15|\n",
      "|2 Lafayette St., ...|   15|\n",
      "|96-05 Horace Hard...|   14|\n",
      "|1 Bay Street, Sta...|   13|\n",
      "|55 Water Street, ...|   13|\n",
      "|            Citywide|   13|\n",
      "|    TO BE DETERMINED|   13|\n",
      "|      59 Maiden Lane|   12|\n",
      "|22 Reade St. New ...|   12|\n",
      "|96-05 Horace Hard...|   12|\n",
      "|59-17 Junction Bl...|   11|\n",
      "|     180 Maiden Lane|   11|\n",
      "|Olmsted Center, Q...|   11|\n",
      "+--------------------+-----+\n",
      "only showing top 30 rows\n",
      "\n",
      "Recruitment Contact\n",
      "+-------------------+-----+\n",
      "|Recruitment Contact|count|\n",
      "+-------------------+-----+\n",
      "|               null| 2946|\n",
      "+-------------------+-----+\n",
      "\n",
      "Residency Requirement\n",
      "+---------------------+-----+\n",
      "|Residency Requirement|count|\n",
      "+---------------------+-----+\n",
      "| New York City res...| 1705|\n",
      "| New York City Res...|  637|\n",
      "| NYCHA has no resi...|  222|\n",
      "| New York City Res...|  216|\n",
      "| This position is ...|   19|\n",
      "| New York City res...|   16|\n",
      "| Residency in New ...|   15|\n",
      "| Residency in New ...|   10|\n",
      "| City Residency is...|    8|\n",
      "| New York City Res...|    7|\n",
      "|                 null|    4|\n",
      "| NYC residency is ...|    4|\n",
      "| New York City res...|    4|\n",
      "| New York City res...|    4|\n",
      "| NYCHA has no resi...|    4|\n",
      "| Residency in New ...|    3|\n",
      "| New York City res...|    3|\n",
      "| 019New York City ...|    2|\n",
      "| New York City res...|    2|\n",
      "| New York City res...|    2|\n",
      "| Must be a residen...|    2|\n",
      "| New York City res...|    2|\n",
      "| NYCHA has no Resi...|    2|\n",
      "| **A person servin...|    2|\n",
      "| New York City Res...|    2|\n",
      "| : New York City r...|    2|\n",
      "| New York City res...|    2|\n",
      "| New York City res...|    2|\n",
      "| New York City Res...|    2|\n",
      "| NYCHA has no Resi...|    2|\n",
      "+---------------------+-----+\n",
      "only showing top 30 rows\n",
      "\n"
     ]
    }
   ],
   "source": [
    "for colname in categorical_columns:\n",
    "    print(colname)\n",
    "    df.groupBy(colname).count().sort('count',ascending=False).show(30)"
   ]
  },
  {
   "cell_type": "code",
   "execution_count": 9,
   "metadata": {},
   "outputs": [
    {
     "name": "stdout",
     "output_type": "stream",
     "text": [
      "EDA finding: There are columns with very hig cardinality\n",
      "For visualization purposes, we will plot the categorical values with top 10 number of postings, and bottem 10 number of postings\n"
     ]
    }
   ],
   "source": [
    "print('EDA finding: There are columns with very hig cardinality')\n",
    "print('For visualization purposes, we will plot the categorical values with top 10 number of postings, and bottem 10 number of postings')"
   ]
  },
  {
   "cell_type": "code",
   "execution_count": 10,
   "metadata": {},
   "outputs": [
    {
     "name": "stdout",
     "output_type": "stream",
     "text": [
      "EDA finding: All salary number need to be scaled to hourly basis\n"
     ]
    }
   ],
   "source": [
    "print('EDA finding: All salary number need to be scaled to hourly basis')"
   ]
  },
  {
   "cell_type": "code",
   "execution_count": 67,
   "metadata": {},
   "outputs": [
    {
     "name": "stderr",
     "output_type": "stream",
     "text": [
      "/usr/local/lib/python3.7/dist-packages/IPython/core/pylabtools.py:132: UserWarning: constrained_layout not applied.  At least one axes collapsed to zero width or height.\n",
      "  fig.canvas.print_figure(bytes_io, **kw)\n"
     ]
    },
    {
     "data": {
      "image/png": "[encoded data removed]",
      "text/plain": [
       "<Figure size 864x576 with 1 Axes>"
      ]
     },
     "metadata": {
      "needs_background": "light"
     },
     "output_type": "display_data"
    }
   ],
   "source": [
    "for colname in categorical_columns:\n",
    "    df_to_plot = pandas_df[colname]\n",
    "\n",
    "    fig, axs = plt.subplots(constrained_layout=True)\n",
    "    fig.set_size_inches(12, 8)\n",
    "    fig.suptitle('Categorical variables')\n",
    "\n",
    "    sns.countplot(\n",
    "            data=pandas_df,\n",
    "            x='Job Category'\n",
    "        )\n",
    "plt.show()"
   ]
  },
  {
   "cell_type": "code",
   "execution_count": 18,
   "metadata": {},
   "outputs": [],
   "source": [
    "# in each category, what is top 10 and bottom 10 categories, that's the average ,"
   ]
  },
  {
   "cell_type": "code",
   "execution_count": 65,
   "metadata": {},
   "outputs": [
    {
     "data": {
      "text/plain": [
       "[Row(Job Category='Engineering, Architecture, & Planning', count=504),\n",
       " Row(Job Category='Technology, Data & Innovation', count=313),\n",
       " Row(Job Category='Legal Affairs', count=226),\n",
       " Row(Job Category='Public Safety, Inspections, & Enforcement', count=182),\n",
       " Row(Job Category='Building Operations & Maintenance', count=181),\n",
       " Row(Job Category='Finance, Accounting, & Procurement', count=169),\n",
       " Row(Job Category='Administration & Human Resources', count=134),\n",
       " Row(Job Category='Constituent Services & Community Programs', count=129),\n",
       " Row(Job Category='Health', count=125),\n",
       " Row(Job Category='Policy, Research & Analysis', count=124)]"
      ]
     },
     "execution_count": 65,
     "metadata": {},
     "output_type": "execute_result"
    }
   ],
   "source": [
    "df.groupBy(\"Job Category\").count().sort(\"count\",ascending=False).take(10)"
   ]
  },
  {
   "cell_type": "markdown",
   "metadata": {},
   "source": [
    "# Plot continuous variables"
   ]
  },
  {
   "cell_type": "markdown",
   "metadata": {},
   "source": [
    "unprocessed continuous values \n",
    "no null in salary column\n",
    "add columns salary_floor_hourly and salary_ceiling_hourly\n",
    "assumption: 8 working hours per day, 22 working days per month \n",
    "annual salary -> salary / (22*12*8)\n",
    "daily salary -> salary / (8)"
   ]
  },
  {
   "cell_type": "code",
   "execution_count": 11,
   "metadata": {},
   "outputs": [],
   "source": [
    "# def salary_converter(frequency: StringType) -> int:\n",
    "#     annual_working_hours = 2112  # 12*22*8 12 months * 22 days * 8 hours \n",
    "#     daily_working_hours = 8 \n",
    "# #     if frequency == 'Annual':\n",
    "# #         return annual_working_hours\n",
    "# #     elif frequency == 'Daily':\n",
    "# #         return daily_working_hours\n",
    "# #     else:\n",
    "# #         return 1 \n",
    "#     return 1 \n",
    "\n",
    "# didn't use udf because it's expensive "
   ]
  },
  {
   "cell_type": "markdown",
   "metadata": {},
   "source": [
    "## Salary"
   ]
  },
  {
   "cell_type": "code",
   "execution_count": 14,
   "metadata": {},
   "outputs": [],
   "source": [
    "normalized_df = df.\\\n",
    "withColumn(\"hourly_salary_floor\",\n",
    "           expr(\"\"\"`Salary Range From`/(case when `Salary Frequency` = 'Annual' then 2112 \n",
    "                           when `Salary Frequency` = 'Daily' then 8 \n",
    "                           else 1 end)\"\"\")).\\\n",
    "withColumn(\"hourly_salary_ceil\",\n",
    "           expr(\"\"\"`Salary Range To`/(case when `Salary Frequency` = 'Annual' then 2112 \n",
    "                           when `Salary Frequency` = 'Daily' then 8 \n",
    "                           else 1 end)\"\"\"))\n",
    "\n"
   ]
  },
  {
   "cell_type": "markdown",
   "metadata": {},
   "source": [
    "#### Density plots on all salary - scaled to hourly rate"
   ]
  },
  {
   "cell_type": "code",
   "execution_count": 20,
   "metadata": {},
   "outputs": [],
   "source": [
    "salary_plot_df = normalized_df.\\\n",
    "select('Job Category','hourly_salary_floor', 'hourly_salary_ceil').toPandas()\n",
    "# filter(col('Job Category')=='Technology, Data & Innovation').toPandas()"
   ]
  },
  {
   "cell_type": "code",
   "execution_count": 24,
   "metadata": {},
   "outputs": [
    {
     "data": {
      "text/plain": [
       "<matplotlib.axes._subplots.AxesSubplot at 0x405d88db38>"
      ]
     },
     "execution_count": 24,
     "metadata": {},
     "output_type": "execute_result"
    },
    {
     "data": {
      "image/png": "[encoded data removed]",
      "text/plain": [
       "<Figure size 432x288 with 1 Axes>"
      ]
     },
     "metadata": {
      "needs_background": "light"
     },
     "output_type": "display_data"
    }
   ],
   "source": [
    "sns.distplot(salary_plot_df['hourly_salary_floor'], hist=True, kde=True, \n",
    "             bins=int(180/5), color = 'darkblue', \n",
    "             hist_kws={'edgecolor':'black'},\n",
    "             kde_kws={'linewidth': 4})"
   ]
  },
  {
   "cell_type": "code",
   "execution_count": 25,
   "metadata": {},
   "outputs": [
    {
     "data": {
      "text/plain": [
       "<matplotlib.axes._subplots.AxesSubplot at 0x405e1ac588>"
      ]
     },
     "execution_count": 25,
     "metadata": {},
     "output_type": "execute_result"
    },
    {
     "data": {
      "image/png": "[encoded data removed]",
      "text/plain": [
       "<Figure size 432x288 with 1 Axes>"
      ]
     },
     "metadata": {
      "needs_background": "light"
     },
     "output_type": "display_data"
    }
   ],
   "source": [
    "sns.distplot(salary_plot_df['hourly_salary_ceil'], hist=True, kde=True, \n",
    "             bins=int(180/5), color = 'darkblue', \n",
    "             hist_kws={'edgecolor':'black'},\n",
    "             kde_kws={'linewidth': 4})"
   ]
  },
  {
   "cell_type": "markdown",
   "metadata": {},
   "source": [
    "#### Density Plot by Job Categories "
   ]
  },
  {
   "cell_type": "code",
   "execution_count": 26,
   "metadata": {},
   "outputs": [
    {
     "data": {
      "text/plain": [
       "Text(0, 0.5, 'Density')"
      ]
     },
     "execution_count": 26,
     "metadata": {},
     "output_type": "execute_result"
    },
    {
     "data": {
      "image/png": "[encoded data removed]",
      "text/plain": [
       "<Figure size 432x288 with 1 Axes>"
      ]
     },
     "metadata": {
      "needs_background": "light"
     },
     "output_type": "display_data"
    }
   ],
   "source": [
    "categories = ['Engineering, Architecture, & Planning',\n",
    "              'Technology, Data & Innovation',\n",
    "              'Legal Affairs',\n",
    "              'Public Safety, Inspections, & Enforcement',\n",
    "              'Building Operations & Maintenance',\n",
    "              'Finance, Accounting, & Procurement',\n",
    "              'Administration & Human Resources',\n",
    "              'Constituent Services & Community Programs',\n",
    "              'Health',\n",
    "              'Policy, Research & Analysis']\n",
    "\n",
    "# Iterate through the five airlines\n",
    "for category in categories:\n",
    "    # Subset to the airline\n",
    "    subset = salary_plot_df[salary_plot_df['Job Category'] == category]\n",
    "    \n",
    "    # Draw the density plot\n",
    "    sns.distplot(subset['hourly_salary_floor'], hist = False, kde = True,\n",
    "                 kde_kws = {'linewidth': 3},\n",
    "                 label = category)\n",
    "    \n",
    "# Plot formatting\n",
    "plt.legend(prop={'size': 6}, title = 'Category')\n",
    "plt.title('Density Plot with Multiple Job Categories')\n",
    "plt.xlabel('Salary floor')\n",
    "plt.ylabel('Density')"
   ]
  },
  {
   "cell_type": "markdown",
   "metadata": {},
   "source": [
    "#### Boxplot by single job category"
   ]
  },
  {
   "cell_type": "code",
   "execution_count": null,
   "metadata": {},
   "outputs": [],
   "source": []
  },
  {
   "cell_type": "markdown",
   "metadata": {},
   "source": [
    "# Missing values"
   ]
  },
  {
   "cell_type": "code",
   "execution_count": 8,
   "metadata": {},
   "outputs": [],
   "source": [
    "# From conclusion before, apply a heuristic, missing more than half: drop "
   ]
  },
  {
   "cell_type": "code",
   "execution_count": 15,
   "metadata": {},
   "outputs": [
    {
     "name": "stdout",
     "output_type": "stream",
     "text": [
      "root\n",
      " |-- Job ID: integer (nullable = true)\n",
      " |-- Agency: string (nullable = false)\n",
      " |-- Posting Type: string (nullable = false)\n",
      " |-- # Of Positions: integer (nullable = true)\n",
      " |-- Business Title: string (nullable = false)\n",
      " |-- Civil Service Title: string (nullable = false)\n",
      " |-- Title Code No: string (nullable = false)\n",
      " |-- Level: string (nullable = false)\n",
      " |-- Job Category: string (nullable = false)\n",
      " |-- Full-Time/Part-Time indicator: string (nullable = false)\n",
      " |-- Salary Range From: double (nullable = true)\n",
      " |-- Salary Range To: double (nullable = true)\n",
      " |-- Salary Frequency: string (nullable = false)\n",
      " |-- Work Location: string (nullable = false)\n",
      " |-- Division/Work Unit: string (nullable = false)\n",
      " |-- Job Description: string (nullable = false)\n",
      " |-- Minimum Qual Requirements: string (nullable = false)\n",
      " |-- Preferred Skills: string (nullable = false)\n",
      " |-- To Apply: string (nullable = false)\n",
      " |-- Residency Requirement: string (nullable = false)\n",
      " |-- Posting Date: timestamp (nullable = true)\n",
      " |-- Posting Updated: timestamp (nullable = true)\n",
      " |-- Process Date: timestamp (nullable = true)\n",
      " |-- hourly_salary_floor: double (nullable = true)\n",
      " |-- hourly_salary_ceil: double (nullable = true)\n",
      "\n"
     ]
    }
   ],
   "source": [
    "normalized_df = normalized_salary_df.drop('Additional information','Hours/Shift','Work Location 1','Recruitment Contact','Post Until')\n",
    "normalized_df.printSchema()"
   ]
  },
  {
   "cell_type": "markdown",
   "metadata": {},
   "source": [
    "#### Columns that can be imputed with missing values:\n",
    "\n",
    "Job Category: 2 rows -> 'na' \n",
    "\n",
    "Full-Time/Part-Time indicator: 'na' \n",
    "\n",
    "Minimum Qual Requirements: 'na' \n",
    "\n",
    "Preferred Skills:'na' \n",
    "\n",
    "To Apply : 'na' \n",
    "\n",
    "Residency Requirement: 'na'\n",
    "\n",
    "Posting Date: 'na'\n",
    "\n",
    "Posting Updated: 'na'\n",
    "\n",
    "Process Date : 'na'\n"
   ]
  },
  {
   "cell_type": "code",
   "execution_count": 16,
   "metadata": {},
   "outputs": [],
   "source": [
    "normalized_df = normalized_df.na.fill('na')"
   ]
  },
  {
   "cell_type": "code",
   "execution_count": 17,
   "metadata": {},
   "outputs": [
    {
     "name": "stdout",
     "output_type": "stream",
     "text": [
      "<class 'pandas.core.frame.DataFrame'>\n",
      "RangeIndex: 2946 entries, 0 to 2945\n",
      "Data columns (total 25 columns):\n",
      " #   Column                         Non-Null Count  Dtype         \n",
      "---  ------                         --------------  -----         \n",
      " 0   Job ID                         2946 non-null   int32         \n",
      " 1   Agency                         2946 non-null   object        \n",
      " 2   Posting Type                   2946 non-null   object        \n",
      " 3   # Of Positions                 2946 non-null   int32         \n",
      " 4   Business Title                 2946 non-null   object        \n",
      " 5   Civil Service Title            2946 non-null   object        \n",
      " 6   Title Code No                  2946 non-null   object        \n",
      " 7   Level                          2946 non-null   object        \n",
      " 8   Job Category                   2946 non-null   object        \n",
      " 9   Full-Time/Part-Time indicator  2946 non-null   object        \n",
      " 10  Salary Range From              2946 non-null   float64       \n",
      " 11  Salary Range To                2946 non-null   float64       \n",
      " 12  Salary Frequency               2946 non-null   object        \n",
      " 13  Work Location                  2946 non-null   object        \n",
      " 14  Division/Work Unit             2946 non-null   object        \n",
      " 15  Job Description                2946 non-null   object        \n",
      " 16  Minimum Qual Requirements      2946 non-null   object        \n",
      " 17  Preferred Skills               2946 non-null   object        \n",
      " 18  To Apply                       2946 non-null   object        \n",
      " 19  Residency Requirement          2946 non-null   object        \n",
      " 20  Posting Date                   2942 non-null   datetime64[ns]\n",
      " 21  Posting Updated                2942 non-null   datetime64[ns]\n",
      " 22  Process Date                   2942 non-null   datetime64[ns]\n",
      " 23  hourly_salary_floor            2946 non-null   float64       \n",
      " 24  hourly_salary_ceil             2946 non-null   float64       \n",
      "dtypes: datetime64[ns](3), float64(4), int32(2), object(16)\n",
      "memory usage: 552.5+ KB\n"
     ]
    }
   ],
   "source": [
    "normalized_pandas_df = normalized_df.toPandas()\n",
    "normalized_pandas_df.info()"
   ]
  },
  {
   "cell_type": "markdown",
   "metadata": {},
   "source": [
    "# Drop columns"
   ]
  },
  {
   "cell_type": "code",
   "execution_count": 11,
   "metadata": {},
   "outputs": [],
   "source": [
    "# Study correlation with salary, drop the column that are weakly correlated with salary "
   ]
  },
  {
   "cell_type": "code",
   "execution_count": 12,
   "metadata": {},
   "outputs": [],
   "source": [
    "# Columns that don't possess meaning: Job ID, Title Code No"
   ]
  },
  {
   "cell_type": "code",
   "execution_count": 23,
   "metadata": {},
   "outputs": [
    {
     "data": {
      "image/png": "[encoded data removed]",
      "text/plain": [
       "<Figure size 1368x1080 with 2 Axes>"
      ]
     },
     "metadata": {
      "needs_background": "light"
     },
     "output_type": "display_data"
    }
   ],
   "source": [
    "# plotting the correlation in python \n",
    "import numpy as np\n",
    "\n",
    "feature_cols = [colname for colname in normalized_pandas_df.columns if not colname.startswith('Salary')]\n",
    "\n",
    "df_corr = normalized_pandas_df[feature_cols].corr()\n",
    "mask = np.triu(np.ones_like(df_corr))\n",
    "\n",
    "fig, ax = plt.subplots(figsize = (19,15))\n",
    "fig.suptitle('Correlation of attributes related to T')\n",
    "sns.heatmap(df_corr,mask=mask,cmap='Blues',fmt='.2f',vmin=-1,vmax=1)\n",
    "\n",
    "plt.xticks(range(normalized_pandas_df[feature_cols].shape[1]), normalized_pandas_df[feature_cols].columns, fontsize=14, rotation=90)\n",
    "plt.yticks(range(normalized_pandas_df[feature_cols].shape[1]), normalized_pandas_df[feature_cols].columns, fontsize=14)\n",
    "plt.show()"
   ]
  },
  {
   "cell_type": "code",
   "execution_count": null,
   "metadata": {},
   "outputs": [],
   "source": [
    "normalized_salary_df = normalized_salary_df.drop()"
   ]
  },
  {
   "cell_type": "code",
   "execution_count": 37,
   "metadata": {},
   "outputs": [
    {
     "name": "stdout",
     "output_type": "stream",
     "text": [
      "root\n",
      " |-- Agency: string (nullable = true)\n",
      " |-- Posting Type: string (nullable = true)\n",
      " |-- # Of Positions: integer (nullable = true)\n",
      " |-- Business Title: string (nullable = true)\n",
      " |-- Civil Service Title: string (nullable = true)\n",
      " |-- Title Code No: string (nullable = true)\n",
      " |-- Level: string (nullable = true)\n",
      " |-- Job Category: string (nullable = true)\n",
      " |-- Full-Time/Part-Time indicator: string (nullable = true)\n",
      " |-- Salary Range From: double (nullable = true)\n",
      " |-- Salary Range To: double (nullable = true)\n",
      " |-- Salary Frequency: string (nullable = true)\n",
      " |-- Work Location: string (nullable = true)\n",
      " |-- Division/Work Unit: string (nullable = true)\n",
      " |-- Job Description: string (nullable = true)\n",
      " |-- Minimum Qual Requirements: string (nullable = true)\n",
      " |-- Preferred Skills: string (nullable = true)\n",
      " |-- Additional Information: string (nullable = true)\n",
      " |-- To Apply: string (nullable = true)\n",
      " |-- Hours/Shift: string (nullable = true)\n",
      " |-- Work Location 1: string (nullable = true)\n",
      " |-- Residency Requirement: string (nullable = true)\n",
      " |-- Posting Date: timestamp (nullable = true)\n",
      " |-- Post Until: timestamp (nullable = true)\n",
      " |-- Posting Updated: timestamp (nullable = true)\n",
      " |-- Process Date: timestamp (nullable = true)\n",
      "\n"
     ]
    }
   ],
   "source": [
    "normalized_salary_df.printSchema()"
   ]
  },
  {
   "cell_type": "code",
   "execution_count": null,
   "metadata": {},
   "outputs": [],
   "source": []
  },
  {
   "cell_type": "markdown",
   "metadata": {},
   "source": [
    "# Outliers"
   ]
  },
  {
   "cell_type": "code",
   "execution_count": 6,
   "metadata": {},
   "outputs": [],
   "source": [
    "# handle outliers"
   ]
  },
  {
   "cell_type": "code",
   "execution_count": 16,
   "metadata": {},
   "outputs": [
    {
     "name": "stdout",
     "output_type": "stream",
     "text": [
      "+------+--------------------------------------------------------------------+---------------------------------------------------------------------+\n",
      "|Job ID|Business Title                                                      |Job Category                                                         |\n",
      "+------+--------------------------------------------------------------------+---------------------------------------------------------------------+\n",
      "|399953|Cybersecurity Senior Project Manager                                |Technology, Data & Innovation                                        |\n",
      "|399953|Cybersecurity Senior Project Manager                                |Technology, Data & Innovation                                        |\n",
      "|403099|Business/Data Analyst, Bureau of Human Resources and Labor Relations|Administration & Human Resources Health Technology, Data & Innovation|\n",
      "|403099|Business/Data Analyst, Bureau of Human Resources and Labor Relations|Administration & Human Resources Health Technology, Data & Innovation|\n",
      "|403480|CRM Solutions Designer                                              |Technology, Data & Innovation                                        |\n",
      "+------+--------------------------------------------------------------------+---------------------------------------------------------------------+\n",
      "only showing top 5 rows\n",
      "\n"
     ]
    }
   ],
   "source": [
    "normalized_df.select('Job ID', 'Business Title','Job Category').filter(col('hourly_salary_floor')==0).show(5,truncate=False)\n",
    "print('Having 0 as a salary minimum is weird. At least there should be minimum wage.')"
   ]
  },
  {
   "cell_type": "code",
   "execution_count": 33,
   "metadata": {},
   "outputs": [],
   "source": []
  },
  {
   "cell_type": "code",
   "execution_count": null,
   "metadata": {},
   "outputs": [],
   "source": []
  },
  {
   "cell_type": "code",
   "execution_count": 32,
   "metadata": {},
   "outputs": [],
   "source": []
  },
  {
   "cell_type": "code",
   "execution_count": null,
   "metadata": {},
   "outputs": [],
   "source": []
  },
  {
   "cell_type": "code",
   "execution_count": null,
   "metadata": {},
   "outputs": [],
   "source": []
  },
  {
   "cell_type": "code",
   "execution_count": null,
   "metadata": {},
   "outputs": [],
   "source": []
  },
  {
   "cell_type": "code",
   "execution_count": null,
   "metadata": {},
   "outputs": [],
   "source": []
  },
  {
   "cell_type": "code",
   "execution_count": null,
   "metadata": {},
   "outputs": [],
   "source": []
  },
  {
   "cell_type": "markdown",
   "metadata": {},
   "source": [
    "# Text processing"
   ]
  },
  {
   "cell_type": "code",
   "execution_count": 8,
   "metadata": {},
   "outputs": [],
   "source": [
    "# remove punctuations and special characters, and convert everything to lower case\n",
    "# Job Description, Minimum Qual Requirements, Preferred Skills\n",
    "\n",
    "text_cleaned_df = normalized_salary_df.\\\n",
    "withColumn('Job Description',lower(regexp_replace(col('Job Description'), \"[^a-zA-Z0-9 ]\", \"\"))).\\\n",
    "withColumn('Minimum Qual Requirements',lower(regexp_replace(col('Minimum Qual Requirements'), \"[^a-zA-Z0-9 ]\", \"\"))).\\\n",
    "withColumn('Preferred Skills',lower(regexp_replace(col('Preferred Skills'), \"[^a-zA-Z0-9 ]\", \"\")))\n"
   ]
  },
  {
   "cell_type": "code",
   "execution_count": 9,
   "metadata": {},
   "outputs": [
    {
     "name": "stdout",
     "output_type": "stream",
     "text": [
      "+--------------------+-------------------------+\n",
      "|     Job Description|Minimum Qual Requirements|\n",
      "+--------------------+-------------------------+\n",
      "|division of econo...|     1a baccalaureate ...|\n",
      "+--------------------+-------------------------+\n",
      "only showing top 1 row\n",
      "\n"
     ]
    }
   ],
   "source": [
    "text_cleaned_df.select('Job Description','Minimum Qual Requirements').show(1)"
   ]
  },
  {
   "cell_type": "code",
   "execution_count": 10,
   "metadata": {},
   "outputs": [
    {
     "data": {
      "text/plain": [
       "1350"
      ]
     },
     "execution_count": 10,
     "metadata": {},
     "output_type": "execute_result"
    }
   ],
   "source": [
    "text_cleaned_df.filter(col('Minimum Qual Requirements').contains('high school')).count()\n"
   ]
  },
  {
   "cell_type": "code",
   "execution_count": 11,
   "metadata": {},
   "outputs": [],
   "source": [
    "# Dic containing degrees\n",
    "degrees = {\n",
    "    'high school':['high school'],\n",
    "    'bachelor':['baccalaureate','bachelor'],\n",
    "    'master': ['master'],\n",
    "    'doctorate':['phd','scd'],\n",
    "    'legal degree':['state bar']\n",
    "}"
   ]
  },
  {
   "cell_type": "code",
   "execution_count": 12,
   "metadata": {},
   "outputs": [],
   "source": [
    "cleaned_df_degree = text_cleaned_df.\\\n",
    "withColumn('degree_required',\n",
    "           expr(\"\"\"case when `Minimum Qual Requirements` like '%phd%' or `Minimum Qual Requirements` like '%scd%'\n",
    "                        then 'doctorate' \n",
    "                    when `Minimum Qual Requirements` like '%master%'\n",
    "                    then 'master'\n",
    "                    when `Minimum Qual Requirements` like '%baccalaureate%' or  `Minimum Qual Requirements` like '%bachelor%'\n",
    "                    then 'bachelor'\n",
    "                    when `Minimum Qual Requirements` like '%high school%'\n",
    "                    then 'high school'\n",
    "                    when `Minimum Qual Requirements` like '%state bar%'\n",
    "                    then 'legal degree'\n",
    "                    else 'No degree requirement'\n",
    "                end\"\"\"))\n"
   ]
  },
  {
   "cell_type": "code",
   "execution_count": 13,
   "metadata": {},
   "outputs": [],
   "source": [
    "# cleaned_df_degree.select('Minimum Qual Requirements','Business Title','degree_required').take(5)"
   ]
  },
  {
   "cell_type": "code",
   "execution_count": 14,
   "metadata": {},
   "outputs": [],
   "source": [
    "# correlation between degree and salary "
   ]
  },
  {
   "cell_type": "code",
   "execution_count": 18,
   "metadata": {},
   "outputs": [
    {
     "name": "stdout",
     "output_type": "stream",
     "text": [
      "+--------------------+------------------+------------------+------------------+\n",
      "|     degree_required|        avg_salary|        max_salary|        min_salary|\n",
      "+--------------------+------------------+------------------+------------------+\n",
      "|No degree require...| 43.16766260539278|110.98579545454545|             10.36|\n",
      "|           doctorate| 85.22727272727273| 85.22727272727273| 85.22727272727273|\n",
      "|              master| 48.81057772022551|110.98579545454545|24.401041666666668|\n",
      "|        legal degree|46.499655712530696| 92.04308712121212| 31.87215909090909|\n",
      "|         high school|29.706092822096814|             58.54|16.053977272727273|\n",
      "|            bachelor| 42.21221909482545|110.98579545454545|18.546401515151516|\n",
      "+--------------------+------------------+------------------+------------------+\n",
      "\n"
     ]
    }
   ],
   "source": [
    "cleaned_df_degree.groupBy('degree_required').agg(avg('hourly_salary_ceil').alias('avg_salary'),\n",
    "                                                max('hourly_salary_ceil').alias('max_salary'),\n",
    "                                                min('hourly_salary_ceil').alias('min_salary')\n",
    "                                                ).show()"
   ]
  },
  {
   "cell_type": "code",
   "execution_count": 111,
   "metadata": {},
   "outputs": [],
   "source": [
    "# skills\n",
    "# concatenate job description and preferred skills\n",
    "cleaned_df_skills = cleaned_df_degree.withColumn('skills_raw',col('Preferred Skills'))\n",
    "cleaned_df_skills_non_null = cleaned_df_skills.na.fill('na')"
   ]
  },
  {
   "cell_type": "code",
   "execution_count": 110,
   "metadata": {},
   "outputs": [
    {
     "data": {
      "text/plain": [
       "2946"
      ]
     },
     "execution_count": 110,
     "metadata": {},
     "output_type": "execute_result"
    }
   ],
   "source": [
    "cleaned_df_skills_non_null.count()"
   ]
  },
  {
   "cell_type": "code",
   "execution_count": 112,
   "metadata": {},
   "outputs": [],
   "source": [
    "from pyspark.ml.feature import StopWordsRemover, Tokenizer\n",
    "\n",
    "tokenizer = Tokenizer(inputCol=\"skills_raw\", outputCol=\"skills_words\")\n",
    "cleaned_df_skills_non_null = tokenizer.transform(cleaned_df_skills_non_null)\n"
   ]
  },
  {
   "cell_type": "code",
   "execution_count": 115,
   "metadata": {},
   "outputs": [],
   "source": [
    "remover = StopWordsRemover(inputCol='skills_words', outputCol='filtered_skills')\n",
    "cleaned_df_skills_non_null = remover.transform(cleaned_df_skills_non_null)"
   ]
  },
  {
   "cell_type": "code",
   "execution_count": 116,
   "metadata": {},
   "outputs": [
    {
     "data": {
      "text/plain": [
       "[Row(skills_words=['excellent', 'interpersonal', 'and', 'organizational', 'skills', '', 'excellent', 'analytic', 'and', 'operational', 'skills', '', 'excellent', 'writing', 'and', 'editing', 'skills', '', 'knowledge', 'of', 'government', 'procurement', 'processes', 'and', 'information', 'systems', 'desirable', '', 'foreign', 'language', 'skills', 'a', 'plus']),\n",
       " Row(skills_words=['na']),\n",
       " Row(skills_words=['1', '', 'a', 'high', 'school', 'diploma', 'or', 'ged', '', '2', '', 'cdl', 'drivers', 'license', '', '3', '', 'excellent', 'troubleshooting', 'ability', 'and', 'mechanical', 'aptitude', '', '4', '', 'excellent', 'analytical', 'and', 'organizational', 'skills', '', '5', '', 'ability', 'to', 'troubleshoot', 'various', 'types', 'of', 'vacuum', 'heating', 'equipment', '', '6', '', 'knowledge', 'of', 'steam', 'and', 'pneumatic', 'heating', 'systems', 'steam', 'and', 'hot', 'water', 'generating', 'systems', 'various', 'types', 'of', 'heat', 'air', 'and', 'water', 'pumps', '', '7', '', 'knowledge', 'of', 'maximo', 'work', 'order', 'system']),\n",
       " Row(skills_words=['1', '', 'a', 'high', 'school', 'diploma', 'or', 'ged', '', '2', '', 'cdl', 'drivers', 'license', '', '3', '', 'excellent', 'troubleshooting', 'ability', 'and', 'mechanical', 'aptitude', '', '4', '', 'excellent', 'analytical', 'and', 'organizational', 'skills', '', '5', '', 'ability', 'to', 'troubleshoot', 'various', 'types', 'of', 'vacuum', 'heating', 'equipment', '', '6', '', 'knowledge', 'of', 'steam', 'and', 'pneumatic', 'heating', 'systems', 'steam', 'and', 'hot', 'water', 'generating', 'systems', 'various', 'types', 'of', 'heat', 'air', 'and', 'water', 'pumps', '', '7', '', 'knowledge', 'of', 'maximo', 'work', 'order', 'system']),\n",
       " Row(skills_words=['na']),\n",
       " Row(skills_words=['na']),\n",
       " Row(skills_words=['strong', 'analytical', 'background', '', 'advanced', 'proficiency', 'in', 'microsoft', 'excel', 'and', 'word', 'experience', 'in', 'procurement', 'budget', 'and', 'grant', 'management', '', 'understanding', 'of', 'contract', 'management', '', '', 'strong', 'organizational', 'and', 'administrative', 'skills', 'and', '', '', 'excellent', 'oral', 'interpersonal', 'and', 'written', 'communication', '', 'skills']),\n",
       " Row(skills_words=['in', 'order', 'to', 'apply', 'for', 'this', 'position', 'the', 'candidate', 'must', 'be', 'a', 'permanent', 'associate', 'chemist', 'or', 'on', 'an', 'associate', 'chemist', 'civil', 'service', 'list', '', '', '', 'experience', 'in', 'testing', 'drinking', 'water', 'samples', 'for', 'trace', 'organic', 'contaminants', 'by', 'epaapproved', 'gas', 'chromatographic', 'methods', 'is', 'preferred', 'experience', 'in', 'testing', 'environmental', 'water', 'samples', 'for', 'trace', 'organic', 'contaminants', 'by', 'gas', 'chromatographic', 'methods', 'is', 'also', 'acceptable', 'strong', 'writing', 'and', 'communication', 'skills', 'are', 'desirable', 'as', 'well', 'as', 'familiarity', 'with', 'computer', 'programs', 'including', 'excel', 'and', 'word']),\n",
       " Row(skills_words=['1', '', 'five', 'years', 'of', 'managerial', 'and', 'supervisory', 'experience', '', '2', '', 'excellent', 'verbal', 'and', 'written', 'communication', 'skills', '', '', '3', '', 'ability', 'to', 'work', 'collaboratively', 'with', 'others', '', '4', '', 'ability', 'to', 'perform', 'detailed', 'work', 'under', 'timesensitive', 'deadlines']),\n",
       " Row(skills_words=['experience', 'with', 'law', 'manager', 'and', 'microsoft', 'office', 'applications'])]"
      ]
     },
     "execution_count": 116,
     "metadata": {},
     "output_type": "execute_result"
    }
   ],
   "source": [
    "cleaned_df_skills_non_null.select('skills_words').take(10)"
   ]
  },
  {
   "cell_type": "code",
   "execution_count": 82,
   "metadata": {},
   "outputs": [
    {
     "name": "stdout",
     "output_type": "stream",
     "text": [
      "+------+-------------------+---------+\n",
      "|Job ID|hourly_salary_floor|      col|\n",
      "+------+-------------------+---------+\n",
      "| 87990|          20.078125|excellent|\n",
      "+------+-------------------+---------+\n",
      "only showing top 1 row\n",
      "\n"
     ]
    }
   ],
   "source": [
    "cleaned_df_skills.select('Job ID','hourly_salary_floor',explode('skills_words')).show(1)"
   ]
  },
  {
   "cell_type": "code",
   "execution_count": 54,
   "metadata": {},
   "outputs": [
    {
     "name": "stdout",
     "output_type": "stream",
     "text": [
      "root\n",
      " |-- Job ID: integer (nullable = true)\n",
      " |-- Agency: string (nullable = true)\n",
      " |-- Posting Type: string (nullable = true)\n",
      " |-- # Of Positions: integer (nullable = true)\n",
      " |-- Business Title: string (nullable = true)\n",
      " |-- Civil Service Title: string (nullable = true)\n",
      " |-- Title Code No: string (nullable = true)\n",
      " |-- Level: string (nullable = true)\n",
      " |-- Job Category: string (nullable = true)\n",
      " |-- Full-Time/Part-Time indicator: string (nullable = true)\n",
      " |-- Salary Range From: double (nullable = true)\n",
      " |-- Salary Range To: double (nullable = true)\n",
      " |-- Salary Frequency: string (nullable = true)\n",
      " |-- Work Location: string (nullable = true)\n",
      " |-- Division/Work Unit: string (nullable = true)\n",
      " |-- Job Description: string (nullable = true)\n",
      " |-- Minimum Qual Requirements: string (nullable = true)\n",
      " |-- Preferred Skills: string (nullable = true)\n",
      " |-- Additional Information: string (nullable = true)\n",
      " |-- To Apply: string (nullable = true)\n",
      " |-- Hours/Shift: string (nullable = true)\n",
      " |-- Work Location 1: string (nullable = true)\n",
      " |-- Recruitment Contact: string (nullable = true)\n",
      " |-- Residency Requirement: string (nullable = true)\n",
      " |-- Posting Date: timestamp (nullable = true)\n",
      " |-- Post Until: timestamp (nullable = true)\n",
      " |-- Posting Updated: timestamp (nullable = true)\n",
      " |-- Process Date: timestamp (nullable = true)\n",
      " |-- hourly_salary_floor: double (nullable = true)\n",
      " |-- hourly_salary_ceil: double (nullable = true)\n",
      " |-- degree_required: string (nullable = false)\n",
      " |-- skills_raw: string (nullable = true)\n",
      " |-- skills_words: array (nullable = true)\n",
      " |    |-- element: string (containsNull = true)\n",
      " |-- filtered_skills: array (nullable = true)\n",
      " |    |-- element: string (containsNull = true)\n",
      "\n"
     ]
    }
   ],
   "source": [
    "cleaned_df_skills.printSchema()"
   ]
  },
  {
   "cell_type": "code",
   "execution_count": null,
   "metadata": {},
   "outputs": [],
   "source": [
    "non_skill_words = ['experience','knowledge','desirable','skill','skills','plus',\n",
    "                   'technology','organization','strong']"
   ]
  },
  {
   "cell_type": "code",
   "execution_count": null,
   "metadata": {},
   "outputs": [],
   "source": []
  },
  {
   "cell_type": "code",
   "execution_count": 44,
   "metadata": {},
   "outputs": [],
   "source": [
    "indexer = StringIndexer(inputCol='Agency',outputCol='AgencyIndex').fit(df)\n",
    "indexed_df = indexer.transform(df)\n",
    "indexed_df.select('Job ID','Job Category','Salary Range From','AgencyIndex').show(10)\n",
    "encoder = OneHotEncoder(inputCol='AgencyIndex',outputCol='AgencyVec')\n",
    "encoded_df = encoder.transform(indexed_df)\n",
    "encoded_df.select('Job ID','Job Category','Salary Range From','AgencyIndex','AgencyVec').show(10)"
   ]
  },
  {
   "cell_type": "markdown",
   "metadata": {},
   "source": [
    "### Sample function"
   ]
  },
  {
   "cell_type": "code",
   "execution_count": null,
   "metadata": {},
   "outputs": [],
   "source": [
    "# read dataset\n",
    "# "
   ]
  },
  {
   "cell_type": "code",
   "execution_count": 78,
   "metadata": {},
   "outputs": [
    {
     "ename": "NameError",
     "evalue": "name 'DataFrame' is not defined",
     "output_type": "error",
     "traceback": [
      "\u001b[0;31m---------------------------------------------------------------------------\u001b[0m",
      "\u001b[0;31mNameError\u001b[0m                                 Traceback (most recent call last)",
      "\u001b[0;32m<ipython-input-78-7aa4fca73ec7>\u001b[0m in \u001b[0;36m<module>\u001b[0;34m\u001b[0m\n\u001b[0;32m----> 1\u001b[0;31m \u001b[0;32mdef\u001b[0m \u001b[0mget_salary_frequency\u001b[0m\u001b[0;34m(\u001b[0m\u001b[0mdf\u001b[0m\u001b[0;34m:\u001b[0m \u001b[0mDataFrame\u001b[0m\u001b[0;34m)\u001b[0m \u001b[0;34m->\u001b[0m \u001b[0mlist\u001b[0m\u001b[0;34m:\u001b[0m\u001b[0;34m\u001b[0m\u001b[0;34m\u001b[0m\u001b[0m\n\u001b[0m\u001b[1;32m      2\u001b[0m     \u001b[0mrow_list\u001b[0m \u001b[0;34m=\u001b[0m \u001b[0mdf\u001b[0m\u001b[0;34m.\u001b[0m\u001b[0mselect\u001b[0m\u001b[0;34m(\u001b[0m\u001b[0;34m'Salary Frequency'\u001b[0m\u001b[0;34m)\u001b[0m\u001b[0;34m.\u001b[0m\u001b[0mdistinct\u001b[0m\u001b[0;34m(\u001b[0m\u001b[0;34m)\u001b[0m\u001b[0;34m.\u001b[0m\u001b[0mcollect\u001b[0m\u001b[0;34m(\u001b[0m\u001b[0;34m)\u001b[0m\u001b[0;34m\u001b[0m\u001b[0;34m\u001b[0m\u001b[0m\n\u001b[1;32m      3\u001b[0m     \u001b[0;32mreturn\u001b[0m \u001b[0;34m[\u001b[0m\u001b[0mrow\u001b[0m\u001b[0;34m[\u001b[0m\u001b[0;34m'Salary Frequency'\u001b[0m\u001b[0;34m]\u001b[0m \u001b[0;32mfor\u001b[0m \u001b[0mrow\u001b[0m \u001b[0;32min\u001b[0m \u001b[0mrow_list\u001b[0m\u001b[0;34m]\u001b[0m\u001b[0;34m\u001b[0m\u001b[0;34m\u001b[0m\u001b[0m\n",
      "\u001b[0;31mNameError\u001b[0m: name 'DataFrame' is not defined"
     ]
    }
   ],
   "source": [
    "def get_salary_frequency(df: DataFrame) -> list:\n",
    "    row_list = df.select('Salary Frequency').distinct().collect()\n",
    "    return [row['Salary Frequency'] for row in row_list]"
   ]
  },
  {
   "cell_type": "markdown",
   "metadata": {},
   "source": [
    "Normalize salary function"
   ]
  },
  {
   "cell_type": "markdown",
   "metadata": {},
   "source": [
    "# CREATE A SUMMARY OF TECHNIQUES AND WORKFLOW"
   ]
  },
  {
   "cell_type": "markdown",
   "metadata": {},
   "source": [
    "### Example of test function"
   ]
  },
  {
   "cell_type": "code",
   "execution_count": 65,
   "metadata": {},
   "outputs": [],
   "source": [
    "mock_data = [('A', 'Annual'), ('B', 'Daily')]\n",
    "expected_result = ['Annual', 'Daily']"
   ]
  },
  {
   "cell_type": "code",
   "execution_count": 66,
   "metadata": {},
   "outputs": [],
   "source": [
    "def test_get_salary_frequency(mock_data: list, \n",
    "                              expected_result: list,\n",
    "                              schema: list = ['id', 'Salary Frequency']):  \n",
    "    mock_df = spark.createDataFrame(data = mock_data, schema = schema)\n",
    "    assert get_salary_frequency(mock_df) == expected_result"
   ]
  },
  {
   "cell_type": "code",
   "execution_count": 74,
   "metadata": {},
   "outputs": [],
   "source": [
    "# test read dataset"
   ]
  },
  {
   "cell_type": "code",
   "execution_count": null,
   "metadata": {},
   "outputs": [],
   "source": [
    "# Normalize salary test "
   ]
  }
 ],
 "metadata": {
  "kernelspec": {
   "display_name": "Python 3",
   "language": "python",
   "name": "python3"
  },
  "language_info": {
   "codemirror_mode": {
    "name": "ipython",
    "version": 3
   },
   "file_extension": ".py",
   "mimetype": "text/x-python",
   "name": "python",
   "nbconvert_exporter": "python",
   "pygments_lexer": "ipython3",
   "version": "3.7.3"
  },
  "vscode": {
   "interpreter": {
    "hash": "00826a481c8eaf04a3d7593b967dba21fe95800de21741369716e0153ae0478b"
   }
  }
 },
 "nbformat": 4,
 "nbformat_minor": 4
}
