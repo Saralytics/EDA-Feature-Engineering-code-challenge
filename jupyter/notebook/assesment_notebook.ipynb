{
 "cells": [
  {
   "cell_type": "markdown",
   "metadata": {},
   "source": [
    "# Outline\n",
    "\n",
    "#### 1. Exploratory data analysis (EDA)\n",
    "\n",
    "1.1 Basic statistics\n",
    "\n",
    "1.2 Column without meaning / constant value\n",
    "\n",
    "1.3 Categorical variables: Distinct columns values\n",
    "\n",
    "1.4 Continuous variables: Plotting distributions\n",
    "\n",
    "#### 2. Preprocessing and Feature Engineering (functions)\n",
    "\n",
    "2.1 Handle Missing Values \n",
    "\n",
    "2.2 Handle outliers\n",
    "\n",
    "2.3 Drop features \n",
    "\n",
    "2.4 Text processing \n",
    "\n",
    "2.5 Encoding categorical variables \n",
    "\n",
    "\n",
    "#### 3. Answering the challenges\n",
    "#### 4. Tests\n",
    "\n",
    "Zhaoxue Li 2023 April 6th"
   ]
  },
  {
   "cell_type": "markdown",
   "metadata": {},
   "source": [
    "# 0. Import libraries and read data"
   ]
  },
  {
   "cell_type": "code",
   "execution_count": 96,
   "metadata": {},
   "outputs": [],
   "source": [
    "import seaborn as sns\n",
    "import matplotlib.pyplot as plt\n",
    "import findspark\n",
    "findspark.init()\n",
    "\n",
    "from pyspark.sql import SparkSession\n",
    "spark = SparkSession.builder. \\\n",
    "    appName(\"pyspark-1\"). \\\n",
    "    getOrCreate()\n",
    "\n",
    "from pyspark.sql import DataFrame, Column\n",
    "from pyspark.sql.types import *\n",
    "from pyspark.sql.functions import *\n",
    "from pyspark.sql.window import Window\n",
    "\n",
    "from pyspark.ml.feature import (VectorAssembler,VectorIndexer,\n",
    "                                OneHotEncoder,StringIndexer)\n"
   ]
  },
  {
   "cell_type": "markdown",
   "metadata": {},
   "source": [
    "### Read data"
   ]
  },
  {
   "cell_type": "code",
   "execution_count": 2,
   "metadata": {},
   "outputs": [],
   "source": [
    "# Upon first inspecting the dataframe using default load options, \n",
    "# I found that the data is not parsed correctly due to commas and quotes in fields.\n",
    "# Adding quotes option solved it\n",
    "\n",
    "df = spark.read.options(header=True, inferSchema=True)\\\n",
    ".option(\"quote\", \"\\\"\")\\\n",
    ".option(\"escape\", \"\\\"\")\\\n",
    ".csv(\"/dataset/nyc-jobs.csv\")"
   ]
  },
  {
   "cell_type": "code",
   "execution_count": 3,
   "metadata": {},
   "outputs": [
    {
     "name": "stdout",
     "output_type": "stream",
     "text": [
      "There are 2946 rows in dataframe\n",
      "---------------------------------\n",
      "Below is the dataframe schema:\n",
      "root\n",
      " |-- Job ID: integer (nullable = true)\n",
      " |-- Agency: string (nullable = true)\n",
      " |-- Posting Type: string (nullable = true)\n",
      " |-- # Of Positions: integer (nullable = true)\n",
      " |-- Business Title: string (nullable = true)\n",
      " |-- Civil Service Title: string (nullable = true)\n",
      " |-- Title Code No: string (nullable = true)\n",
      " |-- Level: string (nullable = true)\n",
      " |-- Job Category: string (nullable = true)\n",
      " |-- Full-Time/Part-Time indicator: string (nullable = true)\n",
      " |-- Salary Range From: double (nullable = true)\n",
      " |-- Salary Range To: double (nullable = true)\n",
      " |-- Salary Frequency: string (nullable = true)\n",
      " |-- Work Location: string (nullable = true)\n",
      " |-- Division/Work Unit: string (nullable = true)\n",
      " |-- Job Description: string (nullable = true)\n",
      " |-- Minimum Qual Requirements: string (nullable = true)\n",
      " |-- Preferred Skills: string (nullable = true)\n",
      " |-- Additional Information: string (nullable = true)\n",
      " |-- To Apply: string (nullable = true)\n",
      " |-- Hours/Shift: string (nullable = true)\n",
      " |-- Work Location 1: string (nullable = true)\n",
      " |-- Recruitment Contact: string (nullable = true)\n",
      " |-- Residency Requirement: string (nullable = true)\n",
      " |-- Posting Date: timestamp (nullable = true)\n",
      " |-- Post Until: timestamp (nullable = true)\n",
      " |-- Posting Updated: timestamp (nullable = true)\n",
      " |-- Process Date: timestamp (nullable = true)\n",
      "\n"
     ]
    }
   ],
   "source": [
    "print('There are {} rows in dataframe'.format(df.count()))\n",
    "print('---------------------------------')\n",
    "print('Below is the dataframe schema:')\n",
    "df.printSchema()"
   ]
  },
  {
   "cell_type": "markdown",
   "metadata": {},
   "source": [
    "# 1.EDA"
   ]
  },
  {
   "cell_type": "markdown",
   "metadata": {},
   "source": [
    "1.1 Basic Statistics "
   ]
  },
  {
   "cell_type": "code",
   "execution_count": null,
   "metadata": {},
   "outputs": [],
   "source": [
    "# Convert the spark dataframe to pandas dataframe to use the built-in statistics functions\n",
    "\n",
    "pandas_df = df.toPandas()\n",
    "pandas_df.describe().show()"
   ]
  },
  {
   "cell_type": "code",
   "execution_count": 12,
   "metadata": {},
   "outputs": [
    {
     "name": "stdout",
     "output_type": "stream",
     "text": [
      "<class 'pandas.core.frame.DataFrame'>\n",
      "RangeIndex: 2946 entries, 0 to 2945\n",
      "Data columns (total 28 columns):\n",
      " #   Column                         Non-Null Count  Dtype         \n",
      "---  ------                         --------------  -----         \n",
      " 0   Job ID                         2946 non-null   int32         \n",
      " 1   Agency                         2946 non-null   object        \n",
      " 2   Posting Type                   2946 non-null   object        \n",
      " 3   # Of Positions                 2946 non-null   int32         \n",
      " 4   Business Title                 2946 non-null   object        \n",
      " 5   Civil Service Title            2946 non-null   object        \n",
      " 6   Title Code No                  2946 non-null   object        \n",
      " 7   Level                          2946 non-null   object        \n",
      " 8   Job Category                   2944 non-null   object        \n",
      " 9   Full-Time/Part-Time indicator  2751 non-null   object        \n",
      " 10  Salary Range From              2946 non-null   float64       \n",
      " 11  Salary Range To                2946 non-null   float64       \n",
      " 12  Salary Frequency               2946 non-null   object        \n",
      " 13  Work Location                  2946 non-null   object        \n",
      " 14  Division/Work Unit             2946 non-null   object        \n",
      " 15  Job Description                2946 non-null   object        \n",
      " 16  Minimum Qual Requirements      2926 non-null   object        \n",
      " 17  Preferred Skills               2553 non-null   object        \n",
      " 18  Additional Information         1854 non-null   object        \n",
      " 19  To Apply                       2945 non-null   object        \n",
      " 20  Hours/Shift                    884 non-null    object        \n",
      " 21  Work Location 1                1358 non-null   object        \n",
      " 22  Recruitment Contact            0 non-null      object        \n",
      " 23  Residency Requirement          2942 non-null   object        \n",
      " 24  Posting Date                   2942 non-null   datetime64[ns]\n",
      " 25  Post Until                     871 non-null    datetime64[ns]\n",
      " 26  Posting Updated                2942 non-null   datetime64[ns]\n",
      " 27  Process Date                   2942 non-null   datetime64[ns]\n",
      "dtypes: datetime64[ns](4), float64(2), int32(2), object(20)\n",
      "memory usage: 621.5+ KB\n"
     ]
    }
   ],
   "source": [
    "# Datatypes and null values of each column \n",
    "\n",
    "pandas_df.info()"
   ]
  },
  {
   "cell_type": "markdown",
   "metadata": {},
   "source": [
    "#### EDA finding 1: Of the important numeric value Salary Range, there is very big variance. There might be data quality issue becuase the min salary ranges from 0\n",
    "#### EDA finding 2: Columns ['Additional information','Hours/Shift','Work Location 1','Recruitment Contact','Post Until'] have significant portion missing, or completely missing values. Consider dropping these columns\n",
    "#### EDA finding 3: Other columns with missing values, consider imputing "
   ]
  },
  {
   "cell_type": "markdown",
   "metadata": {},
   "source": [
    "1.2 Columns without meaning / with constant values"
   ]
  },
  {
   "cell_type": "code",
   "execution_count": 13,
   "metadata": {},
   "outputs": [
    {
     "name": "stdout",
     "output_type": "stream",
     "text": [
      "EDA finding 4: Recruitment Contact is a column which only has 1 value [None]. Need to drop column\n"
     ]
    }
   ],
   "source": [
    "for i in pandas_df.columns:\n",
    "    if len(pandas_df[i].unique()) == 1:\n",
    "        print('EDA finding 4: {} is a column which only has 1 value {}. Need to drop column'.format(i,pandas_df[i].unique()))"
   ]
  },
  {
   "cell_type": "code",
   "execution_count": 14,
   "metadata": {},
   "outputs": [],
   "source": [
    "# pandas_df['Process Date'].unique()"
   ]
  },
  {
   "cell_type": "markdown",
   "metadata": {},
   "source": [
    "1.3 Categorical values"
   ]
  },
  {
   "cell_type": "code",
   "execution_count": 15,
   "metadata": {},
   "outputs": [],
   "source": [
    "# distinct categorical values - visualize \n",
    "numerical_columns = [i for i in pandas_df.columns if (pandas_df[i].dtypes == \"float64\" or pandas_df[i].dtypes == \"int32\")]\n",
    "categorical_columns = [i for i in pandas_df.columns if pandas_df[i].dtypes == \"object\"]"
   ]
  },
  {
   "cell_type": "code",
   "execution_count": 15,
   "metadata": {},
   "outputs": [
    {
     "name": "stdout",
     "output_type": "stream",
     "text": [
      "Agency\n",
      "+--------------------+-----+\n",
      "|              Agency|count|\n",
      "+--------------------+-----+\n",
      "|DEPT OF ENVIRONME...|  655|\n",
      "|NYC HOUSING AUTHO...|  231|\n",
      "|DEPT OF HEALTH/ME...|  188|\n",
      "|DEPARTMENT OF TRA...|  183|\n",
      "|DEPT OF DESIGN & ...|  142|\n",
      "|TAXI & LIMOUSINE ...|  134|\n",
      "|ADMIN FOR CHILDRE...|  108|\n",
      "|DEPT OF INFO TECH...|  107|\n",
      "|      LAW DEPARTMENT|   95|\n",
      "|HOUSING PRESERVAT...|   86|\n",
      "|OFFICE OF THE COM...|   64|\n",
      "|   POLICE DEPARTMENT|   64|\n",
      "|OFFICE OF MANAGEM...|   58|\n",
      "|NYC EMPLOYEES RET...|   54|\n",
      "|DEPARTMENT OF INV...|   53|\n",
      "|DEPARTMENT OF BUS...|   52|\n",
      "|DEPARTMENT OF COR...|   51|\n",
      "|DEPT OF PARKS & R...|   48|\n",
      "|DEPARTMENT OF CIT...|   45|\n",
      "|DEPT OF CITYWIDE ...|   42|\n",
      "|DEPARTMENT OF SAN...|   40|\n",
      "|DEPT OF YOUTH & C...|   38|\n",
      "|DEPARTMENT FOR TH...|   36|\n",
      "|HUMAN RIGHTS COMM...|   34|\n",
      "|HRA/DEPT OF SOCIA...|   31|\n",
      "|FINANCIAL INFO SV...|   31|\n",
      "|MAYORS OFFICE OF ...|   28|\n",
      "|ADMIN TRIALS AND ...|   25|\n",
      "|DEPARTMENT OF FIN...|   24|\n",
      "|DEPARTMENT OF PRO...|   23|\n",
      "+--------------------+-----+\n",
      "only showing top 30 rows\n",
      "\n",
      "Posting Type\n",
      "+------------+-----+\n",
      "|Posting Type|count|\n",
      "+------------+-----+\n",
      "|    Internal| 1684|\n",
      "|    External| 1262|\n",
      "+------------+-----+\n",
      "\n",
      "Business Title\n",
      "+--------------------+-----+\n",
      "|      Business Title|count|\n",
      "+--------------------+-----+\n",
      "|Assistant Civil E...|   33|\n",
      "|     Project Manager|   29|\n",
      "|        College Aide|   24|\n",
      "|Construction Proj...|   22|\n",
      "| ACCOUNTABLE MANAGER|   20|\n",
      "|Confidential Inve...|   18|\n",
      "|Watershed Maintainer|   17|\n",
      "|        Investigator|   17|\n",
      "|Prosecuting Attorney|   16|\n",
      "|Senior Project Ma...|   15|\n",
      "|Stationary Engine...|   13|\n",
      "|      Budget Analyst|   12|\n",
      "|COMPUTER SPECIALI...|   12|\n",
      "|    Civil Engineer 2|   12|\n",
      "|    Civil Engineer 3|   11|\n",
      "|     Deputy Director|   11|\n",
      "|      Data Scientist|   11|\n",
      "|Administrative As...|   11|\n",
      "|Information Repre...|   10|\n",
      "|     PROGRAM MANAGER|   10|\n",
      "|Engineering Techn...|   10|\n",
      "|Assistant General...|   10|\n",
      "|      Policy Analyst|   10|\n",
      "|Community Coordin...|   10|\n",
      "|     Agency Attorney|   10|\n",
      "|         Electrician|    9|\n",
      "|  Executive Director|    8|\n",
      "|Assistant Environ...|    8|\n",
      "|            Director|    8|\n",
      "| Mechanical Engineer|    8|\n",
      "+--------------------+-----+\n",
      "only showing top 30 rows\n",
      "\n",
      "Civil Service Title\n",
      "+--------------------+-----+\n",
      "| Civil Service Title|count|\n",
      "+--------------------+-----+\n",
      "|COMMUNITY COORDIN...|  182|\n",
      "|     AGENCY ATTORNEY|  112|\n",
      "|      CIVIL ENGINEER|   87|\n",
      "|CITY RESEARCH SCI...|   83|\n",
      "|  CLERICAL ASSOCIATE|   72|\n",
      "|CONSTRUCTION PROJ...|   72|\n",
      "| COMMUNITY ASSOCIATE|   69|\n",
      "|ADMINISTRATIVE PR...|   58|\n",
      "|COMPUTER SYSTEMS ...|   57|\n",
      "|ADMINISTRATIVE ST...|   53|\n",
      "|PRINCIPAL ADMINIS...|   53|\n",
      "|BUDGET ANALYST (OMB)|   52|\n",
      "|COLLEGE AIDE (ALL...|   52|\n",
      "|ADMINISTRATIVE EN...|   50|\n",
      "|ADMINISTRATIVE BU...|   48|\n",
      "|ASSISTANT CIVIL E...|   45|\n",
      "|ASSOCIATE PROJECT...|   44|\n",
      "|EXECUTIVE AGENCY ...|   41|\n",
      "|CONFIDENTIAL INVE...|   41|\n",
      "|COMPUTER SPECIALI...|   39|\n",
      "|       STAFF ANALYST|   37|\n",
      "|ASSOCIATE STAFF A...|   35|\n",
      "|ADMINISTRATIVE CO...|   34|\n",
      "|ASSISTANT CORPORA...|   33|\n",
      "|     PROJECT MANAGER|   33|\n",
      "| PROCUREMENT ANALYST|   32|\n",
      "|AGENCY ATTORNEY I...|   28|\n",
      "|WATERSHED MAINTAINER|   27|\n",
      "|RESEARCH PROJECTS...|   24|\n",
      "|CERTIFIED IT ADMI...|   24|\n",
      "+--------------------+-----+\n",
      "only showing top 30 rows\n",
      "\n",
      "Title Code No\n",
      "+-------------+-----+\n",
      "|Title Code No|count|\n",
      "+-------------+-----+\n",
      "|        56058|  182|\n",
      "|        30087|  112|\n",
      "|        20215|   87|\n",
      "|        21744|   83|\n",
      "|        34202|   72|\n",
      "|        10251|   72|\n",
      "|        56057|   69|\n",
      "|        10050|   57|\n",
      "|        10124|   53|\n",
      "|         6088|   52|\n",
      "|        10209|   52|\n",
      "|        10015|   50|\n",
      "|        20210|   45|\n",
      "|        22427|   44|\n",
      "|        95005|   41|\n",
      "|        31143|   41|\n",
      "|        10009|   40|\n",
      "|        13632|   39|\n",
      "|        8300B|   37|\n",
      "|        12626|   37|\n",
      "|        12627|   35|\n",
      "|        82991|   34|\n",
      "|        22426|   33|\n",
      "|        12158|   32|\n",
      "|         6503|   30|\n",
      "|        30086|   28|\n",
      "|        91011|   27|\n",
      "|        0527A|   24|\n",
      "|        13652|   24|\n",
      "|        31220|   23|\n",
      "+-------------+-----+\n",
      "only showing top 30 rows\n",
      "\n",
      "Level\n",
      "+-----+-----+\n",
      "|Level|count|\n",
      "+-----+-----+\n",
      "|    0| 1112|\n",
      "|    1|  521|\n",
      "|    2|  505|\n",
      "|    3|  299|\n",
      "|   M1|  161|\n",
      "|   M2|  109|\n",
      "|   M3|  103|\n",
      "|    4|   47|\n",
      "|   M4|   40|\n",
      "|   M5|   28|\n",
      "|   M7|   16|\n",
      "|   4A|    2|\n",
      "|   M6|    2|\n",
      "|   4B|    1|\n",
      "+-----+-----+\n",
      "\n",
      "Job Category\n",
      "+--------------------+-----+\n",
      "|        Job Category|count|\n",
      "+--------------------+-----+\n",
      "|Engineering, Arch...|  504|\n",
      "|Technology, Data ...|  313|\n",
      "|       Legal Affairs|  226|\n",
      "|Public Safety, In...|  182|\n",
      "|Building Operatio...|  181|\n",
      "|Finance, Accounti...|  169|\n",
      "|Administration & ...|  134|\n",
      "|Constituent Servi...|  129|\n",
      "|              Health|  125|\n",
      "|Policy, Research ...|  124|\n",
      "|Finance, Accounti...|   63|\n",
      "|     Social Services|   62|\n",
      "|Engineering, Arch...|   60|\n",
      "|Engineering, Arch...|   31|\n",
      "|Engineering, Arch...|   31|\n",
      "|Technology, Data ...|   28|\n",
      "|Information Techn...|   28|\n",
      "|Legal Affairs Pol...|   26|\n",
      "|Policy, Research ...|   25|\n",
      "|Communications & ...|   24|\n",
      "|Health Policy, Re...|   23|\n",
      "|Health Public Saf...|   21|\n",
      "|Administration & ...|   20|\n",
      "|Building Operatio...|   18|\n",
      "|Engineering, Arch...|   14|\n",
      "|Communications & ...|   14|\n",
      "|Clerical & Admini...|   13|\n",
      "|Administration & ...|   13|\n",
      "|Administration & ...|   11|\n",
      "|Constituent Servi...|   11|\n",
      "+--------------------+-----+\n",
      "only showing top 30 rows\n",
      "\n",
      "Full-Time/Part-Time indicator\n",
      "+-----------------------------+-----+\n",
      "|Full-Time/Part-Time indicator|count|\n",
      "+-----------------------------+-----+\n",
      "|                            F| 2625|\n",
      "|                         null|  195|\n",
      "|                            P|  126|\n",
      "+-----------------------------+-----+\n",
      "\n",
      "Salary Frequency\n",
      "+----------------+-----+\n",
      "|Salary Frequency|count|\n",
      "+----------------+-----+\n",
      "|          Annual| 2712|\n",
      "|          Hourly|  195|\n",
      "|           Daily|   39|\n",
      "+----------------+-----+\n",
      "\n",
      "Work Location\n",
      "+--------------------+-----+\n",
      "|       Work Location|count|\n",
      "+--------------------+-----+\n",
      "|96-05 Horace Hard...|  262|\n",
      "|59-17 Junction Bl...|  206|\n",
      "|30-30 Thomson Ave...|  142|\n",
      "|  1 Centre St., N.Y.|  123|\n",
      "|   55 Water St Ny Ny|  120|\n",
      "|33 Beaver St, New...|  110|\n",
      "|255 Greenwich Street|   96|\n",
      "|100 Church St., N.Y.|   88|\n",
      "|     100 Gold Street|   86|\n",
      "|150 William Stree...|   76|\n",
      "|   42-09 28th Street|   63|\n",
      "|2 Lafayette St., ...|   55|\n",
      "|335 Adams Street,...|   54|\n",
      "| 110 William St. N Y|   52|\n",
      "|     22 Reade St, Ny|   44|\n",
      "|    5 Manhattan West|   43|\n",
      "|253 Broadway New ...|   43|\n",
      "|1 Police Plaza, N.Y.|   37|\n",
      "|  75-20 Astoria Blvd|   37|\n",
      "|        2 Metro Tech|   37|\n",
      "|120 Broadway, New...|   37|\n",
      "|421 East 26th Str...|   36|\n",
      "|31-00 47 Ave, 3 F...|   34|\n",
      "|      59 Maiden Lane|   32|\n",
      "|      80 Maiden Lane|   30|\n",
      "|  NYC - All Boroughs|   27|\n",
      "|356 Flushing Ave,...|   24|\n",
      "|350 Jay St, Brook...|   24|\n",
      "|66 John Street, N...|   23|\n",
      "|24-55 Bklyn Qns E...|   22|\n",
      "+--------------------+-----+\n",
      "only showing top 30 rows\n",
      "\n",
      "Division/Work Unit\n",
      "+--------------------+-----+\n",
      "|  Division/Work Unit|count|\n",
      "+--------------------+-----+\n",
      "|Executive Management|   56|\n",
      "|Central Brookly C...|   36|\n",
      "|      Law Department|   32|\n",
      "|      Administration|   31|\n",
      "|Citywide Cybersec...|   29|\n",
      "|             Default|   28|\n",
      "|W   S/Connections...|   25|\n",
      "|Green Infrastructure|   25|\n",
      "|Information Techn...|   24|\n",
      "|Dept of Environme...|   24|\n",
      "|Prosecution Division|   22|\n",
      "|Office of Energy ...|   20|\n",
      "|    Asset Management|   20|\n",
      "|     Human Resources|   20|\n",
      "|      Blue Belt Unit|   19|\n",
      "|          OCME-Admin|   19|\n",
      "|Pub Bldgs/Correct...|   18|\n",
      "|Executive Deputy Com|   18|\n",
      "|Lead Hazard Contr...|   18|\n",
      "|Environmental Hea...|   18|\n",
      "|Mis Admin,Network...|   17|\n",
      "|Sidewalk/inspecti...|   17|\n",
      "|Civilian Complain...|   17|\n",
      "| WSO-OGI Maintenance|   17|\n",
      "|Borough President...|   16|\n",
      "|  Plant Construction|   16|\n",
      "|Law Enforc.Bureau...|   16|\n",
      "|           Executive|   16|\n",
      "|Information Syste...|   16|\n",
      "|Infra-Coastal Res...|   16|\n",
      "+--------------------+-----+\n",
      "only showing top 30 rows\n",
      "\n",
      "Job Description\n",
      "+--------------------+-----+\n",
      "|     Job Description|count|\n",
      "+--------------------+-----+\n",
      "|The New York City...|   14|\n",
      "|The New York City...|    6|\n",
      "|The NYC Mayorâ€™s...|    4|\n",
      "|The New York City...|    4|\n",
      "|The New York City...|    4|\n",
      "|Providing technic...|    4|\n",
      "|Examples of Typic...|    4|\n",
      "|The New York City...|    4|\n",
      "|The New York City...|    4|\n",
      "|The NYC Departmen...|    4|\n",
      "|The NYC Departmen...|    4|\n",
      "|The NYC Departmen...|    4|\n",
      "|New York City is ...|    4|\n",
      "|This candidate wi...|    4|\n",
      "|Serve as Project ...|    4|\n",
      "|The New York City...|    4|\n",
      "|The mission of th...|    4|\n",
      "|The City of New Y...|    4|\n",
      "|New York City is ...|    4|\n",
      "|The New York City...|    4|\n",
      "|Major Responsibil...|    4|\n",
      "|The Division Tena...|    4|\n",
      "|The EEO Investiga...|    4|\n",
      "|The New York City...|    4|\n",
      "|The New York City...|    4|\n",
      "|The New York City...|    4|\n",
      "|The TLC is lookin...|    4|\n",
      "|Under the general...|    4|\n",
      "|The Department of...|    4|\n",
      "|The NYC Departmen...|    4|\n",
      "+--------------------+-----+\n",
      "only showing top 30 rows\n",
      "\n",
      "Minimum Qual Requirements\n"
     ]
    },
    {
     "name": "stdout",
     "output_type": "stream",
     "text": [
      "+-------------------------+-----+\n",
      "|Minimum Qual Requirements|count|\n",
      "+-------------------------+-----+\n",
      "|     1. A baccalaureat...|  182|\n",
      "|     1. Admission to t...|  112|\n",
      "|     (1) Four (4) year...|   87|\n",
      "|     1.  For Assignmen...|   83|\n",
      "|     Qualification Req...|   72|\n",
      "|     1. A four-year hi...|   72|\n",
      "|     Qualification Req...|   69|\n",
      "|     1. A master's deg...|   57|\n",
      "|     1. A baccalaureat...|   56|\n",
      "|     1. A baccalaureat...|   53|\n",
      "|     For Assignment Le...|   52|\n",
      "|     One year of full-...|   44|\n",
      "|     1. A four-year hi...|   41|\n",
      "|     Admission to the ...|   41|\n",
      "|     1. A baccalaureat...|   40|\n",
      "|     1. A valid New Yo...|   40|\n",
      "|     (1) A baccalaurea...|   39|\n",
      "|     1. A baccalaureat...|   37|\n",
      "|     1.  A baccalaurea...|   37|\n",
      "|     1. A masterâ€™s d...|   37|\n",
      "|     1. A masterâ€™s d...|   35|\n",
      "|     At least six year...|   34|\n",
      "|     1. A baccalaureat...|   33|\n",
      "|     1. A baccalaureat...|   32|\n",
      "|     1. A master's deg...|   30|\n",
      "|     Graduation from a...|   28|\n",
      "|     A four-year high ...|   27|\n",
      "|     Professional/vend...|   24|\n",
      "|     1. A master's deg...|   23|\n",
      "|     1. A baccalaureat...|   23|\n",
      "+-------------------------+-----+\n",
      "only showing top 30 rows\n",
      "\n",
      "Preferred Skills\n",
      "+--------------------+-----+\n",
      "|    Preferred Skills|count|\n",
      "+--------------------+-----+\n",
      "|                null|  393|\n",
      "|       ERROR: #NAME?|   41|\n",
      "|Interested candid...|   18|\n",
      "|Ability to commun...|   13|\n",
      "|1.\tKnowledge of M...|   12|\n",
      "|â€¢\tAt least five...|    8|\n",
      "|1.\tExperience wit...|    8|\n",
      "|A valid NYS Drive...|    8|\n",
      "|â€¢\tExcellent ora...|    8|\n",
      "|Experience workin...|    7|\n",
      "|Candidates must h...|    6|\n",
      "|â€¢\tStrong relati...|    6|\n",
      "|â€¢\tStrong techni...|    6|\n",
      "|The preferred can...|    6|\n",
      "|The candidate mus...|    6|\n",
      "|1)\tMS Office incl...|    6|\n",
      "|1.  Experience in...|    6|\n",
      "|Organizational, i...|    5|\n",
      "|The preferred can...|    4|\n",
      "|â€¢ Driverâ€™s li...|    4|\n",
      "|â€¢ Experience re...|    4|\n",
      "|â€¢\tThree years o...|    4|\n",
      "|Ability to code ....|    4|\n",
      "|â€¢\tStrong engine...|    4|\n",
      "|â€¢The Deputy Chi...|    4|\n",
      "|â€¢\tProficiency i...|    4|\n",
      "|Candidates must h...|    4|\n",
      "|PREFERRED SKILLS ...|    4|\n",
      "|Certification/lic...|    4|\n",
      "|â€¢Knowledge of s...|    4|\n",
      "+--------------------+-----+\n",
      "only showing top 30 rows\n",
      "\n",
      "Additional Information\n",
      "+----------------------+-----+\n",
      "|Additional Information|count|\n",
      "+----------------------+-----+\n",
      "|                  null| 1092|\n",
      "|  Appointments are ...|   87|\n",
      "|  NYCHA employees a...|   56|\n",
      "|  **IMPORTANT NOTES...|   49|\n",
      "|  **IMPORTANT NOTES...|   36|\n",
      "|  Note: This positi...|   35|\n",
      "|  Appointments are ...|   27|\n",
      "|  DEP is an equal o...|   22|\n",
      "|  Appointments are ...|   20|\n",
      "|  Mayorâ€™s Office ...|   20|\n",
      "|  Section 424-A of ...|   17|\n",
      "|  We appreciate eve...|   16|\n",
      "|  Appointments are ...|   16|\n",
      "|  **IMPORTANT NOTE ...|   15|\n",
      "|  Section 424-A of ...|   15|\n",
      "|  Appointments are ...|   14|\n",
      "|  The selected cand...|   14|\n",
      "|  Certain residency...|   14|\n",
      "|  1.\tNYCHA employee...|   12|\n",
      "|  DEP is an equal o...|   10|\n",
      "|  DEP is an equal o...|    8|\n",
      "|  DEP is an equal o...|    8|\n",
      "|  TO BE APPOINTED T...|    8|\n",
      "|  1. NYCHA employee...|    8|\n",
      "|  Certain residency...|    8|\n",
      "|  â€¢\tWilling to tr...|    8|\n",
      "|  In compliance wit...|    8|\n",
      "|  NOTE: This positi...|    7|\n",
      "|  ALL CANDIDATES MU...|    6|\n",
      "|  Section 424-A of ...|    6|\n",
      "+----------------------+-----+\n",
      "only showing top 30 rows\n",
      "\n",
      "To Apply\n",
      "+--------------------+-----+\n",
      "|            To Apply|count|\n",
      "+--------------------+-----+\n",
      "|Click the \"Apply ...|  296|\n",
      "|Click, \"APPLY NOW...|  116|\n",
      "|Click the \"Apply ...|  112|\n",
      "|To apply click \"A...|   90|\n",
      "|Click \"Apply Now\"...|   54|\n",
      "|For City employee...|   46|\n",
      "|Click on the \"App...|   43|\n",
      "|Click the â€œAppl...|   41|\n",
      "|       Apply Online.|   38|\n",
      "|To apply, please ...|   38|\n",
      "|TO APPLY, PLEASE ...|   36|\n",
      "|Click on â€œApply...|   32|\n",
      "|Please click on t...|   31|\n",
      "|        Apply Online|   25|\n",
      "|To apply click \"A...|   22|\n",
      "|Click \"Apply Now\"...|   21|\n",
      "|Click the \"apply ...|   20|\n",
      "|Click on the \"App...|   20|\n",
      "|Click the \"Apply ...|   17|\n",
      "|Click the â€˜Appl...|   17|\n",
      "|Please click the ...|   16|\n",
      "|Click on â€œApply...|   15|\n",
      "|       Apply online.|   15|\n",
      "|Click on â€œApply...|   13|\n",
      "|Click on â€œApply...|   13|\n",
      "|For City employee...|   12|\n",
      "|Candidates should...|   12|\n",
      "|Click on the \"App...|   12|\n",
      "|To apply click \"A...|   12|\n",
      "|Click on the \"App...|   11|\n",
      "+--------------------+-----+\n",
      "only showing top 30 rows\n",
      "\n",
      "Hours/Shift\n",
      "+--------------------+-----+\n",
      "|         Hours/Shift|count|\n",
      "+--------------------+-----+\n",
      "|                null| 2062|\n",
      "|            35 Hours|  134|\n",
      "|   35 hours per week|   47|\n",
      "|Day - Due to the ...|   38|\n",
      "|35 hours per week...|   36|\n",
      "|               35hrs|   33|\n",
      "|Unless otherwise ...|   24|\n",
      "|DAY, 9-5; ON OCCA...|   22|\n",
      "|Monday â€“ Friday...|   19|\n",
      "|            35 hours|   18|\n",
      "|  35 hours per week.|   17|\n",
      "|Day - Due to the ...|   15|\n",
      "|                 Day|   13|\n",
      "|35 Hours Per Week...|   12|\n",
      "|Day - Due to the ...|   11|\n",
      "|Shift depends on ...|   11|\n",
      "|40 hours per week...|   11|\n",
      "|   35 Hours per week|   11|\n",
      "|                 TBD|   10|\n",
      "|35 Hours per week...|   10|\n",
      "|   35 Hours Per Week|    9|\n",
      "|     35 Hours Weekly|    8|\n",
      "|35 hours per week...|    8|\n",
      "|  35 Hours Per Week.|    8|\n",
      "|35 Hours/ To Be D...|    7|\n",
      "|35 Hours Week/Day...|    7|\n",
      "|Monday â€“ Friday...|    6|\n",
      "|    To Be Determined|    6|\n",
      "|    35 hours a week.|    6|\n",
      "|   9:00 AM - 5:00 PM|    6|\n",
      "+--------------------+-----+\n",
      "only showing top 30 rows\n",
      "\n",
      "Work Location 1\n",
      "+--------------------+-----+\n",
      "|     Work Location 1|count|\n",
      "+--------------------+-----+\n",
      "|                null| 1588|\n",
      "|30-30 Thomson Ave...|  130|\n",
      "|     100 Gold Street|   75|\n",
      "|   55 Water St Ny Ny|   72|\n",
      "|33 Beaver St, New...|   68|\n",
      "|255 Greenwich Street|   56|\n",
      "|        New York, NY|   45|\n",
      "|        Brooklyn, NY|   43|\n",
      "|1 Police Plaza, N.Y.|   32|\n",
      "|31-00 47 Ave, 3 F...|   28|\n",
      "|59-17 Junction Bl...|   22|\n",
      "|24-55 Bklyn Qns E...|   22|\n",
      "|59-17 Junction Bl...|   20|\n",
      "|59-17 Junction Bl...|   20|\n",
      "|59-17 Junction Bl...|   18|\n",
      "|96-05 Horace Hard...|   15|\n",
      "|33 Beaver St, New...|   15|\n",
      "|                 TBD|   15|\n",
      "|2 Lafayette St., ...|   15|\n",
      "|96-05 Horace Hard...|   14|\n",
      "|1 Bay Street, Sta...|   13|\n",
      "|55 Water Street, ...|   13|\n",
      "|            Citywide|   13|\n",
      "|    TO BE DETERMINED|   13|\n",
      "|      59 Maiden Lane|   12|\n",
      "|22 Reade St. New ...|   12|\n",
      "|96-05 Horace Hard...|   12|\n",
      "|59-17 Junction Bl...|   11|\n",
      "|     180 Maiden Lane|   11|\n",
      "|Olmsted Center, Q...|   11|\n",
      "+--------------------+-----+\n",
      "only showing top 30 rows\n",
      "\n",
      "Recruitment Contact\n",
      "+-------------------+-----+\n",
      "|Recruitment Contact|count|\n",
      "+-------------------+-----+\n",
      "|               null| 2946|\n",
      "+-------------------+-----+\n",
      "\n",
      "Residency Requirement\n",
      "+---------------------+-----+\n",
      "|Residency Requirement|count|\n",
      "+---------------------+-----+\n",
      "| New York City res...| 1705|\n",
      "| New York City Res...|  637|\n",
      "| NYCHA has no resi...|  222|\n",
      "| New York City Res...|  216|\n",
      "| This position is ...|   19|\n",
      "| New York City res...|   16|\n",
      "| Residency in New ...|   15|\n",
      "| Residency in New ...|   10|\n",
      "| City Residency is...|    8|\n",
      "| New York City Res...|    7|\n",
      "|                 null|    4|\n",
      "| NYC residency is ...|    4|\n",
      "| New York City res...|    4|\n",
      "| New York City res...|    4|\n",
      "| NYCHA has no resi...|    4|\n",
      "| Residency in New ...|    3|\n",
      "| New York City res...|    3|\n",
      "| 019New York City ...|    2|\n",
      "| New York City res...|    2|\n",
      "| New York City res...|    2|\n",
      "| Must be a residen...|    2|\n",
      "| New York City res...|    2|\n",
      "| NYCHA has no Resi...|    2|\n",
      "| **A person servin...|    2|\n",
      "| New York City Res...|    2|\n",
      "| : New York City r...|    2|\n",
      "| New York City res...|    2|\n",
      "| New York City res...|    2|\n",
      "| New York City Res...|    2|\n",
      "| NYCHA has no Resi...|    2|\n",
      "+---------------------+-----+\n",
      "only showing top 30 rows\n",
      "\n"
     ]
    }
   ],
   "source": [
    "for colname in categorical_columns:\n",
    "    print(colname)\n",
    "    df.groupBy(colname).count().sort('count',ascending=False).show(30)"
   ]
  },
  {
   "cell_type": "code",
   "execution_count": 9,
   "metadata": {},
   "outputs": [
    {
     "name": "stdout",
     "output_type": "stream",
     "text": [
      "EDA finding: There are columns with very hig cardinality\n",
      "For visualization purposes, we will plot the categorical values with top 10 number of postings, and bottem 10 number of postings\n"
     ]
    }
   ],
   "source": [
    "print('EDA finding: There are columns with very hig cardinality')\n",
    "print('For visualization purposes, we will plot the categorical values with top 10 number of postings, and bottem 10 number of postings')"
   ]
  },
  {
   "cell_type": "code",
   "execution_count": 10,
   "metadata": {},
   "outputs": [
    {
     "name": "stdout",
     "output_type": "stream",
     "text": [
      "EDA finding: All salary number need to be scaled to hourly basis\n"
     ]
    }
   ],
   "source": [
    "print('EDA finding: All salary number need to be scaled to hourly basis')"
   ]
  },
  {
   "cell_type": "code",
   "execution_count": 67,
   "metadata": {},
   "outputs": [
    {
     "name": "stderr",
     "output_type": "stream",
     "text": [
      "/usr/local/lib/python3.7/dist-packages/IPython/core/pylabtools.py:132: UserWarning: constrained_layout not applied.  At least one axes collapsed to zero width or height.\n",
      "  fig.canvas.print_figure(bytes_io, **kw)\n"
     ]
    },
    {
     "data": {
      "image/png": "[encoded data removed]",
      "text/plain": [
       "<Figure size 864x576 with 1 Axes>"
      ]
     },
     "metadata": {
      "needs_background": "light"
     },
     "output_type": "display_data"
    }
   ],
   "source": [
    "for colname in categorical_columns:\n",
    "    df_to_plot = pandas_df[colname]\n",
    "\n",
    "    fig, axs = plt.subplots(constrained_layout=True)\n",
    "    fig.set_size_inches(12, 8)\n",
    "    fig.suptitle('Categorical variables')\n",
    "\n",
    "    sns.countplot(\n",
    "            data=pandas_df,\n",
    "            x='Job Category'\n",
    "        )\n",
    "plt.show()"
   ]
  },
  {
   "cell_type": "code",
   "execution_count": 18,
   "metadata": {},
   "outputs": [],
   "source": [
    "# in each category, what is top 10 and bottom 10 categories, that's the average ,"
   ]
  },
  {
   "cell_type": "code",
   "execution_count": 65,
   "metadata": {},
   "outputs": [
    {
     "data": {
      "text/plain": [
       "[Row(Job Category='Engineering, Architecture, & Planning', count=504),\n",
       " Row(Job Category='Technology, Data & Innovation', count=313),\n",
       " Row(Job Category='Legal Affairs', count=226),\n",
       " Row(Job Category='Public Safety, Inspections, & Enforcement', count=182),\n",
       " Row(Job Category='Building Operations & Maintenance', count=181),\n",
       " Row(Job Category='Finance, Accounting, & Procurement', count=169),\n",
       " Row(Job Category='Administration & Human Resources', count=134),\n",
       " Row(Job Category='Constituent Services & Community Programs', count=129),\n",
       " Row(Job Category='Health', count=125),\n",
       " Row(Job Category='Policy, Research & Analysis', count=124)]"
      ]
     },
     "execution_count": 65,
     "metadata": {},
     "output_type": "execute_result"
    }
   ],
   "source": [
    "df.groupBy(\"Job Category\").count().sort(\"count\",ascending=False).take(10)"
   ]
  },
  {
   "cell_type": "markdown",
   "metadata": {},
   "source": [
    "# Plot continuous variables"
   ]
  },
  {
   "cell_type": "markdown",
   "metadata": {},
   "source": [
    "unprocessed continuous values \n",
    "no null in salary column\n",
    "add columns salary_floor_hourly and salary_ceiling_hourly\n",
    "assumption: 8 working hours per day, 22 working days per month \n",
    "annual salary -> salary / (22*12*8)\n",
    "daily salary -> salary / (8)"
   ]
  },
  {
   "cell_type": "code",
   "execution_count": 11,
   "metadata": {},
   "outputs": [],
   "source": [
    "# def salary_converter(frequency: StringType) -> int:\n",
    "#     annual_working_hours = 2112  # 12*22*8 12 months * 22 days * 8 hours \n",
    "#     daily_working_hours = 8 \n",
    "# #     if frequency == 'Annual':\n",
    "# #         return annual_working_hours\n",
    "# #     elif frequency == 'Daily':\n",
    "# #         return daily_working_hours\n",
    "# #     else:\n",
    "# #         return 1 \n",
    "#     return 1 \n",
    "\n",
    "# didn't use udf because it's expensive "
   ]
  },
  {
   "cell_type": "markdown",
   "metadata": {},
   "source": [
    "## Salary"
   ]
  },
  {
   "cell_type": "code",
   "execution_count": 48,
   "metadata": {},
   "outputs": [],
   "source": [
    "normalized_df = df.\\\n",
    "withColumn(\"hourly_salary_floor\",\n",
    "           expr(\"\"\"`Salary Range From`/(case when `Salary Frequency` = 'Annual' then 2112 \n",
    "                           when `Salary Frequency` = 'Daily' then 8 \n",
    "                           else 1 end)\"\"\")).\\\n",
    "withColumn(\"hourly_salary_ceil\",\n",
    "           expr(\"\"\"`Salary Range To`/(case when `Salary Frequency` = 'Annual' then 2112 \n",
    "                           when `Salary Frequency` = 'Daily' then 8 \n",
    "                           else 1 end)\"\"\"))\n",
    "\n"
   ]
  },
  {
   "cell_type": "markdown",
   "metadata": {},
   "source": [
    "#### Density plots on all salary - scaled to hourly rate"
   ]
  },
  {
   "cell_type": "code",
   "execution_count": 11,
   "metadata": {},
   "outputs": [],
   "source": [
    "salary_plot_df = normalized_df.\\\n",
    "select('Job Category','hourly_salary_floor', 'hourly_salary_ceil').toPandas()\n",
    "# filter(col('Job Category')=='Technology, Data & Innovation').toPandas()"
   ]
  },
  {
   "cell_type": "code",
   "execution_count": 15,
   "metadata": {},
   "outputs": [
    {
     "data": {
      "image/png": "[encoded data removed]",
      "text/plain": [
       "<Figure size 720x432 with 1 Axes>"
      ]
     },
     "metadata": {
      "needs_background": "light"
     },
     "output_type": "display_data"
    }
   ],
   "source": [
    "fig = plt.figure(figsize=(10,6))\n",
    "sns.distplot(salary_plot_df['hourly_salary_floor'], \n",
    "             hist=True, \n",
    "             kde=True, \n",
    "             bins=int(180/5), color = 'red', \n",
    "             label='hourly_salary_floor',\n",
    "             hist_kws={'edgecolor':'black'},\n",
    "             kde_kws={'linewidth': 4})\n",
    "\n",
    "sns.distplot(salary_plot_df['hourly_salary_ceil'],\n",
    "             hist=True,\n",
    "             kde=True,\n",
    "             bins=int(180/5), color = 'blue',\n",
    "             label='hourly_salary_ceil',\n",
    "             hist_kws={'edgecolor':'black'},\n",
    "             kde_kws={'linewidth': 4})\n",
    "fig.legend()\n",
    "plt.show()"
   ]
  },
  {
   "cell_type": "markdown",
   "metadata": {},
   "source": [
    "#### Density Plot by Job Categories "
   ]
  },
  {
   "cell_type": "code",
   "execution_count": 26,
   "metadata": {},
   "outputs": [
    {
     "data": {
      "text/plain": [
       "Text(0, 0.5, 'Density')"
      ]
     },
     "execution_count": 26,
     "metadata": {},
     "output_type": "execute_result"
    },
    {
     "data": {
      "image/png": "[encoded data removed]",
      "text/plain": [
       "<Figure size 432x288 with 1 Axes>"
      ]
     },
     "metadata": {
      "needs_background": "light"
     },
     "output_type": "display_data"
    }
   ],
   "source": [
    "categories = ['Engineering, Architecture, & Planning',\n",
    "              'Technology, Data & Innovation',\n",
    "              'Legal Affairs',\n",
    "              'Public Safety, Inspections, & Enforcement',\n",
    "              'Building Operations & Maintenance',\n",
    "              'Finance, Accounting, & Procurement',\n",
    "              'Administration & Human Resources',\n",
    "              'Constituent Services & Community Programs',\n",
    "              'Health',\n",
    "              'Policy, Research & Analysis']\n",
    "\n",
    "# Iterate through the five airlines\n",
    "for category in categories:\n",
    "    # Subset to the airline\n",
    "    subset = salary_plot_df[salary_plot_df['Job Category'] == category]\n",
    "    \n",
    "    # Draw the density plot\n",
    "    sns.distplot(subset['hourly_salary_floor'], hist = False, kde = True,\n",
    "                 kde_kws = {'linewidth': 3},\n",
    "                 label = category)\n",
    "    \n",
    "# Plot formatting\n",
    "plt.legend(prop={'size': 6}, title = 'Category')\n",
    "plt.title('Density Plot with Multiple Job Categories')\n",
    "plt.xlabel('Salary floor')\n",
    "plt.ylabel('Density')"
   ]
  },
  {
   "cell_type": "markdown",
   "metadata": {},
   "source": [
    "#### Boxplot by single job category"
   ]
  },
  {
   "cell_type": "code",
   "execution_count": 16,
   "metadata": {},
   "outputs": [],
   "source": [
    "# subset = salary_plot_df[salary_plot_df['Job Category'] == category]"
   ]
  },
  {
   "cell_type": "markdown",
   "metadata": {},
   "source": [
    "# 2. Preprocessing and Feature Engineering (functions)"
   ]
  },
  {
   "cell_type": "markdown",
   "metadata": {},
   "source": [
    "### 2.1 Handle Missing Values"
   ]
  },
  {
   "cell_type": "code",
   "execution_count": 8,
   "metadata": {},
   "outputs": [],
   "source": [
    "# From conclusion before, apply a heuristic, missing more than half: drop "
   ]
  },
  {
   "cell_type": "code",
   "execution_count": 18,
   "metadata": {},
   "outputs": [
    {
     "name": "stdout",
     "output_type": "stream",
     "text": [
      "root\n",
      " |-- Job ID: integer (nullable = true)\n",
      " |-- Agency: string (nullable = true)\n",
      " |-- Posting Type: string (nullable = true)\n",
      " |-- # Of Positions: integer (nullable = true)\n",
      " |-- Business Title: string (nullable = true)\n",
      " |-- Civil Service Title: string (nullable = true)\n",
      " |-- Title Code No: string (nullable = true)\n",
      " |-- Level: string (nullable = true)\n",
      " |-- Job Category: string (nullable = true)\n",
      " |-- Full-Time/Part-Time indicator: string (nullable = true)\n",
      " |-- Salary Range From: double (nullable = true)\n",
      " |-- Salary Range To: double (nullable = true)\n",
      " |-- Salary Frequency: string (nullable = true)\n",
      " |-- Work Location: string (nullable = true)\n",
      " |-- Division/Work Unit: string (nullable = true)\n",
      " |-- Job Description: string (nullable = true)\n",
      " |-- Minimum Qual Requirements: string (nullable = true)\n",
      " |-- Preferred Skills: string (nullable = true)\n",
      " |-- To Apply: string (nullable = true)\n",
      " |-- Residency Requirement: string (nullable = true)\n",
      " |-- Posting Date: timestamp (nullable = true)\n",
      " |-- Posting Updated: timestamp (nullable = true)\n",
      " |-- Process Date: timestamp (nullable = true)\n",
      " |-- hourly_salary_floor: double (nullable = true)\n",
      " |-- hourly_salary_ceil: double (nullable = true)\n",
      "\n"
     ]
    }
   ],
   "source": [
    "normalized_df = normalized_df.drop('Additional information','Hours/Shift','Work Location 1','Recruitment Contact','Post Until')\n",
    "normalized_df.printSchema()"
   ]
  },
  {
   "cell_type": "markdown",
   "metadata": {},
   "source": [
    "#### Columns that can be imputed with missing values:\n",
    "\n",
    "Job Category: 2 rows -> 'na' \n",
    "\n",
    "Full-Time/Part-Time indicator: 'na' \n",
    "\n",
    "Minimum Qual Requirements: 'na' \n",
    "\n",
    "Preferred Skills:'na' \n",
    "\n",
    "To Apply : 'na' \n",
    "\n",
    "Residency Requirement: 'na'\n",
    "\n",
    "Posting Date: 'na'\n",
    "\n",
    "Posting Updated: 'na'\n",
    "\n",
    "Process Date : 'na'\n"
   ]
  },
  {
   "cell_type": "code",
   "execution_count": 19,
   "metadata": {},
   "outputs": [],
   "source": [
    "normalized_df = normalized_df.na.fill('na')"
   ]
  },
  {
   "cell_type": "code",
   "execution_count": null,
   "metadata": {},
   "outputs": [],
   "source": []
  },
  {
   "cell_type": "code",
   "execution_count": 20,
   "metadata": {},
   "outputs": [
    {
     "name": "stdout",
     "output_type": "stream",
     "text": [
      "<class 'pandas.core.frame.DataFrame'>\n",
      "RangeIndex: 2946 entries, 0 to 2945\n",
      "Data columns (total 25 columns):\n",
      " #   Column                         Non-Null Count  Dtype         \n",
      "---  ------                         --------------  -----         \n",
      " 0   Job ID                         2946 non-null   int32         \n",
      " 1   Agency                         2946 non-null   object        \n",
      " 2   Posting Type                   2946 non-null   object        \n",
      " 3   # Of Positions                 2946 non-null   int32         \n",
      " 4   Business Title                 2946 non-null   object        \n",
      " 5   Civil Service Title            2946 non-null   object        \n",
      " 6   Title Code No                  2946 non-null   object        \n",
      " 7   Level                          2946 non-null   object        \n",
      " 8   Job Category                   2946 non-null   object        \n",
      " 9   Full-Time/Part-Time indicator  2946 non-null   object        \n",
      " 10  Salary Range From              2946 non-null   float64       \n",
      " 11  Salary Range To                2946 non-null   float64       \n",
      " 12  Salary Frequency               2946 non-null   object        \n",
      " 13  Work Location                  2946 non-null   object        \n",
      " 14  Division/Work Unit             2946 non-null   object        \n",
      " 15  Job Description                2946 non-null   object        \n",
      " 16  Minimum Qual Requirements      2946 non-null   object        \n",
      " 17  Preferred Skills               2946 non-null   object        \n",
      " 18  To Apply                       2946 non-null   object        \n",
      " 19  Residency Requirement          2946 non-null   object        \n",
      " 20  Posting Date                   2942 non-null   datetime64[ns]\n",
      " 21  Posting Updated                2942 non-null   datetime64[ns]\n",
      " 22  Process Date                   2942 non-null   datetime64[ns]\n",
      " 23  hourly_salary_floor            2946 non-null   float64       \n",
      " 24  hourly_salary_ceil             2946 non-null   float64       \n",
      "dtypes: datetime64[ns](3), float64(4), int32(2), object(16)\n",
      "memory usage: 552.5+ KB\n"
     ]
    }
   ],
   "source": [
    "normalized_pandas_df = normalized_df.toPandas()\n",
    "normalized_pandas_df.info()"
   ]
  },
  {
   "cell_type": "markdown",
   "metadata": {},
   "source": [
    "# Drop columns"
   ]
  },
  {
   "cell_type": "code",
   "execution_count": 21,
   "metadata": {},
   "outputs": [],
   "source": [
    "# Study correlation with salary, drop the column that are weakly correlated with salary "
   ]
  },
  {
   "cell_type": "code",
   "execution_count": 22,
   "metadata": {},
   "outputs": [],
   "source": [
    "# Columns that don't possess meaning: Job ID, Title Code No"
   ]
  },
  {
   "cell_type": "code",
   "execution_count": 23,
   "metadata": {},
   "outputs": [],
   "source": [
    "normalized_df = normalized_df.drop('Salary Range From','Salary Range To')\n",
    "normalized_pandas_df = normalized_pandas_df.drop(['Salary Range From','Salary Range To'],axis=1)"
   ]
  },
  {
   "cell_type": "code",
   "execution_count": 32,
   "metadata": {},
   "outputs": [
    {
     "data": {
      "image/png": "[encoded data removed]",
      "text/plain": [
       "<Figure size 360x360 with 2 Axes>"
      ]
     },
     "metadata": {
      "needs_background": "light"
     },
     "output_type": "display_data"
    }
   ],
   "source": [
    "# plotting the correlation in python \n",
    "import numpy as np\n",
    "\n",
    "feature_cols = [i for i in normalized_pandas_df.columns if (normalized_pandas_df[i].dtypes == \"float64\" or normalized_pandas_df[i].dtypes == \"int32\")]\n",
    "\n",
    "df_corr = normalized_pandas_df[feature_cols].corr()\n",
    "mask = np.triu(np.ones_like(df_corr))\n",
    "\n",
    "fig, ax = plt.subplots(figsize = (5,5))\n",
    "fig.suptitle('Correlation of attributes related to T')\n",
    "sns.heatmap(df_corr,mask=mask,cmap='icefire',fmt='.2f',vmin=-1,vmax=1)\n",
    "\n",
    "plt.xticks(range(normalized_pandas_df[feature_cols].shape[1]), normalized_pandas_df[feature_cols].columns, fontsize=14, rotation=90)\n",
    "plt.yticks(range(normalized_pandas_df[feature_cols].shape[1]), normalized_pandas_df[feature_cols].columns, fontsize=14)\n",
    "plt.show()"
   ]
  },
  {
   "cell_type": "code",
   "execution_count": null,
   "metadata": {},
   "outputs": [],
   "source": [
    "# Use box plot to see the correlation between categorical and continuous variables"
   ]
  },
  {
   "cell_type": "code",
   "execution_count": 29,
   "metadata": {},
   "outputs": [
    {
     "data": {
      "text/plain": [
       "<matplotlib.axes._subplots.AxesSubplot at 0x407a269e10>"
      ]
     },
     "execution_count": 29,
     "metadata": {},
     "output_type": "execute_result"
    },
    {
     "data": {
      "image/png": "[encoded data removed]",
      "text/plain": [
       "<Figure size 432x288 with 1 Axes>"
      ]
     },
     "metadata": {
      "needs_background": "light"
     },
     "output_type": "display_data"
    }
   ],
   "source": [
    "feature_col = 'Full-Time/Part-Time indicator'\n",
    "\n",
    "normalized_pandas_df.boxplot(column='hourly_salary_floor',by=feature_col,)"
   ]
  },
  {
   "cell_type": "code",
   "execution_count": null,
   "metadata": {},
   "outputs": [],
   "source": []
  },
  {
   "cell_type": "code",
   "execution_count": null,
   "metadata": {},
   "outputs": [],
   "source": [
    "normalized_salary_df = normalized_salary_df.drop('Job ID','Title Code No')"
   ]
  },
  {
   "cell_type": "code",
   "execution_count": 37,
   "metadata": {},
   "outputs": [
    {
     "name": "stdout",
     "output_type": "stream",
     "text": [
      "root\n",
      " |-- Agency: string (nullable = true)\n",
      " |-- Posting Type: string (nullable = true)\n",
      " |-- # Of Positions: integer (nullable = true)\n",
      " |-- Business Title: string (nullable = true)\n",
      " |-- Civil Service Title: string (nullable = true)\n",
      " |-- Title Code No: string (nullable = true)\n",
      " |-- Level: string (nullable = true)\n",
      " |-- Job Category: string (nullable = true)\n",
      " |-- Full-Time/Part-Time indicator: string (nullable = true)\n",
      " |-- Salary Range From: double (nullable = true)\n",
      " |-- Salary Range To: double (nullable = true)\n",
      " |-- Salary Frequency: string (nullable = true)\n",
      " |-- Work Location: string (nullable = true)\n",
      " |-- Division/Work Unit: string (nullable = true)\n",
      " |-- Job Description: string (nullable = true)\n",
      " |-- Minimum Qual Requirements: string (nullable = true)\n",
      " |-- Preferred Skills: string (nullable = true)\n",
      " |-- Additional Information: string (nullable = true)\n",
      " |-- To Apply: string (nullable = true)\n",
      " |-- Hours/Shift: string (nullable = true)\n",
      " |-- Work Location 1: string (nullable = true)\n",
      " |-- Residency Requirement: string (nullable = true)\n",
      " |-- Posting Date: timestamp (nullable = true)\n",
      " |-- Post Until: timestamp (nullable = true)\n",
      " |-- Posting Updated: timestamp (nullable = true)\n",
      " |-- Process Date: timestamp (nullable = true)\n",
      "\n"
     ]
    }
   ],
   "source": [
    "normalized_salary_df.printSchema()"
   ]
  },
  {
   "cell_type": "markdown",
   "metadata": {},
   "source": [
    "# Apart from visualization, we can analyze feature importance automatically to select features. Will put this section in the end since it would require feature encoding"
   ]
  },
  {
   "cell_type": "markdown",
   "metadata": {},
   "source": [
    "# Outliers"
   ]
  },
  {
   "cell_type": "code",
   "execution_count": 6,
   "metadata": {},
   "outputs": [],
   "source": [
    "# handle outliers"
   ]
  },
  {
   "cell_type": "code",
   "execution_count": 30,
   "metadata": {},
   "outputs": [
    {
     "name": "stdout",
     "output_type": "stream",
     "text": [
      "+------+--------------------------------------------------------------------+---------------------------------------------------------------------+\n",
      "|Job ID|Business Title                                                      |Job Category                                                         |\n",
      "+------+--------------------------------------------------------------------+---------------------------------------------------------------------+\n",
      "|399953|Cybersecurity Senior Project Manager                                |Technology, Data & Innovation                                        |\n",
      "|399953|Cybersecurity Senior Project Manager                                |Technology, Data & Innovation                                        |\n",
      "|403099|Business/Data Analyst, Bureau of Human Resources and Labor Relations|Administration & Human Resources Health Technology, Data & Innovation|\n",
      "|403099|Business/Data Analyst, Bureau of Human Resources and Labor Relations|Administration & Human Resources Health Technology, Data & Innovation|\n",
      "|403480|CRM Solutions Designer                                              |Technology, Data & Innovation                                        |\n",
      "+------+--------------------------------------------------------------------+---------------------------------------------------------------------+\n",
      "only showing top 5 rows\n",
      "\n",
      "Having 0 as a salary minimum is weird. At least there should be minimum wage.\n"
     ]
    }
   ],
   "source": [
    "normalized_df.select('Job ID', 'Business Title','Job Category').filter(col('hourly_salary_floor')==0).show(5,truncate=False)\n",
    "print('Having 0 as a salary minimum is weird. At least there should be minimum wage.')"
   ]
  },
  {
   "cell_type": "code",
   "execution_count": 31,
   "metadata": {},
   "outputs": [],
   "source": [
    "normalized_df = normalized_df.filter(col('hourly_salary_floor')!=0)"
   ]
  },
  {
   "cell_type": "markdown",
   "metadata": {},
   "source": [
    "When it comes to feature enginnering ( beyond the most basics), there are many ways, some are heuristic based, some are machine learning based. Here I applied pretty basic techniques.\n",
    "\n",
    "For outlier removal, we can remove data beyond IQR * 1.5, we can use IsolationForest from scikit-learn library"
   ]
  },
  {
   "cell_type": "markdown",
   "metadata": {},
   "source": [
    "# Text processing"
   ]
  },
  {
   "cell_type": "markdown",
   "metadata": {},
   "source": [
    "#### Extract degree information"
   ]
  },
  {
   "cell_type": "code",
   "execution_count": 33,
   "metadata": {},
   "outputs": [
    {
     "name": "stdout",
     "output_type": "stream",
     "text": [
      "+--------------------+-------------------------+\n",
      "|     Job Description|Minimum Qual Requirements|\n",
      "+--------------------+-------------------------+\n",
      "|division of econo...|     1a baccalaureate ...|\n",
      "+--------------------+-------------------------+\n",
      "only showing top 1 row\n",
      "\n"
     ]
    }
   ],
   "source": [
    "text_cleaned_df.select('Job Description','Minimum Qual Requirements').show(1)"
   ]
  },
  {
   "cell_type": "code",
   "execution_count": 34,
   "metadata": {},
   "outputs": [
    {
     "data": {
      "text/plain": [
       "1348"
      ]
     },
     "execution_count": 34,
     "metadata": {},
     "output_type": "execute_result"
    }
   ],
   "source": [
    "text_cleaned_df.filter(col('Minimum Qual Requirements').contains('high school')).count()\n"
   ]
  },
  {
   "cell_type": "code",
   "execution_count": 35,
   "metadata": {},
   "outputs": [],
   "source": [
    "# Dic containing degrees\n",
    "degrees = {\n",
    "    'high school':['high school'],\n",
    "    'bachelor':['baccalaureate','bachelor'],\n",
    "    'master': ['master'],\n",
    "    'doctorate':['phd','scd'],\n",
    "    'legal degree':['state bar']\n",
    "}"
   ]
  },
  {
   "cell_type": "code",
   "execution_count": 36,
   "metadata": {},
   "outputs": [],
   "source": [
    "cleaned_df_degree = text_cleaned_df.\\\n",
    "withColumn('degree_required',\n",
    "           expr(\"\"\"case when `Minimum Qual Requirements` like '%phd%' or `Minimum Qual Requirements` like '%scd%'\n",
    "                        then 'doctorate' \n",
    "                    when `Minimum Qual Requirements` like '%master%'\n",
    "                    then 'master'\n",
    "                    when `Minimum Qual Requirements` like '%baccalaureate%' or  `Minimum Qual Requirements` like '%bachelor%'\n",
    "                    then 'bachelor'\n",
    "                    when `Minimum Qual Requirements` like '%high school%'\n",
    "                    then 'high school'\n",
    "                    when `Minimum Qual Requirements` like '%state bar%'\n",
    "                    then 'legal degree'\n",
    "                    else 'No degree requirement'\n",
    "                end\"\"\"))\n"
   ]
  },
  {
   "cell_type": "code",
   "execution_count": null,
   "metadata": {},
   "outputs": [],
   "source": [
    "#### Extract skills, create a different dataframe because in this approach, i will explode the column"
   ]
  },
  {
   "cell_type": "code",
   "execution_count": 43,
   "metadata": {},
   "outputs": [],
   "source": [
    "# skills\n",
    "# concatenate job description and preferred skills\n",
    "cleaned_df_skills = cleaned_df_degree.withColumn('skills_raw',col('Preferred Skills'))\n",
    "cleaned_df_skills_non_null = cleaned_df_skills.na.fill('na')"
   ]
  },
  {
   "cell_type": "code",
   "execution_count": 44,
   "metadata": {},
   "outputs": [
    {
     "data": {
      "text/plain": [
       "2930"
      ]
     },
     "execution_count": 44,
     "metadata": {},
     "output_type": "execute_result"
    }
   ],
   "source": [
    "cleaned_df_skills_non_null.count()"
   ]
  },
  {
   "cell_type": "code",
   "execution_count": 45,
   "metadata": {},
   "outputs": [],
   "source": [
    "from pyspark.ml.feature import StopWordsRemover, Tokenizer\n",
    "\n",
    "tokenizer = Tokenizer(inputCol=\"skills_raw\", outputCol=\"skills_words\")\n",
    "cleaned_df_skills_non_null = tokenizer.transform(cleaned_df_skills_non_null)\n"
   ]
  },
  {
   "cell_type": "code",
   "execution_count": 46,
   "metadata": {},
   "outputs": [],
   "source": [
    "remover = StopWordsRemover(inputCol='skills_words', outputCol='filtered_skills')\n",
    "cleaned_df_skills_non_null = remover.transform(cleaned_df_skills_non_null)"
   ]
  },
  {
   "cell_type": "code",
   "execution_count": 47,
   "metadata": {},
   "outputs": [
    {
     "name": "stdout",
     "output_type": "stream",
     "text": [
      "+-------------------+------------------+--------------------+\n",
      "|hourly_salary_floor|hourly_salary_ceil|        skills_words|\n",
      "+-------------------+------------------+--------------------+\n",
      "|          20.078125|31.006155303030305|[excellent, inter...|\n",
      "| 28.759469696969695| 76.71117424242425|                [na]|\n",
      "|            24.5775|25.842954545454546|[1, , a, high, sc...|\n",
      "|            24.5775|25.842954545454546|[1, , a, high, sc...|\n",
      "|               35.0|              35.0|                [na]|\n",
      "|               35.0|              35.0|                [na]|\n",
      "| 23.957386363636363| 40.27130681818182|[strong, analytic...|\n",
      "| 23.969223484848484|35.550662878787875|[in, order, to, a...|\n",
      "|  42.61363636363637|52.083333333333336|[1, , five, years...|\n",
      "| 14.527935606060606|23.535511363636363|[experience, with...|\n",
      "+-------------------+------------------+--------------------+\n",
      "only showing top 10 rows\n",
      "\n"
     ]
    }
   ],
   "source": [
    "cleaned_df_skills_non_null.select('hourly_salary_floor','hourly_salary_ceil','skills_words').show(10)"
   ]
  },
  {
   "cell_type": "code",
   "execution_count": 49,
   "metadata": {},
   "outputs": [
    {
     "name": "stdout",
     "output_type": "stream",
     "text": [
      "+-------------------+------------------+--------------+\n",
      "|hourly_salary_floor|hourly_salary_ceil|           col|\n",
      "+-------------------+------------------+--------------+\n",
      "|          20.078125|31.006155303030305|     excellent|\n",
      "|          20.078125|31.006155303030305| interpersonal|\n",
      "|          20.078125|31.006155303030305|           and|\n",
      "|          20.078125|31.006155303030305|organizational|\n",
      "|          20.078125|31.006155303030305|        skills|\n",
      "|          20.078125|31.006155303030305|              |\n",
      "|          20.078125|31.006155303030305|     excellent|\n",
      "|          20.078125|31.006155303030305|      analytic|\n",
      "|          20.078125|31.006155303030305|           and|\n",
      "|          20.078125|31.006155303030305|   operational|\n",
      "|          20.078125|31.006155303030305|        skills|\n",
      "|          20.078125|31.006155303030305|              |\n",
      "|          20.078125|31.006155303030305|     excellent|\n",
      "|          20.078125|31.006155303030305|       writing|\n",
      "|          20.078125|31.006155303030305|           and|\n",
      "|          20.078125|31.006155303030305|       editing|\n",
      "|          20.078125|31.006155303030305|        skills|\n",
      "|          20.078125|31.006155303030305|              |\n",
      "|          20.078125|31.006155303030305|     knowledge|\n",
      "|          20.078125|31.006155303030305|            of|\n",
      "|          20.078125|31.006155303030305|    government|\n",
      "|          20.078125|31.006155303030305|   procurement|\n",
      "|          20.078125|31.006155303030305|     processes|\n",
      "|          20.078125|31.006155303030305|           and|\n",
      "|          20.078125|31.006155303030305|   information|\n",
      "|          20.078125|31.006155303030305|       systems|\n",
      "|          20.078125|31.006155303030305|     desirable|\n",
      "|          20.078125|31.006155303030305|              |\n",
      "|          20.078125|31.006155303030305|       foreign|\n",
      "|          20.078125|31.006155303030305|      language|\n",
      "|          20.078125|31.006155303030305|        skills|\n",
      "|          20.078125|31.006155303030305|             a|\n",
      "|          20.078125|31.006155303030305|          plus|\n",
      "| 28.759469696969695| 76.71117424242425|            na|\n",
      "|            24.5775|25.842954545454546|             1|\n",
      "|            24.5775|25.842954545454546|              |\n",
      "|            24.5775|25.842954545454546|             a|\n",
      "|            24.5775|25.842954545454546|          high|\n",
      "|            24.5775|25.842954545454546|        school|\n",
      "|            24.5775|25.842954545454546|       diploma|\n",
      "|            24.5775|25.842954545454546|            or|\n",
      "|            24.5775|25.842954545454546|           ged|\n",
      "|            24.5775|25.842954545454546|              |\n",
      "|            24.5775|25.842954545454546|             2|\n",
      "|            24.5775|25.842954545454546|              |\n",
      "|            24.5775|25.842954545454546|           cdl|\n",
      "|            24.5775|25.842954545454546|       drivers|\n",
      "|            24.5775|25.842954545454546|       license|\n",
      "|            24.5775|25.842954545454546|              |\n",
      "|            24.5775|25.842954545454546|             3|\n",
      "+-------------------+------------------+--------------+\n",
      "only showing top 50 rows\n",
      "\n"
     ]
    }
   ],
   "source": [
    "cleaned_df_skills_non_null.select('hourly_salary_floor','hourly_salary_ceil',explode('skills_words')).show(50)"
   ]
  },
  {
   "cell_type": "code",
   "execution_count": null,
   "metadata": {},
   "outputs": [],
   "source": [
    "non_skill_words = ['experience','knowledge','desirable','skill','skills','plus',\n",
    "                   'technology','organization','strong']"
   ]
  },
  {
   "cell_type": "code",
   "execution_count": null,
   "metadata": {},
   "outputs": [],
   "source": [
    "# cleaned_df_skills.printSchema()"
   ]
  },
  {
   "cell_type": "markdown",
   "metadata": {},
   "source": [
    "# Encoding categorical columns"
   ]
  },
  {
   "cell_type": "code",
   "execution_count": 50,
   "metadata": {},
   "outputs": [],
   "source": [
    "# I use the vanilla encoder available in pyspark"
   ]
  },
  {
   "cell_type": "code",
   "execution_count": 51,
   "metadata": {},
   "outputs": [
    {
     "name": "stdout",
     "output_type": "stream",
     "text": [
      "+------+--------------------+-----------------+-----------+\n",
      "|Job ID|        Job Category|Salary Range From|AgencyIndex|\n",
      "+------+--------------------+-----------------+-----------+\n",
      "| 87990|                null|          42405.0|       15.0|\n",
      "| 97899|                null|          60740.0|       15.0|\n",
      "|132292|Maintenance & Ope...|         51907.68|        1.0|\n",
      "|132292|Maintenance & Ope...|         51907.68|        1.0|\n",
      "|133921|Maintenance & Ope...|             35.0|        1.0|\n",
      "|133921|Maintenance & Ope...|             35.0|        1.0|\n",
      "|137433|Finance, Accounti...|          50598.0|        2.0|\n",
      "|138531|Health Public Saf...|          50623.0|        0.0|\n",
      "|151131|Engineering, Arch...|          90000.0|        1.0|\n",
      "|152738|Clerical & Admini...|          30683.0|        8.0|\n",
      "+------+--------------------+-----------------+-----------+\n",
      "only showing top 10 rows\n",
      "\n",
      "+------+--------------------+-----------------+-----------+---------------+\n",
      "|Job ID|        Job Category|Salary Range From|AgencyIndex|      AgencyVec|\n",
      "+------+--------------------+-----------------+-----------+---------------+\n",
      "| 87990|                null|          42405.0|       15.0|(51,[15],[1.0])|\n",
      "| 97899|                null|          60740.0|       15.0|(51,[15],[1.0])|\n",
      "|132292|Maintenance & Ope...|         51907.68|        1.0| (51,[1],[1.0])|\n",
      "|132292|Maintenance & Ope...|         51907.68|        1.0| (51,[1],[1.0])|\n",
      "|133921|Maintenance & Ope...|             35.0|        1.0| (51,[1],[1.0])|\n",
      "|133921|Maintenance & Ope...|             35.0|        1.0| (51,[1],[1.0])|\n",
      "|137433|Finance, Accounti...|          50598.0|        2.0| (51,[2],[1.0])|\n",
      "|138531|Health Public Saf...|          50623.0|        0.0| (51,[0],[1.0])|\n",
      "|151131|Engineering, Arch...|          90000.0|        1.0| (51,[1],[1.0])|\n",
      "|152738|Clerical & Admini...|          30683.0|        8.0| (51,[8],[1.0])|\n",
      "+------+--------------------+-----------------+-----------+---------------+\n",
      "only showing top 10 rows\n",
      "\n"
     ]
    }
   ],
   "source": [
    "indexer = StringIndexer(inputCol='Agency',outputCol='AgencyIndex').fit(df)\n",
    "indexed_df = indexer.transform(df)\n",
    "indexed_df.select('Job ID','Job Category','Salary Range From','AgencyIndex').show(10)\n",
    "encoder = OneHotEncoder(inputCol='AgencyIndex',outputCol='AgencyVec')\n",
    "encoded_df = encoder.transform(indexed_df)\n",
    "encoded_df.select('Job ID','Job Category','Salary Range From','AgencyIndex','AgencyVec').show(10)"
   ]
  },
  {
   "cell_type": "markdown",
   "metadata": {},
   "source": [
    "# Answering the challenge questions"
   ]
  },
  {
   "cell_type": "markdown",
   "metadata": {},
   "source": [
    "1. Whats the number of jobs posting per category (Top 10)?\n",
    "* Assumed that we are looking for unique job posting, instead of summing number of positions in cases where there are multiple positions in 1 job posting"
   ]
  },
  {
   "cell_type": "code",
   "execution_count": 4,
   "metadata": {},
   "outputs": [
    {
     "name": "stdout",
     "output_type": "stream",
     "text": [
      "+-----------------------------------------+-----+\n",
      "|Job Category                             |count|\n",
      "+-----------------------------------------+-----+\n",
      "|Engineering, Architecture, & Planning    |504  |\n",
      "|Technology, Data & Innovation            |313  |\n",
      "|Legal Affairs                            |226  |\n",
      "|Public Safety, Inspections, & Enforcement|182  |\n",
      "|Building Operations & Maintenance        |181  |\n",
      "|Finance, Accounting, & Procurement       |169  |\n",
      "|Administration & Human Resources         |134  |\n",
      "|Constituent Services & Community Programs|129  |\n",
      "|Health                                   |125  |\n",
      "|Policy, Research & Analysis              |124  |\n",
      "+-----------------------------------------+-----+\n",
      "\n"
     ]
    }
   ],
   "source": [
    "def count_posting_per_category(\n",
    "    df:DataFrame,\n",
    "    colname: str = \"Job Category\") -> DataFrame:\n",
    "    res_df = df.groupBy(colname).count().sort(\"count\",ascending=False).limit(10)\n",
    "    return res_df\n",
    "\n",
    "res = count_posting_per_category(df)\n",
    "res.show(truncate=False)"
   ]
  },
  {
   "cell_type": "markdown",
   "metadata": {},
   "source": [
    "2. Whats the salary distribution per job category?"
   ]
  },
  {
   "cell_type": "markdown",
   "metadata": {},
   "source": [
    "- Skewed to the right\n",
    "- Technology has the highest average"
   ]
  },
  {
   "cell_type": "code",
   "execution_count": 66,
   "metadata": {},
   "outputs": [],
   "source": [
    "plot_df = normalized_df.filter(df['Job Category'] == 'Legal Affairs')\n",
    "plotdf = plot_df.toPandas()"
   ]
  },
  {
   "cell_type": "code",
   "execution_count": 69,
   "metadata": {},
   "outputs": [],
   "source": [
    "# plotdf.boxplot(column='hourly_salary_floor',by='Legal Affairs')"
   ]
  },
  {
   "cell_type": "code",
   "execution_count": 72,
   "metadata": {},
   "outputs": [],
   "source": [
    "def plot_salary_distribution(df:DataFrame,\n",
    "                             input_category:str,\n",
    "                             target_colnames:list=['hourly_salary_floor','hourly_salary_ceil'],\n",
    "                            input_colname:str='Job Category') -> None:\n",
    "    \"\"\"\n",
    "    This function will return 1 plots of distribution of a single category.\n",
    "    \"\"\"\n",
    "    \n",
    "    # single category box plot\n",
    "    \n",
    "    plot_df = df.filter(df[input_colname] == input_category)\n",
    "    plotdf = plot_df.toPandas()\n",
    "\n",
    "    for i in target_colnames:\n",
    "        plotdf.boxplot(column=i, by=input_colname)\n",
    "    plt.show()"
   ]
  },
  {
   "cell_type": "code",
   "execution_count": 71,
   "metadata": {},
   "outputs": [
    {
     "data": {
      "image/png": "[encoded data removed]",
      "text/plain": [
       "<Figure size 432x288 with 1 Axes>"
      ]
     },
     "metadata": {
      "needs_background": "light"
     },
     "output_type": "display_data"
    },
    {
     "data": {
      "image/png": "[encoded data removed]",
      "text/plain": [
       "<Figure size 432x288 with 1 Axes>"
      ]
     },
     "metadata": {
      "needs_background": "light"
     },
     "output_type": "display_data"
    }
   ],
   "source": [
    "plot_salary_distribution(df = normalized_df,\n",
    "                            input_category='Legal Affairs',\n",
    "                            target_colnames=['hourly_salary_floor','hourly_salary_ceil'])"
   ]
  },
  {
   "cell_type": "code",
   "execution_count": 75,
   "metadata": {},
   "outputs": [],
   "source": [
    "def comparing_distributions(df:DataFrame,\n",
    "                           categories:list,\n",
    "                           input_colname:str='Job Category',\n",
    "                            target_colname: str = 'hourly_salary_floor'\n",
    "                           ) -> None:\n",
    "    \n",
    "    # Iterate through each chosen category\n",
    "    plot_df = df.toPandas()\n",
    "    for category in categories:\n",
    "        # Subset to the category\n",
    "        subset = plot_df[plot_df[input_colname] == category]\n",
    "\n",
    "        sns.distplot(subset[target_colname],\n",
    "                     hist = False,\n",
    "                     kde = True,\n",
    "                     kde_kws = {'linewidth': 3},\n",
    "                     label = category)\n",
    "    \n",
    "    # Plot formatting\n",
    "    plt.legend(prop={'size': 6}, title = 'Category')\n",
    "    plt.title('Density Plot with Multiple Job Categories')\n",
    "    plt.xlabel('Salary floor')\n",
    "    plt.ylabel('Density')"
   ]
  },
  {
   "cell_type": "code",
   "execution_count": 76,
   "metadata": {},
   "outputs": [
    {
     "data": {
      "image/png": "[encoded data removed]",
      "text/plain": [
       "<Figure size 432x288 with 1 Axes>"
      ]
     },
     "metadata": {
      "needs_background": "light"
     },
     "output_type": "display_data"
    }
   ],
   "source": [
    "categories = ['Engineering, Architecture, & Planning',\n",
    "                  'Technology, Data & Innovation',\n",
    "                  'Legal Affairs',\n",
    "                  'Public Safety, Inspections, & Enforcement',\n",
    "                  'Building Operations & Maintenance',\n",
    "                  'Finance, Accounting, & Procurement',\n",
    "                  'Administration & Human Resources',\n",
    "                  'Constituent Services & Community Programs',\n",
    "                  'Health',\n",
    "                  'Policy, Research & Analysis']\n",
    "comparing_distributions(normalized_df, categories)"
   ]
  },
  {
   "cell_type": "markdown",
   "metadata": {},
   "source": [
    "3. Is there any correlation between the higher degree and the salary?\n",
    "\n",
    "Yes, below is the plot that shows this correlation.\n",
    "on average, the higher the degree, the higher the salary.\n",
    "there are some very noticable outliers, which could be explained by work experience, missing data, level,"
   ]
  },
  {
   "cell_type": "code",
   "execution_count": 87,
   "metadata": {},
   "outputs": [
    {
     "data": {
      "text/plain": [
       "<matplotlib.axes._subplots.AxesSubplot at 0x40777887f0>"
      ]
     },
     "execution_count": 87,
     "metadata": {},
     "output_type": "execute_result"
    },
    {
     "data": {
      "image/png": "[encoded data removed]",
      "text/plain": [
       "<Figure size 432x288 with 1 Axes>"
      ]
     },
     "metadata": {
      "needs_background": "light"
     },
     "output_type": "display_data"
    }
   ],
   "source": [
    "cleaned_df = text_cleaner(normalized_df)\n",
    "\n",
    "degree_df = extract_degree_info(cleaned_df)\n",
    "\n",
    "degree_df_plot = degree_df.toPandas()\n",
    "degree_df_plot.boxplot(column='hourly_salary_floor',by='degree_required',)"
   ]
  },
  {
   "cell_type": "markdown",
   "metadata": {},
   "source": [
    "3. Whats the job posting having the highest salary per agency?\n"
   ]
  },
  {
   "cell_type": "code",
   "execution_count": 108,
   "metadata": {},
   "outputs": [
    {
     "name": "stdout",
     "output_type": "stream",
     "text": [
      "+----------------------------+------+------------+------------------+-------+\n",
      "|Agency                      |Job ID|Posting Type|hourly_salary_ceil|ranking|\n",
      "+----------------------------+------+------------+------------------+-------+\n",
      "|NYC EMPLOYEES RETIREMENT SYS|413564|Internal    |110.98579545454545|1      |\n",
      "|NYC EMPLOYEES RETIREMENT SYS|413564|External    |110.98579545454545|1      |\n",
      "+----------------------------+------+------------+------------------+-------+\n",
      "\n"
     ]
    }
   ],
   "source": [
    "windowSpec = Window.partitionBy('Agency').orderBy(col('hourly_salary_ceil').desc())\n",
    "\n",
    "\n",
    "normalized_df \\\n",
    ".withColumn('ranking',dense_rank().over(windowSpec)) \\\n",
    ".select('Agency','Job ID','Posting Type','hourly_salary_ceil','ranking') \\\n",
    ".filter(col('Agency')=='NYC EMPLOYEES RETIREMENT SYS') \\\n",
    ".filter(col('ranking')==1) \\\n",
    ".show(truncate=False)"
   ]
  },
  {
   "cell_type": "markdown",
   "metadata": {},
   "source": [
    "4. Whats the job positings average salary per agency for the last 2 years?\n",
    "\n",
    "The latest data we have in Posting Date is : 2019-12-17 0:00:00\n",
    "\n",
    "So the timeframe to use is 2017-12-17 - 2019-12-17"
   ]
  },
  {
   "cell_type": "code",
   "execution_count": 112,
   "metadata": {},
   "outputs": [],
   "source": [
    "filtered_df = normalized_df.filter(col('Posting Date') >= '2017-12-17')\n"
   ]
  },
  {
   "cell_type": "code",
   "execution_count": 115,
   "metadata": {},
   "outputs": [
    {
     "name": "stdout",
     "output_type": "stream",
     "text": [
      "+--------------------+------------------+\n",
      "|              Agency|    average salary|\n",
      "+--------------------+------------------+\n",
      "|LANDMARKS PRESERV...|30.443655303030305|\n",
      "|     FIRE DEPARTMENT| 44.16099944903581|\n",
      "|ADMIN FOR CHILDRE...| 41.23856070632797|\n",
      "|MANHATTAN COMMUNI...|              19.0|\n",
      "|      TAX COMMISSION|28.589930555555554|\n",
      "|HRA/DEPT OF SOCIA...|40.515165738025416|\n",
      "|TAXI & LIMOUSINE ...|34.437856490275884|\n",
      "|EQUAL EMPLOY PRAC...|31.942945075757578|\n",
      "|DEPARTMENT OF BUS...| 37.78679296969697|\n",
      "|DEPT OF DESIGN & ...|54.373146073410155|\n",
      "|TEACHERS RETIREME...|35.871212121212125|\n",
      "|FINANCIAL INFO SV...| 52.92115713587488|\n",
      "|DEPARTMENT OF COR...| 41.94011595365419|\n",
      "|OFFICE OF EMERGEN...|40.246212121212125|\n",
      "|HOUSING PRESERVAT...| 40.53387618921776|\n",
      "|CIVILIAN COMPLAIN...| 35.16653547237076|\n",
      "|OFFICE OF MANAGEM...|36.696070075757575|\n",
      "|MAYORS OFFICE OF ...|47.044101731601714|\n",
      "|DEPT OF CITYWIDE ...|42.171325757575765|\n",
      "|DEPARTMENT OF CIT...| 37.93087121212121|\n",
      "|ADMIN TRIALS AND ...|20.615969333333332|\n",
      "|DEPARTMENT OF SAN...|52.565374999999996|\n",
      "|DEPT. OF HOMELESS...|30.528645833333336|\n",
      "|DEPT OF HEALTH/ME...|39.112169788243875|\n",
      "| BOARD OF CORRECTION| 48.73863636363637|\n",
      "|PUBLIC ADMINISTRA...| 23.36600378787879|\n",
      "|   POLICE DEPARTMENT| 39.82256609461967|\n",
      "|BUSINESS INTEGRIT...| 41.59902597402597|\n",
      "|HUMAN RIGHTS COMM...|39.561133021390376|\n",
      "|DISTRICT ATTORNEY...| 39.44591131907308|\n",
      "|PRESIDENT BOROUGH...|33.442708333333336|\n",
      "|NYC DEPT OF VETER...| 43.56107954545455|\n",
      "|DEPARTMENT OF BUI...|26.349539141414137|\n",
      "|DEPARTMENT OF TRA...|  41.6821894517696|\n",
      "|NYC EMPLOYEES RET...| 55.98542718855219|\n",
      "|      LAW DEPARTMENT| 46.47220898569022|\n",
      "|DEPT OF INFO TECH...| 55.28131691919192|\n",
      "|CONFLICTS OF INTE...| 80.49242424242425|\n",
      "|OFFICE OF THE COM...|41.399739583333336|\n",
      "|DEPARTMENT OF PRO...|  47.8587895256917|\n",
      "|DISTRICT ATTORNEY...|  36.2544191919192|\n",
      "|DEPT OF YOUTH & C...| 38.18684842503988|\n",
      "|DEPT OF ENVIRONME...|44.333149715720076|\n",
      "|    CONSUMER AFFAIRS| 40.44828088578088|\n",
      "|BOROUGH PRESIDENT...| 32.62624289772727|\n",
      "|DEPT OF PARKS & R...|36.668168008207076|\n",
      "|DEPARTMENT OF FIN...| 42.81672190656565|\n",
      "|DEPARTMENT FOR TH...| 37.07978438552188|\n",
      "|OFF OF PAYROLL AD...| 34.32733585858586|\n",
      "|NYC HOUSING AUTHO...| 52.65090254177287|\n",
      "|DEPARTMENT OF INV...| 31.54872427101201|\n",
      "+--------------------+------------------+\n",
      "\n"
     ]
    }
   ],
   "source": [
    "filtered_df.groupBy('Agency').agg(avg('hourly_salary_ceil').alias('average salary')).show(52)"
   ]
  },
  {
   "cell_type": "markdown",
   "metadata": {},
   "source": [
    "5. What are the highest paid skills in the US market?"
   ]
  },
  {
   "cell_type": "code",
   "execution_count": null,
   "metadata": {},
   "outputs": [],
   "source": []
  },
  {
   "cell_type": "code",
   "execution_count": null,
   "metadata": {},
   "outputs": [],
   "source": []
  },
  {
   "cell_type": "markdown",
   "metadata": {},
   "source": [
    "# Processing functions"
   ]
  },
  {
   "cell_type": "code",
   "execution_count": 4,
   "metadata": {},
   "outputs": [],
   "source": [
    "# # test function\n",
    "# def get_salary_frequency(df):\n",
    "#     row_list = df.select('Salary Frequency').distinct().collect()\n",
    "#     return [row['Salary Frequency'] for row in row_list]"
   ]
  },
  {
   "cell_type": "code",
   "execution_count": 47,
   "metadata": {},
   "outputs": [],
   "source": []
  },
  {
   "cell_type": "code",
   "execution_count": 121,
   "metadata": {},
   "outputs": [],
   "source": [
    "def handle_outliers(\n",
    "    df: DataFrame,\n",
    "    column: Column,\n",
    "    lower_bound: FloatType,\n",
    "    upper_bound: FloatType) -> DataFrame :\n",
    "    \"\"\"\n",
    "    df: spark dataframe\n",
    "    column: the feature column to transform\n",
    "    bounds are not inclusive\n",
    "    \n",
    "    \"\"\"\n",
    "    \n",
    "    # Validate input column datatype\n",
    "    if df[[column]].dtypes[0][1] in ['string','timestamp']:\n",
    "        raise TypeError(\"Input column must be of numeric values\")\n",
    "    \n",
    "    # Must have 1 non-null bound\n",
    "    if lower_bound is None and upper_bound is None:\n",
    "        raise TypeError(\"At least one bound must not be null\")\n",
    "    else:\n",
    "        \n",
    "        if lower_bound and type(lower_bound) != int:\n",
    "            raise TypeError(\"Expected a numerical lower_bound value\")\n",
    "            \n",
    "        else:\n",
    "            filtered_df = df.filter(col(column) < lower_bound)\n",
    "\n",
    "        if upper_bound and type(upper_bound) != int:\n",
    "            raise TypeError(\"Expected a numerical upper_bound value\")\n",
    "        else:\n",
    "            filtered_df = df.filter(col(column) > lower_bound)\n",
    "    return filtered_df"
   ]
  },
  {
   "cell_type": "code",
   "execution_count": 81,
   "metadata": {},
   "outputs": [],
   "source": [
    "def text_cleaner(df:DataFrame,\n",
    "                target_columns:list = ['Job Description', 'Minimum Qual Requirements', 'Preferred Skills'],\n",
    "                suffix:str = '_cleaned'):\n",
    "    # remove numerics, punctuations and special characters, and convert everything to lower case\n",
    "    # Focused on these columns: Job Description, Minimum Qual Requirements, Preferred Skills\n",
    "    text_cleaned_df = df\n",
    "    for i in target_columns:\n",
    "        text_cleaned_df = text_cleaned_df.\\\n",
    "            withColumn(i+suffix,lower(regexp_replace(col(i), \"[^a-zA-Z ]\", \"\")))\n",
    "    return text_cleaned_df"
   ]
  },
  {
   "cell_type": "code",
   "execution_count": 85,
   "metadata": {},
   "outputs": [],
   "source": [
    "def extract_degree_info(df:DataFrame) -> DataFrame:\n",
    "    \n",
    "    # Most common degrees found are below\n",
    "    #     degrees = {\n",
    "    #         'high school':['high school'],\n",
    "    #         'bachelor':['baccalaureate','bachelor'],\n",
    "    #         'master': ['master'],\n",
    "    #         'doctorate':['phd','scd'],\n",
    "    #         'legal degree':['state bar']\n",
    "    #     }\n",
    "\n",
    "    df_degree = df.\\\n",
    "    withColumn('degree_required',\n",
    "               expr(\"\"\"case when `Minimum Qual Requirements` like '%phd%' or `Minimum Qual Requirements` like '%scd%'\n",
    "                            then 'doctorate' \n",
    "                        when `Minimum Qual Requirements` like '%master%'\n",
    "                        then 'master'\n",
    "                        when `Minimum Qual Requirements` like '%baccalaureate%' or  `Minimum Qual Requirements` like '%bachelor%'\n",
    "                        then 'bachelor'\n",
    "                        when `Minimum Qual Requirements` like '%high school%'\n",
    "                        then 'high school'\n",
    "                        when `Minimum Qual Requirements` like '%state bar%'\n",
    "                        then 'legal degree'\n",
    "                        else 'No degree requirement'\n",
    "                    end\"\"\"))\n",
    "    return df_degree\n"
   ]
  },
  {
   "cell_type": "markdown",
   "metadata": {},
   "source": [
    "# Tests"
   ]
  },
  {
   "cell_type": "code",
   "execution_count": 131,
   "metadata": {},
   "outputs": [],
   "source": [
    "mock_data = [('1001',0),('1002',100),('1003',300)]\n",
    "def test_handle_outliers(mock_data: list,\n",
    "                        expected_result: int,\n",
    "                        schema: list = ['id', 'salary']):\n",
    "    mock_df = spark.createDataFrame(data=mock_data, schema=schema)\n",
    "    \n",
    "    filtereddf = handle_outliers(mock_df,'salary',1,None)\n",
    "    resdf = filtereddf.select(min('salary'))\n",
    "    res = resdf.head()[0]\n",
    "\n",
    "    assert res == expected_result , \"expected {}, got {}\".format(expected_result, res)\n",
    "\n",
    "test_handle_outliers(mock_data,100)"
   ]
  },
  {
   "cell_type": "code",
   "execution_count": 9,
   "metadata": {},
   "outputs": [],
   "source": [
    "mock_data = [('A',10),('B',1),('C',2),('A',1),('B',1),('B',1)]\n",
    "\n",
    "def test_count_posting_per_category(mock_data: list,\n",
    "                                    expected_result:str,\n",
    "                                    schema:list=['category','count']\n",
    "):\n",
    "    mock_df = spark.createDataFrame(data=mock_data, schema=schema)\n",
    "    resdf = count_posting_per_category(mock_df,'category')\n",
    "    res = resdf.head()[0]\n",
    "    assert res == expected_result, \"expected {}, got {}\".format(expected_result, res)\n",
    "    \n",
    "test_count_posting_per_category(mock_data, 'B')"
   ]
  },
  {
   "cell_type": "code",
   "execution_count": 5,
   "metadata": {},
   "outputs": [],
   "source": [
    "# mock_data = [('A', 'Annual'), ('B', 'Daily')]\n",
    "# expected_result = ['Annual', 'Daily']"
   ]
  },
  {
   "cell_type": "code",
   "execution_count": 6,
   "metadata": {},
   "outputs": [],
   "source": [
    "# def test_get_salary_frequency(mock_data: list, \n",
    "#                               expected_result: list,\n",
    "#                               schema: list = ['id', 'Salary Frequency']):  \n",
    "#     mock_df = spark.createDataFrame(data = mock_data, schema = schema)\n",
    "#     assert get_salary_frequency(mock_df) == expected_result"
   ]
  },
  {
   "cell_type": "markdown",
   "metadata": {},
   "source": [
    "# CREATE A SUMMARY OF TECHNIQUES AND WORKFLOW"
   ]
  }
 ],
 "metadata": {
  "kernelspec": {
   "display_name": "Python 3",
   "language": "python",
   "name": "python3"
  },
  "language_info": {
   "codemirror_mode": {
    "name": "ipython",
    "version": 3
   },
   "file_extension": ".py",
   "mimetype": "text/x-python",
   "name": "python",
   "nbconvert_exporter": "python",
   "pygments_lexer": "ipython3",
   "version": "3.7.3"
  },
  "vscode": {
   "interpreter": {
    "hash": "00826a481c8eaf04a3d7593b967dba21fe95800de21741369716e0153ae0478b"
   }
  }
 },
 "nbformat": 4,
 "nbformat_minor": 4
}
