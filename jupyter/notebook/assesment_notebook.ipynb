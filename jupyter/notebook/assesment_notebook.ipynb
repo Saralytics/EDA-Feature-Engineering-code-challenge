{
 "cells": [
  {
   "cell_type": "code",
   "execution_count": 1,
   "metadata": {},
   "outputs": [],
   "source": [
    "import findspark\n",
    "findspark.init()"
   ]
  },
  {
   "cell_type": "code",
   "execution_count": 2,
   "metadata": {},
   "outputs": [],
   "source": [
    "from pyspark.sql import SparkSession\n",
    "\n",
    "spark = SparkSession.builder. \\\n",
    "    appName(\"pyspark-1\"). \\\n",
    "    getOrCreate()"
   ]
  },
  {
   "cell_type": "markdown",
   "metadata": {},
   "source": [
    "### Read data"
   ]
  },
  {
   "cell_type": "code",
   "execution_count": 3,
   "metadata": {},
   "outputs": [
    {
     "name": "stdout",
     "output_type": "stream",
     "text": [
      "root\n",
      " |-- Job ID: integer (nullable = true)\n",
      " |-- Agency: string (nullable = true)\n",
      " |-- Posting Type: string (nullable = true)\n",
      " |-- # Of Positions: integer (nullable = true)\n",
      " |-- Business Title: string (nullable = true)\n",
      " |-- Civil Service Title: string (nullable = true)\n",
      " |-- Title Code No: string (nullable = true)\n",
      " |-- Level: string (nullable = true)\n",
      " |-- Job Category: string (nullable = true)\n",
      " |-- Full-Time/Part-Time indicator: string (nullable = true)\n",
      " |-- Salary Range From: double (nullable = true)\n",
      " |-- Salary Range To: double (nullable = true)\n",
      " |-- Salary Frequency: string (nullable = true)\n",
      " |-- Work Location: string (nullable = true)\n",
      " |-- Division/Work Unit: string (nullable = true)\n",
      " |-- Job Description: string (nullable = true)\n",
      " |-- Minimum Qual Requirements: string (nullable = true)\n",
      " |-- Preferred Skills: string (nullable = true)\n",
      " |-- Additional Information: string (nullable = true)\n",
      " |-- To Apply: string (nullable = true)\n",
      " |-- Hours/Shift: string (nullable = true)\n",
      " |-- Work Location 1: string (nullable = true)\n",
      " |-- Recruitment Contact: string (nullable = true)\n",
      " |-- Residency Requirement: string (nullable = true)\n",
      " |-- Posting Date: timestamp (nullable = true)\n",
      " |-- Post Until: timestamp (nullable = true)\n",
      " |-- Posting Updated: timestamp (nullable = true)\n",
      " |-- Process Date: timestamp (nullable = true)\n",
      "\n"
     ]
    }
   ],
   "source": [
    "# upon first inspecting the dataframe using default load options, we find that the data is not parsed correctly. adding quotes option solved it\n",
    "df = spark.read.options(header=True, inferSchema=True)\\\n",
    ".option(\"quote\", \"\\\"\")\\\n",
    ".option(\"escape\", \"\\\"\")\\\n",
    ".csv(\"/dataset/nyc-jobs.csv\")\n",
    "df.printSchema()"
   ]
  },
  {
   "cell_type": "code",
   "execution_count": 4,
   "metadata": {},
   "outputs": [],
   "source": [
    "# check if data is read correctly\n",
    "# opportunity to add a test \n",
    "# df.groupBy('Process Date').count().show()"
   ]
  },
  {
   "cell_type": "markdown",
   "metadata": {},
   "source": [
    "# EDA"
   ]
  },
  {
   "cell_type": "code",
   "execution_count": 5,
   "metadata": {},
   "outputs": [
    {
     "data": {
      "text/html": [
       "<div>\n",
       "<style scoped>\n",
       "    .dataframe tbody tr th:only-of-type {\n",
       "        vertical-align: middle;\n",
       "    }\n",
       "\n",
       "    .dataframe tbody tr th {\n",
       "        vertical-align: top;\n",
       "    }\n",
       "\n",
       "    .dataframe thead th {\n",
       "        text-align: right;\n",
       "    }\n",
       "</style>\n",
       "<table border=\"1\" class=\"dataframe\">\n",
       "  <thead>\n",
       "    <tr style=\"text-align: right;\">\n",
       "      <th></th>\n",
       "      <th>Job ID</th>\n",
       "      <th># Of Positions</th>\n",
       "      <th>Salary Range From</th>\n",
       "      <th>Salary Range To</th>\n",
       "    </tr>\n",
       "  </thead>\n",
       "  <tbody>\n",
       "    <tr>\n",
       "      <th>count</th>\n",
       "      <td>2946.000000</td>\n",
       "      <td>2946.000000</td>\n",
       "      <td>2946.000000</td>\n",
       "      <td>2946.000000</td>\n",
       "    </tr>\n",
       "    <tr>\n",
       "      <th>mean</th>\n",
       "      <td>384821.563136</td>\n",
       "      <td>2.495927</td>\n",
       "      <td>58904.139794</td>\n",
       "      <td>85535.711627</td>\n",
       "    </tr>\n",
       "    <tr>\n",
       "      <th>std</th>\n",
       "      <td>53075.338977</td>\n",
       "      <td>9.281313</td>\n",
       "      <td>26986.575936</td>\n",
       "      <td>42871.313454</td>\n",
       "    </tr>\n",
       "    <tr>\n",
       "      <th>min</th>\n",
       "      <td>87990.000000</td>\n",
       "      <td>1.000000</td>\n",
       "      <td>0.000000</td>\n",
       "      <td>10.360000</td>\n",
       "    </tr>\n",
       "    <tr>\n",
       "      <th>25%</th>\n",
       "      <td>378496.750000</td>\n",
       "      <td>1.000000</td>\n",
       "      <td>49390.000000</td>\n",
       "      <td>62000.000000</td>\n",
       "    </tr>\n",
       "    <tr>\n",
       "      <th>50%</th>\n",
       "      <td>404382.000000</td>\n",
       "      <td>1.000000</td>\n",
       "      <td>58440.000000</td>\n",
       "      <td>82056.000000</td>\n",
       "    </tr>\n",
       "    <tr>\n",
       "      <th>75%</th>\n",
       "      <td>419974.250000</td>\n",
       "      <td>1.000000</td>\n",
       "      <td>73171.750000</td>\n",
       "      <td>106222.000000</td>\n",
       "    </tr>\n",
       "    <tr>\n",
       "      <th>max</th>\n",
       "      <td>426238.000000</td>\n",
       "      <td>200.000000</td>\n",
       "      <td>218587.000000</td>\n",
       "      <td>234402.000000</td>\n",
       "    </tr>\n",
       "  </tbody>\n",
       "</table>\n",
       "</div>"
      ],
      "text/plain": [
       "              Job ID  # Of Positions  Salary Range From  Salary Range To\n",
       "count    2946.000000     2946.000000        2946.000000      2946.000000\n",
       "mean   384821.563136        2.495927       58904.139794     85535.711627\n",
       "std     53075.338977        9.281313       26986.575936     42871.313454\n",
       "min     87990.000000        1.000000           0.000000        10.360000\n",
       "25%    378496.750000        1.000000       49390.000000     62000.000000\n",
       "50%    404382.000000        1.000000       58440.000000     82056.000000\n",
       "75%    419974.250000        1.000000       73171.750000    106222.000000\n",
       "max    426238.000000      200.000000      218587.000000    234402.000000"
      ]
     },
     "execution_count": 5,
     "metadata": {},
     "output_type": "execute_result"
    }
   ],
   "source": [
    "# basic statistics\n",
    "pandas_df = df.toPandas()\n",
    "pandas_df.describe()"
   ]
  },
  {
   "cell_type": "code",
   "execution_count": 6,
   "metadata": {},
   "outputs": [
    {
     "name": "stdout",
     "output_type": "stream",
     "text": [
      "<class 'pandas.core.frame.DataFrame'>\n",
      "RangeIndex: 2946 entries, 0 to 2945\n",
      "Data columns (total 28 columns):\n",
      " #   Column                         Non-Null Count  Dtype         \n",
      "---  ------                         --------------  -----         \n",
      " 0   Job ID                         2946 non-null   int32         \n",
      " 1   Agency                         2946 non-null   object        \n",
      " 2   Posting Type                   2946 non-null   object        \n",
      " 3   # Of Positions                 2946 non-null   int32         \n",
      " 4   Business Title                 2946 non-null   object        \n",
      " 5   Civil Service Title            2946 non-null   object        \n",
      " 6   Title Code No                  2946 non-null   object        \n",
      " 7   Level                          2946 non-null   object        \n",
      " 8   Job Category                   2944 non-null   object        \n",
      " 9   Full-Time/Part-Time indicator  2751 non-null   object        \n",
      " 10  Salary Range From              2946 non-null   float64       \n",
      " 11  Salary Range To                2946 non-null   float64       \n",
      " 12  Salary Frequency               2946 non-null   object        \n",
      " 13  Work Location                  2946 non-null   object        \n",
      " 14  Division/Work Unit             2946 non-null   object        \n",
      " 15  Job Description                2946 non-null   object        \n",
      " 16  Minimum Qual Requirements      2926 non-null   object        \n",
      " 17  Preferred Skills               2553 non-null   object        \n",
      " 18  Additional Information         1854 non-null   object        \n",
      " 19  To Apply                       2945 non-null   object        \n",
      " 20  Hours/Shift                    884 non-null    object        \n",
      " 21  Work Location 1                1358 non-null   object        \n",
      " 22  Recruitment Contact            0 non-null      object        \n",
      " 23  Residency Requirement          2942 non-null   object        \n",
      " 24  Posting Date                   2942 non-null   datetime64[ns]\n",
      " 25  Post Until                     871 non-null    datetime64[ns]\n",
      " 26  Posting Updated                2942 non-null   datetime64[ns]\n",
      " 27  Process Date                   2942 non-null   datetime64[ns]\n",
      "dtypes: datetime64[ns](4), float64(2), int32(2), object(20)\n",
      "memory usage: 621.5+ KB\n"
     ]
    }
   ],
   "source": [
    "# dataframe quality\n",
    "pandas_df.info()"
   ]
  },
  {
   "cell_type": "code",
   "execution_count": 7,
   "metadata": {},
   "outputs": [
    {
     "name": "stdout",
     "output_type": "stream",
     "text": [
      "+------+--------------------+------------+--------------+--------------------+--------------------+-------------+-----+------------+-----------------------------+-----------------+---------------+----------------+-------------------+--------------------+--------------------+-------------------------+--------------------+----------------------+--------------------+-----------+---------------+-------------------+---------------------+-------------------+----------+-------------------+-------------------+\n",
      "|Job ID|              Agency|Posting Type|# Of Positions|      Business Title| Civil Service Title|Title Code No|Level|Job Category|Full-Time/Part-Time indicator|Salary Range From|Salary Range To|Salary Frequency|      Work Location|  Division/Work Unit|     Job Description|Minimum Qual Requirements|    Preferred Skills|Additional Information|            To Apply|Hours/Shift|Work Location 1|Recruitment Contact|Residency Requirement|       Posting Date|Post Until|    Posting Updated|       Process Date|\n",
      "+------+--------------------+------------+--------------+--------------------+--------------------+-------------+-----+------------+-----------------------------+-----------------+---------------+----------------+-------------------+--------------------+--------------------+-------------------------+--------------------+----------------------+--------------------+-----------+---------------+-------------------+---------------------+-------------------+----------+-------------------+-------------------+\n",
      "| 87990|DEPARTMENT OF BUS...|    Internal|             1|     Account Manager|CONTRACT REVIEWER...|        40563|    1|        null|                         null|          42405.0|        65485.0|          Annual|110 William St. N Y|Strategy & Analytics|Division of Econo...|     1.\tA baccalaureat...|â€¢\tExcellent int...|  Salary range for ...|                null|       null|           null|               null| New York City res...|2011-06-24 00:00:00|      null|2011-06-24 00:00:00|2019-12-17 00:00:00|\n",
      "| 97899|DEPARTMENT OF BUS...|    Internal|             1|EXECUTIVE DIRECTO...|ADMINISTRATIVE BU...|        10009|   M3|        null|                            F|          60740.0|       162014.0|          Annual|110 William St. N Y|Tech Talent Pipeline|The New York City...|     1. A baccalaureat...|                null|                  null|In addition to ap...|       null|           null|               null| New York City res...|2012-01-26 00:00:00|      null|2012-01-26 00:00:00|2019-12-17 00:00:00|\n",
      "+------+--------------------+------------+--------------+--------------------+--------------------+-------------+-----+------------+-----------------------------+-----------------+---------------+----------------+-------------------+--------------------+--------------------+-------------------------+--------------------+----------------------+--------------------+-----------+---------------+-------------------+---------------------+-------------------+----------+-------------------+-------------------+\n",
      "only showing top 2 rows\n",
      "\n"
     ]
    }
   ],
   "source": [
    "df.show(2)"
   ]
  },
  {
   "cell_type": "code",
   "execution_count": 8,
   "metadata": {},
   "outputs": [
    {
     "name": "stdout",
     "output_type": "stream",
     "text": [
      "Recruitment Contact is a column which only has value [None]\n"
     ]
    }
   ],
   "source": [
    "constant_col = []\n",
    "for i in pandas_df.columns:\n",
    "    if len(pandas_df[i].unique()) == 1:\n",
    "        print('{} is a column which only has value {}'.format(i,pandas_df[i].unique()))\n",
    "        constant_col.append(i)\n",
    "        \n",
    "# Recruitment Contact is null, we can drop"
   ]
  },
  {
   "cell_type": "code",
   "execution_count": 9,
   "metadata": {},
   "outputs": [
    {
     "data": {
      "text/plain": [
       "array(['2019-12-17T00:00:00.000000000',                           'NaT'],\n",
       "      dtype='datetime64[ns]')"
      ]
     },
     "execution_count": 9,
     "metadata": {},
     "output_type": "execute_result"
    }
   ],
   "source": [
    "pandas_df['Process Date'].unique()"
   ]
  },
  {
   "cell_type": "code",
   "execution_count": null,
   "metadata": {},
   "outputs": [],
   "source": []
  },
  {
   "cell_type": "code",
   "execution_count": 10,
   "metadata": {},
   "outputs": [],
   "source": [
    "# distincy categorical values - visualize \n",
    "numerical_columns = [i for i in pandas_df.columns if (pandas_df[i].dtypes == \"float64\" or pandas_df[i].dtypes == \"int32\")]\n",
    "categorical_columns = [i for i in pandas_df.columns if pandas_df[i].dtypes == \"object\"]"
   ]
  },
  {
   "cell_type": "code",
   "execution_count": 11,
   "metadata": {},
   "outputs": [],
   "source": [
    "# plots to understand the distinct values in categorical columns \n",
    "# for each categorical column, count how many distinct values there are, and plot the top 10 "
   ]
  },
  {
   "cell_type": "code",
   "execution_count": 12,
   "metadata": {},
   "outputs": [
    {
     "data": {
      "text/plain": [
       "131"
      ]
     },
     "execution_count": 12,
     "metadata": {},
     "output_type": "execute_result"
    }
   ],
   "source": [
    "distinctvalues = df.select(\"Job Category\").distinct()\n",
    "distinctvalues.count()"
   ]
  },
  {
   "cell_type": "code",
   "execution_count": 13,
   "metadata": {},
   "outputs": [
    {
     "name": "stdout",
     "output_type": "stream",
     "text": [
      "+--------------------+\n",
      "|              Agency|\n",
      "+--------------------+\n",
      "|LANDMARKS PRESERV...|\n",
      "|OFFICE OF COLLECT...|\n",
      "|     FIRE DEPARTMENT|\n",
      "|ADMIN FOR CHILDRE...|\n",
      "|MANHATTAN COMMUNI...|\n",
      "|      TAX COMMISSION|\n",
      "|HRA/DEPT OF SOCIA...|\n",
      "|TAXI & LIMOUSINE ...|\n",
      "|EQUAL EMPLOY PRAC...|\n",
      "|DEPARTMENT OF BUS...|\n",
      "+--------------------+\n",
      "only showing top 10 rows\n",
      "\n"
     ]
    }
   ],
   "source": [
    "distinctvalues = df.select(\"Agency\").distinct()\n",
    "distinctvalues.show(10)"
   ]
  },
  {
   "cell_type": "code",
   "execution_count": 14,
   "metadata": {},
   "outputs": [],
   "source": [
    "# Higest salary posting per agency"
   ]
  },
  {
   "cell_type": "code",
   "execution_count": null,
   "metadata": {},
   "outputs": [],
   "source": []
  },
  {
   "cell_type": "code",
   "execution_count": 15,
   "metadata": {},
   "outputs": [],
   "source": [
    "import seaborn as sns\n",
    "import matplotlib.pyplot as plt"
   ]
  },
  {
   "cell_type": "code",
   "execution_count": 67,
   "metadata": {},
   "outputs": [
    {
     "name": "stderr",
     "output_type": "stream",
     "text": [
      "/usr/local/lib/python3.7/dist-packages/IPython/core/pylabtools.py:132: UserWarning: constrained_layout not applied.  At least one axes collapsed to zero width or height.\n",
      "  fig.canvas.print_figure(bytes_io, **kw)\n"
     ]
    },
    {
     "data": {
      "image/png": "[encoded data removed]",
      "text/plain": [
       "<Figure size 864x576 with 1 Axes>"
      ]
     },
     "metadata": {
      "needs_background": "light"
     },
     "output_type": "display_data"
    }
   ],
   "source": [
    "fig, axs = plt.subplots(constrained_layout=True)\n",
    "fig.set_size_inches(12, 8)\n",
    "fig.suptitle('Non numerical variables')\n",
    "\n",
    "sns.countplot(\n",
    "        data=pandas_df,\n",
    "        x='Job Category'\n",
    "    )\n",
    "plt.show()"
   ]
  },
  {
   "cell_type": "code",
   "execution_count": null,
   "metadata": {},
   "outputs": [],
   "source": []
  },
  {
   "cell_type": "code",
   "execution_count": 65,
   "metadata": {},
   "outputs": [
    {
     "data": {
      "text/plain": [
       "[Row(Job Category='Engineering, Architecture, & Planning', count=504),\n",
       " Row(Job Category='Technology, Data & Innovation', count=313),\n",
       " Row(Job Category='Legal Affairs', count=226),\n",
       " Row(Job Category='Public Safety, Inspections, & Enforcement', count=182),\n",
       " Row(Job Category='Building Operations & Maintenance', count=181),\n",
       " Row(Job Category='Finance, Accounting, & Procurement', count=169),\n",
       " Row(Job Category='Administration & Human Resources', count=134),\n",
       " Row(Job Category='Constituent Services & Community Programs', count=129),\n",
       " Row(Job Category='Health', count=125),\n",
       " Row(Job Category='Policy, Research & Analysis', count=124)]"
      ]
     },
     "execution_count": 65,
     "metadata": {},
     "output_type": "execute_result"
    }
   ],
   "source": [
    "df.groupBy(\"Job Category\").count().sort(\"count\",ascending=False).take(10)"
   ]
  },
  {
   "cell_type": "code",
   "execution_count": 10,
   "metadata": {},
   "outputs": [],
   "source": [
    "# unprocessed continuous values \n",
    "# no null in salary column\n",
    "# add columns salary_floor_hourly and salary_ceiling_hourly\n",
    "# assumption: 8 working hours per day, 22 working days per month \n",
    "# annual salary -> salary / (22*12*8)\n",
    "# daily salary -> salary / (8)"
   ]
  },
  {
   "cell_type": "code",
   "execution_count": 16,
   "metadata": {},
   "outputs": [
    {
     "name": "stdout",
     "output_type": "stream",
     "text": [
      "+----------------+\n",
      "|Salary Frequency|\n",
      "+----------------+\n",
      "|          Annual|\n",
      "|           Daily|\n",
      "|          Hourly|\n",
      "+----------------+\n",
      "\n"
     ]
    }
   ],
   "source": [
    "df.select('Salary Frequency').distinct().show()"
   ]
  },
  {
   "cell_type": "code",
   "execution_count": 5,
   "metadata": {},
   "outputs": [],
   "source": [
    "from pyspark.sql.types import *\n",
    "from pyspark.sql.functions import *\n"
   ]
  },
  {
   "cell_type": "code",
   "execution_count": 6,
   "metadata": {},
   "outputs": [],
   "source": [
    "# def salary_converter(frequency: StringType) -> int:\n",
    "#     annual_working_hours = 2112  # 12*22*8 12 months * 22 days * 8 hours \n",
    "#     daily_working_hours = 8 \n",
    "# #     if frequency == 'Annual':\n",
    "# #         return annual_working_hours\n",
    "# #     elif frequency == 'Daily':\n",
    "# #         return daily_working_hours\n",
    "# #     else:\n",
    "# #         return 1 \n",
    "#     return 1 \n",
    "\n",
    "# didn't use udf because it's expensive "
   ]
  },
  {
   "cell_type": "code",
   "execution_count": 7,
   "metadata": {},
   "outputs": [],
   "source": [
    "normalized_salary_df = df.\\\n",
    "withColumn(\"hourly_salary_floor\",\n",
    "           expr(\"\"\"`Salary Range From`/(case when `Salary Frequency` = 'Annual' then 2112 \n",
    "                           when `Salary Frequency` = 'Daily' then 8 \n",
    "                           else 1 end)\"\"\")).\\\n",
    "withColumn(\"hourly_salary_ceil\",\n",
    "           expr(\"\"\"`Salary Range To`/(case when `Salary Frequency` = 'Annual' then 2112 \n",
    "                           when `Salary Frequency` = 'Daily' then 8 \n",
    "                           else 1 end)\"\"\"))\n",
    "\n"
   ]
  },
  {
   "cell_type": "code",
   "execution_count": 7,
   "metadata": {},
   "outputs": [],
   "source": [
    "# normalized_salary_df.show(1)"
   ]
  },
  {
   "cell_type": "code",
   "execution_count": 8,
   "metadata": {},
   "outputs": [],
   "source": [
    "# normalized_salary_df.select('Salary Frequency','hourly_salary_floor').distinct().show()"
   ]
  },
  {
   "cell_type": "code",
   "execution_count": 19,
   "metadata": {},
   "outputs": [
    {
     "data": {
      "text/plain": [
       "DataFrame[hourly_salary_floor: double, hourly_salary_ceil: double]"
      ]
     },
     "execution_count": 19,
     "metadata": {},
     "output_type": "execute_result"
    }
   ],
   "source": [
    "# Salary distribution per job category \n",
    "normalized_salary_df.\\\n",
    "select('hourly_salary_floor', 'hourly_salary_ceil')\n",
    "# .\\\n",
    "# filter(col('Job Category')=='Engineering, Architecture, & Planning').show(20)"
   ]
  },
  {
   "cell_type": "code",
   "execution_count": 20,
   "metadata": {},
   "outputs": [],
   "source": [
    "salary_plot_df = normalized_salary_df.\\\n",
    "select('Job Category','hourly_salary_floor', 'hourly_salary_ceil').toPandas()\n",
    "# filter(col('Job Category')=='Technology, Data & Innovation').toPandas()"
   ]
  },
  {
   "cell_type": "code",
   "execution_count": 24,
   "metadata": {},
   "outputs": [
    {
     "data": {
      "text/plain": [
       "<matplotlib.axes._subplots.AxesSubplot at 0x405d88db38>"
      ]
     },
     "execution_count": 24,
     "metadata": {},
     "output_type": "execute_result"
    },
    {
     "data": {
      "image/png": "[encoded data removed]",
      "text/plain": [
       "<Figure size 432x288 with 1 Axes>"
      ]
     },
     "metadata": {
      "needs_background": "light"
     },
     "output_type": "display_data"
    }
   ],
   "source": [
    "sns.distplot(salary_plot_df['hourly_salary_floor'], hist=True, kde=True, \n",
    "             bins=int(180/5), color = 'darkblue', \n",
    "             hist_kws={'edgecolor':'black'},\n",
    "             kde_kws={'linewidth': 4})"
   ]
  },
  {
   "cell_type": "code",
   "execution_count": 25,
   "metadata": {},
   "outputs": [
    {
     "data": {
      "text/plain": [
       "<matplotlib.axes._subplots.AxesSubplot at 0x405e1ac588>"
      ]
     },
     "execution_count": 25,
     "metadata": {},
     "output_type": "execute_result"
    },
    {
     "data": {
      "image/png": "[encoded data removed]",
      "text/plain": [
       "<Figure size 432x288 with 1 Axes>"
      ]
     },
     "metadata": {
      "needs_background": "light"
     },
     "output_type": "display_data"
    }
   ],
   "source": [
    "sns.distplot(salary_plot_df['hourly_salary_ceil'], hist=True, kde=True, \n",
    "             bins=int(180/5), color = 'darkblue', \n",
    "             hist_kws={'edgecolor':'black'},\n",
    "             kde_kws={'linewidth': 4})"
   ]
  },
  {
   "cell_type": "code",
   "execution_count": 26,
   "metadata": {},
   "outputs": [
    {
     "data": {
      "text/plain": [
       "Text(0, 0.5, 'Density')"
      ]
     },
     "execution_count": 26,
     "metadata": {},
     "output_type": "execute_result"
    },
    {
     "data": {
      "image/png": "[encoded data removed]",
      "text/plain": [
       "<Figure size 432x288 with 1 Axes>"
      ]
     },
     "metadata": {
      "needs_background": "light"
     },
     "output_type": "display_data"
    }
   ],
   "source": [
    "categories = ['Engineering, Architecture, & Planning',\n",
    "              'Technology, Data & Innovation',\n",
    "              'Legal Affairs',\n",
    "              'Public Safety, Inspections, & Enforcement',\n",
    "              'Building Operations & Maintenance',\n",
    "              'Finance, Accounting, & Procurement',\n",
    "              'Administration & Human Resources',\n",
    "              'Constituent Services & Community Programs',\n",
    "              'Health',\n",
    "              'Policy, Research & Analysis']\n",
    "\n",
    "# Iterate through the five airlines\n",
    "for category in categories:\n",
    "    # Subset to the airline\n",
    "    subset = salary_plot_df[salary_plot_df['Job Category'] == category]\n",
    "    \n",
    "    # Draw the density plot\n",
    "    sns.distplot(subset['hourly_salary_floor'], hist = False, kde = True,\n",
    "                 kde_kws = {'linewidth': 3},\n",
    "                 label = category)\n",
    "    \n",
    "# Plot formatting\n",
    "plt.legend(prop={'size': 6}, title = 'Category')\n",
    "plt.title('Density Plot with Multiple Job Categories')\n",
    "plt.xlabel('Salary floor')\n",
    "plt.ylabel('Density')"
   ]
  },
  {
   "cell_type": "code",
   "execution_count": 27,
   "metadata": {},
   "outputs": [],
   "source": [
    "# impute missing values "
   ]
  },
  {
   "cell_type": "code",
   "execution_count": 14,
   "metadata": {},
   "outputs": [],
   "source": [
    "# df.show(1)"
   ]
  },
  {
   "cell_type": "code",
   "execution_count": 21,
   "metadata": {},
   "outputs": [],
   "source": [
    "# skills_df = df.select('hourly_salary_ceil','Prefered Skills').\n",
    "# normalized_salary_df.groupBy('Preferred Skills').agg(avg('hourly_salary_ceil').alias('salary')).sort('salary',ascending=False).take(10)"
   ]
  },
  {
   "cell_type": "markdown",
   "metadata": {},
   "source": [
    "# Outliers"
   ]
  },
  {
   "cell_type": "code",
   "execution_count": 6,
   "metadata": {},
   "outputs": [],
   "source": [
    "# "
   ]
  },
  {
   "cell_type": "code",
   "execution_count": 22,
   "metadata": {},
   "outputs": [
    {
     "name": "stdout",
     "output_type": "stream",
     "text": [
      "+-----+--------------------+--------------------+\n",
      "|Level|      Business Title|        Job Category|\n",
      "+-----+--------------------+--------------------+\n",
      "|   M7| EVP for Real Estate|Policy, Research ...|\n",
      "|   M7| EVP for Real Estate|Policy, Research ...|\n",
      "|   M7|ADMINISTRATIVE MA...|Administration & ...|\n",
      "|   M7|ADMINISTRATIVE MA...|Administration & ...|\n",
      "|   M6|Deputy Commission...|              Health|\n",
      "+-----+--------------------+--------------------+\n",
      "only showing top 5 rows\n",
      "\n"
     ]
    }
   ],
   "source": [
    "normalized_salary_df.select('Level', 'Business Title','Job Category').filter(col('hourly_salary_ceil')>100).show(5)"
   ]
  },
  {
   "cell_type": "markdown",
   "metadata": {},
   "source": [
    "# Missing values"
   ]
  },
  {
   "cell_type": "code",
   "execution_count": 29,
   "metadata": {},
   "outputs": [
    {
     "name": "stdout",
     "output_type": "stream",
     "text": [
      "<class 'pandas.core.frame.DataFrame'>\n",
      "RangeIndex: 2946 entries, 0 to 2945\n",
      "Data columns (total 28 columns):\n",
      " #   Column                         Non-Null Count  Dtype         \n",
      "---  ------                         --------------  -----         \n",
      " 0   Job ID                         2946 non-null   int32         \n",
      " 1   Agency                         2946 non-null   object        \n",
      " 2   Posting Type                   2946 non-null   object        \n",
      " 3   # Of Positions                 2946 non-null   int32         \n",
      " 4   Business Title                 2946 non-null   object        \n",
      " 5   Civil Service Title            2946 non-null   object        \n",
      " 6   Title Code No                  2946 non-null   object        \n",
      " 7   Level                          2946 non-null   object        \n",
      " 8   Job Category                   2944 non-null   object        \n",
      " 9   Full-Time/Part-Time indicator  2751 non-null   object        \n",
      " 10  Salary Range From              2946 non-null   float64       \n",
      " 11  Salary Range To                2946 non-null   float64       \n",
      " 12  Salary Frequency               2946 non-null   object        \n",
      " 13  Work Location                  2946 non-null   object        \n",
      " 14  Division/Work Unit             2946 non-null   object        \n",
      " 15  Job Description                2946 non-null   object        \n",
      " 16  Minimum Qual Requirements      2926 non-null   object        \n",
      " 17  Preferred Skills               2553 non-null   object        \n",
      " 18  Additional Information         1854 non-null   object        \n",
      " 19  To Apply                       2945 non-null   object        \n",
      " 20  Hours/Shift                    884 non-null    object        \n",
      " 21  Work Location 1                1358 non-null   object        \n",
      " 22  Recruitment Contact            0 non-null      object        \n",
      " 23  Residency Requirement          2942 non-null   object        \n",
      " 24  Posting Date                   2942 non-null   datetime64[ns]\n",
      " 25  Post Until                     871 non-null    datetime64[ns]\n",
      " 26  Posting Updated                2942 non-null   datetime64[ns]\n",
      " 27  Process Date                   2942 non-null   datetime64[ns]\n",
      "dtypes: datetime64[ns](4), float64(2), int32(2), object(20)\n",
      "memory usage: 621.5+ KB\n"
     ]
    }
   ],
   "source": [
    "pandas_df.info()"
   ]
  },
  {
   "cell_type": "code",
   "execution_count": 33,
   "metadata": {},
   "outputs": [],
   "source": [
    "# Impute missing values"
   ]
  },
  {
   "cell_type": "code",
   "execution_count": 36,
   "metadata": {},
   "outputs": [
    {
     "name": "stderr",
     "output_type": "stream",
     "text": [
      "\n",
      "KeyboardInterrupt\n",
      "\n"
     ]
    }
   ],
   "source": [
    "df.select('Civil Service Title').filter(isnull(col('Job Category'))).show()"
   ]
  },
  {
   "cell_type": "code",
   "execution_count": null,
   "metadata": {},
   "outputs": [],
   "source": [
    "Full-Time/Part-Time indicator  2751 \n"
   ]
  },
  {
   "cell_type": "code",
   "execution_count": 4,
   "metadata": {},
   "outputs": [
    {
     "name": "stdout",
     "output_type": "stream",
     "text": [
      "+----------------+-----------------------------+-----+\n",
      "|Salary Frequency|Full-Time/Part-Time indicator|count|\n",
      "+----------------+-----------------------------+-----+\n",
      "|          Annual|                         null|  187|\n",
      "|          Hourly|                            P|  108|\n",
      "|          Hourly|                            F|   79|\n",
      "|          Annual|                            P|   17|\n",
      "|           Daily|                            F|   38|\n",
      "|          Annual|                            F| 2508|\n",
      "|          Hourly|                         null|    8|\n",
      "|           Daily|                            P|    1|\n",
      "+----------------+-----------------------------+-----+\n",
      "\n"
     ]
    }
   ],
   "source": [
    "df.groupBy('Salary Frequency','Full-Time/Part-Time indicator').count().show()"
   ]
  },
  {
   "cell_type": "code",
   "execution_count": 32,
   "metadata": {},
   "outputs": [],
   "source": [
    "# missing less than x percent: fill with ' '"
   ]
  },
  {
   "cell_type": "code",
   "execution_count": null,
   "metadata": {},
   "outputs": [],
   "source": [
    "# missing more than half: drop "
   ]
  },
  {
   "cell_type": "markdown",
   "metadata": {},
   "source": [
    "# Drop columns"
   ]
  },
  {
   "cell_type": "code",
   "execution_count": 36,
   "metadata": {},
   "outputs": [],
   "source": [
    "df_drop = df.drop('Job ID','Recruitment Contact')"
   ]
  },
  {
   "cell_type": "code",
   "execution_count": 37,
   "metadata": {},
   "outputs": [
    {
     "name": "stdout",
     "output_type": "stream",
     "text": [
      "root\n",
      " |-- Agency: string (nullable = true)\n",
      " |-- Posting Type: string (nullable = true)\n",
      " |-- # Of Positions: integer (nullable = true)\n",
      " |-- Business Title: string (nullable = true)\n",
      " |-- Civil Service Title: string (nullable = true)\n",
      " |-- Title Code No: string (nullable = true)\n",
      " |-- Level: string (nullable = true)\n",
      " |-- Job Category: string (nullable = true)\n",
      " |-- Full-Time/Part-Time indicator: string (nullable = true)\n",
      " |-- Salary Range From: double (nullable = true)\n",
      " |-- Salary Range To: double (nullable = true)\n",
      " |-- Salary Frequency: string (nullable = true)\n",
      " |-- Work Location: string (nullable = true)\n",
      " |-- Division/Work Unit: string (nullable = true)\n",
      " |-- Job Description: string (nullable = true)\n",
      " |-- Minimum Qual Requirements: string (nullable = true)\n",
      " |-- Preferred Skills: string (nullable = true)\n",
      " |-- Additional Information: string (nullable = true)\n",
      " |-- To Apply: string (nullable = true)\n",
      " |-- Hours/Shift: string (nullable = true)\n",
      " |-- Work Location 1: string (nullable = true)\n",
      " |-- Residency Requirement: string (nullable = true)\n",
      " |-- Posting Date: timestamp (nullable = true)\n",
      " |-- Post Until: timestamp (nullable = true)\n",
      " |-- Posting Updated: timestamp (nullable = true)\n",
      " |-- Process Date: timestamp (nullable = true)\n",
      "\n"
     ]
    }
   ],
   "source": [
    "df_drop.printSchema()"
   ]
  },
  {
   "cell_type": "code",
   "execution_count": null,
   "metadata": {},
   "outputs": [],
   "source": [
    "Recruitment Contact     "
   ]
  },
  {
   "cell_type": "code",
   "execution_count": null,
   "metadata": {},
   "outputs": [],
   "source": [
    "Post Until  "
   ]
  },
  {
   "cell_type": "code",
   "execution_count": null,
   "metadata": {},
   "outputs": [],
   "source": [
    "Job ID,   Title Code No        "
   ]
  },
  {
   "cell_type": "markdown",
   "metadata": {},
   "source": [
    "# Encoding categorical columns"
   ]
  },
  {
   "cell_type": "markdown",
   "metadata": {},
   "source": [
    "This part is quite different from python sci-kit learn"
   ]
  },
  {
   "cell_type": "code",
   "execution_count": 38,
   "metadata": {},
   "outputs": [],
   "source": [
    "from pyspark.ml.feature import (VectorAssembler,VectorIndexer,\n",
    "                                OneHotEncoder,StringIndexer)"
   ]
  },
  {
   "cell_type": "code",
   "execution_count": 44,
   "metadata": {},
   "outputs": [],
   "source": [
    "indexer = StringIndexer(inputCol='Agency',outputCol='AgencyIndex').fit(df)\n",
    "indexed_df = indexer.transform(df)\n"
   ]
  },
  {
   "cell_type": "code",
   "execution_count": 47,
   "metadata": {},
   "outputs": [
    {
     "name": "stdout",
     "output_type": "stream",
     "text": [
      "+------+--------------------+-----------------+-----------+\n",
      "|Job ID|        Job Category|Salary Range From|AgencyIndex|\n",
      "+------+--------------------+-----------------+-----------+\n",
      "| 87990|                null|          42405.0|       15.0|\n",
      "| 97899|                null|          60740.0|       15.0|\n",
      "|132292|Maintenance & Ope...|         51907.68|        1.0|\n",
      "|132292|Maintenance & Ope...|         51907.68|        1.0|\n",
      "|133921|Maintenance & Ope...|             35.0|        1.0|\n",
      "|133921|Maintenance & Ope...|             35.0|        1.0|\n",
      "|137433|Finance, Accounti...|          50598.0|        2.0|\n",
      "|138531|Health Public Saf...|          50623.0|        0.0|\n",
      "|151131|Engineering, Arch...|          90000.0|        1.0|\n",
      "|152738|Clerical & Admini...|          30683.0|        8.0|\n",
      "+------+--------------------+-----------------+-----------+\n",
      "only showing top 10 rows\n",
      "\n"
     ]
    }
   ],
   "source": [
    "indexed_df.select('Job ID','Job Category','Salary Range From','AgencyIndex').show(10)"
   ]
  },
  {
   "cell_type": "code",
   "execution_count": 49,
   "metadata": {},
   "outputs": [],
   "source": [
    "encoder = OneHotEncoder(inputCol='AgencyIndex',outputCol='AgencyVec')\n",
    "encoded_df = encoder.transform(indexed_df)"
   ]
  },
  {
   "cell_type": "code",
   "execution_count": 50,
   "metadata": {},
   "outputs": [
    {
     "name": "stdout",
     "output_type": "stream",
     "text": [
      "+------+--------------------+-----------------+-----------+---------------+\n",
      "|Job ID|        Job Category|Salary Range From|AgencyIndex|      AgencyVec|\n",
      "+------+--------------------+-----------------+-----------+---------------+\n",
      "| 87990|                null|          42405.0|       15.0|(51,[15],[1.0])|\n",
      "| 97899|                null|          60740.0|       15.0|(51,[15],[1.0])|\n",
      "|132292|Maintenance & Ope...|         51907.68|        1.0| (51,[1],[1.0])|\n",
      "|132292|Maintenance & Ope...|         51907.68|        1.0| (51,[1],[1.0])|\n",
      "|133921|Maintenance & Ope...|             35.0|        1.0| (51,[1],[1.0])|\n",
      "|133921|Maintenance & Ope...|             35.0|        1.0| (51,[1],[1.0])|\n",
      "|137433|Finance, Accounti...|          50598.0|        2.0| (51,[2],[1.0])|\n",
      "|138531|Health Public Saf...|          50623.0|        0.0| (51,[0],[1.0])|\n",
      "|151131|Engineering, Arch...|          90000.0|        1.0| (51,[1],[1.0])|\n",
      "|152738|Clerical & Admini...|          30683.0|        8.0| (51,[8],[1.0])|\n",
      "+------+--------------------+-----------------+-----------+---------------+\n",
      "only showing top 10 rows\n",
      "\n"
     ]
    }
   ],
   "source": [
    "encoded_df.select('Job ID','Job Category','Salary Range From','AgencyIndex','AgencyVec').show(10)"
   ]
  },
  {
   "cell_type": "markdown",
   "metadata": {},
   "source": [
    "# Text processing"
   ]
  },
  {
   "cell_type": "code",
   "execution_count": 8,
   "metadata": {},
   "outputs": [],
   "source": [
    "# remove punctuations and special characters, and convert everything to lower case\n",
    "# Job Description, Minimum Qual Requirements, Preferred Skills\n",
    "from pyspark.sql.functions import lower, col, concat, regexp_replace\n",
    "\n",
    "text_cleaned_df = normalized_salary_df.\\\n",
    "withColumn('Job Description',lower(regexp_replace(col('Job Description'), \"[^a-zA-Z0-9 ]\", \"\"))).\\\n",
    "withColumn('Minimum Qual Requirements',lower(regexp_replace(col('Minimum Qual Requirements'), \"[^a-zA-Z0-9 ]\", \"\"))).\\\n",
    "withColumn('Preferred Skills',lower(regexp_replace(col('Preferred Skills'), \"[^a-zA-Z0-9 ]\", \"\")))\n"
   ]
  },
  {
   "cell_type": "code",
   "execution_count": 9,
   "metadata": {},
   "outputs": [
    {
     "name": "stdout",
     "output_type": "stream",
     "text": [
      "+--------------------+-------------------------+\n",
      "|     Job Description|Minimum Qual Requirements|\n",
      "+--------------------+-------------------------+\n",
      "|division of econo...|     1a baccalaureate ...|\n",
      "+--------------------+-------------------------+\n",
      "only showing top 1 row\n",
      "\n"
     ]
    }
   ],
   "source": [
    "text_cleaned_df.select('Job Description','Minimum Qual Requirements').show(1)"
   ]
  },
  {
   "cell_type": "code",
   "execution_count": 10,
   "metadata": {},
   "outputs": [
    {
     "data": {
      "text/plain": [
       "1350"
      ]
     },
     "execution_count": 10,
     "metadata": {},
     "output_type": "execute_result"
    }
   ],
   "source": [
    "text_cleaned_df.filter(col('Minimum Qual Requirements').contains('high school')).count()\n"
   ]
  },
  {
   "cell_type": "code",
   "execution_count": 11,
   "metadata": {},
   "outputs": [],
   "source": [
    "# Dic containing degrees\n",
    "degrees = {\n",
    "    'high school':['high school'],\n",
    "    'bachelor':['baccalaureate','bachelor'],\n",
    "    'master': ['master'],\n",
    "    'doctorate':['phd','scd'],\n",
    "    'legal degree':['state bar']\n",
    "}"
   ]
  },
  {
   "cell_type": "code",
   "execution_count": 12,
   "metadata": {},
   "outputs": [],
   "source": [
    "cleaned_df_degree = text_cleaned_df.\\\n",
    "withColumn('degree_required',\n",
    "           expr(\"\"\"case when `Minimum Qual Requirements` like '%phd%' or `Minimum Qual Requirements` like '%scd%'\n",
    "                        then 'doctorate' \n",
    "                    when `Minimum Qual Requirements` like '%master%'\n",
    "                    then 'master'\n",
    "                    when `Minimum Qual Requirements` like '%baccalaureate%' or  `Minimum Qual Requirements` like '%bachelor%'\n",
    "                    then 'bachelor'\n",
    "                    when `Minimum Qual Requirements` like '%high school%'\n",
    "                    then 'high school'\n",
    "                    when `Minimum Qual Requirements` like '%state bar%'\n",
    "                    then 'legal degree'\n",
    "                    else 'No degree requirement'\n",
    "                end\"\"\"))\n"
   ]
  },
  {
   "cell_type": "code",
   "execution_count": 13,
   "metadata": {},
   "outputs": [],
   "source": [
    "# cleaned_df_degree.select('Minimum Qual Requirements','Business Title','degree_required').take(5)"
   ]
  },
  {
   "cell_type": "code",
   "execution_count": 14,
   "metadata": {},
   "outputs": [],
   "source": [
    "# correlation between degree and salary "
   ]
  },
  {
   "cell_type": "code",
   "execution_count": 18,
   "metadata": {},
   "outputs": [
    {
     "name": "stdout",
     "output_type": "stream",
     "text": [
      "+--------------------+------------------+------------------+------------------+\n",
      "|     degree_required|        avg_salary|        max_salary|        min_salary|\n",
      "+--------------------+------------------+------------------+------------------+\n",
      "|No degree require...| 43.16766260539278|110.98579545454545|             10.36|\n",
      "|           doctorate| 85.22727272727273| 85.22727272727273| 85.22727272727273|\n",
      "|              master| 48.81057772022551|110.98579545454545|24.401041666666668|\n",
      "|        legal degree|46.499655712530696| 92.04308712121212| 31.87215909090909|\n",
      "|         high school|29.706092822096814|             58.54|16.053977272727273|\n",
      "|            bachelor| 42.21221909482545|110.98579545454545|18.546401515151516|\n",
      "+--------------------+------------------+------------------+------------------+\n",
      "\n"
     ]
    }
   ],
   "source": [
    "cleaned_df_degree.groupBy('degree_required').agg(avg('hourly_salary_ceil').alias('avg_salary'),\n",
    "                                                max('hourly_salary_ceil').alias('max_salary'),\n",
    "                                                min('hourly_salary_ceil').alias('min_salary')\n",
    "                                                ).show()"
   ]
  },
  {
   "cell_type": "code",
   "execution_count": 111,
   "metadata": {},
   "outputs": [],
   "source": [
    "# skills\n",
    "# concatenate job description and preferred skills\n",
    "cleaned_df_skills = cleaned_df_degree.withColumn('skills_raw',col('Preferred Skills'))\n",
    "cleaned_df_skills_non_null = cleaned_df_skills.na.fill('na')"
   ]
  },
  {
   "cell_type": "code",
   "execution_count": 110,
   "metadata": {},
   "outputs": [
    {
     "data": {
      "text/plain": [
       "2946"
      ]
     },
     "execution_count": 110,
     "metadata": {},
     "output_type": "execute_result"
    }
   ],
   "source": [
    "cleaned_df_skills_non_null.count()"
   ]
  },
  {
   "cell_type": "code",
   "execution_count": 112,
   "metadata": {},
   "outputs": [],
   "source": [
    "from pyspark.ml.feature import StopWordsRemover, Tokenizer\n",
    "\n",
    "tokenizer = Tokenizer(inputCol=\"skills_raw\", outputCol=\"skills_words\")\n",
    "cleaned_df_skills_non_null = tokenizer.transform(cleaned_df_skills_non_null)\n"
   ]
  },
  {
   "cell_type": "code",
   "execution_count": 115,
   "metadata": {},
   "outputs": [],
   "source": [
    "remover = StopWordsRemover(inputCol='skills_words', outputCol='filtered_skills')\n",
    "cleaned_df_skills_non_null = remover.transform(cleaned_df_skills_non_null)"
   ]
  },
  {
   "cell_type": "code",
   "execution_count": 116,
   "metadata": {},
   "outputs": [
    {
     "data": {
      "text/plain": [
       "[Row(skills_words=['excellent', 'interpersonal', 'and', 'organizational', 'skills', '', 'excellent', 'analytic', 'and', 'operational', 'skills', '', 'excellent', 'writing', 'and', 'editing', 'skills', '', 'knowledge', 'of', 'government', 'procurement', 'processes', 'and', 'information', 'systems', 'desirable', '', 'foreign', 'language', 'skills', 'a', 'plus']),\n",
       " Row(skills_words=['na']),\n",
       " Row(skills_words=['1', '', 'a', 'high', 'school', 'diploma', 'or', 'ged', '', '2', '', 'cdl', 'drivers', 'license', '', '3', '', 'excellent', 'troubleshooting', 'ability', 'and', 'mechanical', 'aptitude', '', '4', '', 'excellent', 'analytical', 'and', 'organizational', 'skills', '', '5', '', 'ability', 'to', 'troubleshoot', 'various', 'types', 'of', 'vacuum', 'heating', 'equipment', '', '6', '', 'knowledge', 'of', 'steam', 'and', 'pneumatic', 'heating', 'systems', 'steam', 'and', 'hot', 'water', 'generating', 'systems', 'various', 'types', 'of', 'heat', 'air', 'and', 'water', 'pumps', '', '7', '', 'knowledge', 'of', 'maximo', 'work', 'order', 'system']),\n",
       " Row(skills_words=['1', '', 'a', 'high', 'school', 'diploma', 'or', 'ged', '', '2', '', 'cdl', 'drivers', 'license', '', '3', '', 'excellent', 'troubleshooting', 'ability', 'and', 'mechanical', 'aptitude', '', '4', '', 'excellent', 'analytical', 'and', 'organizational', 'skills', '', '5', '', 'ability', 'to', 'troubleshoot', 'various', 'types', 'of', 'vacuum', 'heating', 'equipment', '', '6', '', 'knowledge', 'of', 'steam', 'and', 'pneumatic', 'heating', 'systems', 'steam', 'and', 'hot', 'water', 'generating', 'systems', 'various', 'types', 'of', 'heat', 'air', 'and', 'water', 'pumps', '', '7', '', 'knowledge', 'of', 'maximo', 'work', 'order', 'system']),\n",
       " Row(skills_words=['na']),\n",
       " Row(skills_words=['na']),\n",
       " Row(skills_words=['strong', 'analytical', 'background', '', 'advanced', 'proficiency', 'in', 'microsoft', 'excel', 'and', 'word', 'experience', 'in', 'procurement', 'budget', 'and', 'grant', 'management', '', 'understanding', 'of', 'contract', 'management', '', '', 'strong', 'organizational', 'and', 'administrative', 'skills', 'and', '', '', 'excellent', 'oral', 'interpersonal', 'and', 'written', 'communication', '', 'skills']),\n",
       " Row(skills_words=['in', 'order', 'to', 'apply', 'for', 'this', 'position', 'the', 'candidate', 'must', 'be', 'a', 'permanent', 'associate', 'chemist', 'or', 'on', 'an', 'associate', 'chemist', 'civil', 'service', 'list', '', '', '', 'experience', 'in', 'testing', 'drinking', 'water', 'samples', 'for', 'trace', 'organic', 'contaminants', 'by', 'epaapproved', 'gas', 'chromatographic', 'methods', 'is', 'preferred', 'experience', 'in', 'testing', 'environmental', 'water', 'samples', 'for', 'trace', 'organic', 'contaminants', 'by', 'gas', 'chromatographic', 'methods', 'is', 'also', 'acceptable', 'strong', 'writing', 'and', 'communication', 'skills', 'are', 'desirable', 'as', 'well', 'as', 'familiarity', 'with', 'computer', 'programs', 'including', 'excel', 'and', 'word']),\n",
       " Row(skills_words=['1', '', 'five', 'years', 'of', 'managerial', 'and', 'supervisory', 'experience', '', '2', '', 'excellent', 'verbal', 'and', 'written', 'communication', 'skills', '', '', '3', '', 'ability', 'to', 'work', 'collaboratively', 'with', 'others', '', '4', '', 'ability', 'to', 'perform', 'detailed', 'work', 'under', 'timesensitive', 'deadlines']),\n",
       " Row(skills_words=['experience', 'with', 'law', 'manager', 'and', 'microsoft', 'office', 'applications'])]"
      ]
     },
     "execution_count": 116,
     "metadata": {},
     "output_type": "execute_result"
    }
   ],
   "source": [
    "cleaned_df_skills_non_null.select('skills_words').take(10)"
   ]
  },
  {
   "cell_type": "code",
   "execution_count": 82,
   "metadata": {},
   "outputs": [
    {
     "name": "stdout",
     "output_type": "stream",
     "text": [
      "+------+-------------------+---------+\n",
      "|Job ID|hourly_salary_floor|      col|\n",
      "+------+-------------------+---------+\n",
      "| 87990|          20.078125|excellent|\n",
      "+------+-------------------+---------+\n",
      "only showing top 1 row\n",
      "\n"
     ]
    }
   ],
   "source": [
    "cleaned_df_skills.select('Job ID','hourly_salary_floor',explode('skills_words')).show(1)"
   ]
  },
  {
   "cell_type": "code",
   "execution_count": 54,
   "metadata": {},
   "outputs": [
    {
     "name": "stdout",
     "output_type": "stream",
     "text": [
      "root\n",
      " |-- Job ID: integer (nullable = true)\n",
      " |-- Agency: string (nullable = true)\n",
      " |-- Posting Type: string (nullable = true)\n",
      " |-- # Of Positions: integer (nullable = true)\n",
      " |-- Business Title: string (nullable = true)\n",
      " |-- Civil Service Title: string (nullable = true)\n",
      " |-- Title Code No: string (nullable = true)\n",
      " |-- Level: string (nullable = true)\n",
      " |-- Job Category: string (nullable = true)\n",
      " |-- Full-Time/Part-Time indicator: string (nullable = true)\n",
      " |-- Salary Range From: double (nullable = true)\n",
      " |-- Salary Range To: double (nullable = true)\n",
      " |-- Salary Frequency: string (nullable = true)\n",
      " |-- Work Location: string (nullable = true)\n",
      " |-- Division/Work Unit: string (nullable = true)\n",
      " |-- Job Description: string (nullable = true)\n",
      " |-- Minimum Qual Requirements: string (nullable = true)\n",
      " |-- Preferred Skills: string (nullable = true)\n",
      " |-- Additional Information: string (nullable = true)\n",
      " |-- To Apply: string (nullable = true)\n",
      " |-- Hours/Shift: string (nullable = true)\n",
      " |-- Work Location 1: string (nullable = true)\n",
      " |-- Recruitment Contact: string (nullable = true)\n",
      " |-- Residency Requirement: string (nullable = true)\n",
      " |-- Posting Date: timestamp (nullable = true)\n",
      " |-- Post Until: timestamp (nullable = true)\n",
      " |-- Posting Updated: timestamp (nullable = true)\n",
      " |-- Process Date: timestamp (nullable = true)\n",
      " |-- hourly_salary_floor: double (nullable = true)\n",
      " |-- hourly_salary_ceil: double (nullable = true)\n",
      " |-- degree_required: string (nullable = false)\n",
      " |-- skills_raw: string (nullable = true)\n",
      " |-- skills_words: array (nullable = true)\n",
      " |    |-- element: string (containsNull = true)\n",
      " |-- filtered_skills: array (nullable = true)\n",
      " |    |-- element: string (containsNull = true)\n",
      "\n"
     ]
    }
   ],
   "source": [
    "cleaned_df_skills.printSchema()"
   ]
  },
  {
   "cell_type": "code",
   "execution_count": null,
   "metadata": {},
   "outputs": [],
   "source": [
    "non_skill_words = ['experience','knowledge','desirable','skill','skills','plus',\n",
    "                   'technology','organization','strong']"
   ]
  },
  {
   "cell_type": "markdown",
   "metadata": {},
   "source": [
    "### Sample function"
   ]
  },
  {
   "cell_type": "code",
   "execution_count": null,
   "metadata": {},
   "outputs": [],
   "source": [
    "# read dataset\n",
    "# "
   ]
  },
  {
   "cell_type": "code",
   "execution_count": 78,
   "metadata": {},
   "outputs": [
    {
     "ename": "NameError",
     "evalue": "name 'DataFrame' is not defined",
     "output_type": "error",
     "traceback": [
      "\u001b[0;31m---------------------------------------------------------------------------\u001b[0m",
      "\u001b[0;31mNameError\u001b[0m                                 Traceback (most recent call last)",
      "\u001b[0;32m<ipython-input-78-7aa4fca73ec7>\u001b[0m in \u001b[0;36m<module>\u001b[0;34m\u001b[0m\n\u001b[0;32m----> 1\u001b[0;31m \u001b[0;32mdef\u001b[0m \u001b[0mget_salary_frequency\u001b[0m\u001b[0;34m(\u001b[0m\u001b[0mdf\u001b[0m\u001b[0;34m:\u001b[0m \u001b[0mDataFrame\u001b[0m\u001b[0;34m)\u001b[0m \u001b[0;34m->\u001b[0m \u001b[0mlist\u001b[0m\u001b[0;34m:\u001b[0m\u001b[0;34m\u001b[0m\u001b[0;34m\u001b[0m\u001b[0m\n\u001b[0m\u001b[1;32m      2\u001b[0m     \u001b[0mrow_list\u001b[0m \u001b[0;34m=\u001b[0m \u001b[0mdf\u001b[0m\u001b[0;34m.\u001b[0m\u001b[0mselect\u001b[0m\u001b[0;34m(\u001b[0m\u001b[0;34m'Salary Frequency'\u001b[0m\u001b[0;34m)\u001b[0m\u001b[0;34m.\u001b[0m\u001b[0mdistinct\u001b[0m\u001b[0;34m(\u001b[0m\u001b[0;34m)\u001b[0m\u001b[0;34m.\u001b[0m\u001b[0mcollect\u001b[0m\u001b[0;34m(\u001b[0m\u001b[0;34m)\u001b[0m\u001b[0;34m\u001b[0m\u001b[0;34m\u001b[0m\u001b[0m\n\u001b[1;32m      3\u001b[0m     \u001b[0;32mreturn\u001b[0m \u001b[0;34m[\u001b[0m\u001b[0mrow\u001b[0m\u001b[0;34m[\u001b[0m\u001b[0;34m'Salary Frequency'\u001b[0m\u001b[0;34m]\u001b[0m \u001b[0;32mfor\u001b[0m \u001b[0mrow\u001b[0m \u001b[0;32min\u001b[0m \u001b[0mrow_list\u001b[0m\u001b[0;34m]\u001b[0m\u001b[0;34m\u001b[0m\u001b[0;34m\u001b[0m\u001b[0m\n",
      "\u001b[0;31mNameError\u001b[0m: name 'DataFrame' is not defined"
     ]
    }
   ],
   "source": [
    "def get_salary_frequency(df: DataFrame) -> list:\n",
    "    row_list = df.select('Salary Frequency').distinct().collect()\n",
    "    return [row['Salary Frequency'] for row in row_list]"
   ]
  },
  {
   "cell_type": "markdown",
   "metadata": {},
   "source": [
    "Normalize salary function"
   ]
  },
  {
   "cell_type": "markdown",
   "metadata": {},
   "source": [
    "# CREATE A SUMMARY OF TECHNIQUES AND WORKFLOW"
   ]
  },
  {
   "cell_type": "markdown",
   "metadata": {},
   "source": [
    "### Example of test function"
   ]
  },
  {
   "cell_type": "code",
   "execution_count": 65,
   "metadata": {},
   "outputs": [],
   "source": [
    "mock_data = [('A', 'Annual'), ('B', 'Daily')]\n",
    "expected_result = ['Annual', 'Daily']"
   ]
  },
  {
   "cell_type": "code",
   "execution_count": 66,
   "metadata": {},
   "outputs": [],
   "source": [
    "def test_get_salary_frequency(mock_data: list, \n",
    "                              expected_result: list,\n",
    "                              schema: list = ['id', 'Salary Frequency']):  \n",
    "    mock_df = spark.createDataFrame(data = mock_data, schema = schema)\n",
    "    assert get_salary_frequency(mock_df) == expected_result"
   ]
  },
  {
   "cell_type": "code",
   "execution_count": 74,
   "metadata": {},
   "outputs": [],
   "source": [
    "# test read dataset"
   ]
  },
  {
   "cell_type": "code",
   "execution_count": null,
   "metadata": {},
   "outputs": [],
   "source": [
    "# Normalize salary test "
   ]
  }
 ],
 "metadata": {
  "kernelspec": {
   "display_name": "Python 3",
   "language": "python",
   "name": "python3"
  },
  "language_info": {
   "codemirror_mode": {
    "name": "ipython",
    "version": 3
   },
   "file_extension": ".py",
   "mimetype": "text/x-python",
   "name": "python",
   "nbconvert_exporter": "python",
   "pygments_lexer": "ipython3",
   "version": "3.7.3"
  },
  "vscode": {
   "interpreter": {
    "hash": "00826a481c8eaf04a3d7593b967dba21fe95800de21741369716e0153ae0478b"
   }
  }
 },
 "nbformat": 4,
 "nbformat_minor": 4
}
