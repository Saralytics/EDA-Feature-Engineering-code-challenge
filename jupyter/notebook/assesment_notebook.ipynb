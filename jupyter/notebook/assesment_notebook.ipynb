{
 "cells": [
  {
   "cell_type": "code",
   "execution_count": 16,
   "metadata": {},
   "outputs": [],
   "source": [
    "import findspark\n",
    "from pyspark.sql import functions as F\n",
    "from pyspark.sql import DataFrame\n",
    "findspark.init()"
   ]
  },
  {
   "cell_type": "code",
   "execution_count": 3,
   "metadata": {},
   "outputs": [],
   "source": [
    "from pyspark.sql import SparkSession\n",
    "\n",
    "spark = SparkSession.builder. \\\n",
    "    appName(\"pyspark-1\"). \\\n",
    "    getOrCreate()"
   ]
  },
  {
   "cell_type": "code",
   "execution_count": 4,
   "metadata": {},
   "outputs": [
    {
     "data": {
      "text/plain": [
       "'2.4.5'"
      ]
     },
     "execution_count": 4,
     "metadata": {},
     "output_type": "execute_result"
    }
   ],
   "source": [
    "spark.version"
   ]
  },
  {
   "cell_type": "code",
   "execution_count": 7,
   "metadata": {},
   "outputs": [
    {
     "name": "stdout",
     "output_type": "stream",
     "text": [
      "root\n",
      " |-- age: string (nullable = true)\n",
      " |-- workclass: string (nullable = true)\n",
      " |-- fnlwgt: string (nullable = true)\n",
      " |-- education: string (nullable = true)\n",
      " |-- education.num: string (nullable = true)\n",
      " |-- marital.status: string (nullable = true)\n",
      " |-- occupation: string (nullable = true)\n",
      " |-- relationship: string (nullable = true)\n",
      " |-- race: string (nullable = true)\n",
      " |-- sex: string (nullable = true)\n",
      " |-- capital.gain: string (nullable = true)\n",
      " |-- capital.loss: string (nullable = true)\n",
      " |-- hours.per.week: string (nullable = true)\n",
      " |-- native.country: string (nullable = true)\n",
      " |-- income: string (nullable = true)\n",
      "\n"
     ]
    }
   ],
   "source": [
    "df = spark.read.csv(\"/dataset/pyspark-df-overview/census_income.csv.gz\", header=True)\n",
    "df.printSchema()"
   ]
  },
  {
   "cell_type": "code",
   "execution_count": 32,
   "metadata": {},
   "outputs": [],
   "source": [
    "x = df.select(\"age\",\"fnlwgt\").withColumn(\"age_group\", F.when(F.col(\"age\")<=30, F.lit(\"youth-age\")).otherwise(F.when(((F.col(\"age\")>30) & (F.col(\"age\")<=50)), F.lit(\"mid-age\")).otherwise(F.lit(\"old-age\"))))"
   ]
  },
  {
   "cell_type": "code",
   "execution_count": 33,
   "metadata": {},
   "outputs": [],
   "source": [
    "def sample_function_get_max_fnlwgt(df: DataFrame) -> DataFrame:\n",
    "    df_age_grp = df.select(\"fnlwgt\", \"age\").withColumn(\"age_group\", F.when(F.col(\"age\")<=30, F.lit(\"youth-age\")).otherwise(F.when(((F.col(\"age\")>30) & (F.col(\"age\")<=50)), F.lit(\"mid-age\")).otherwise(F.lit(\"old-age\"))))\n",
    "    output = df_age_grp.groupBy(F.col(\"age_group\")).agg(F.max(F.col(\"fnlwgt\")).alias(\"max_fnlwgt\"))\n",
    "    return output"
   ]
  },
  {
   "cell_type": "code",
   "execution_count": 27,
   "metadata": {},
   "outputs": [
    {
     "data": {
      "text/plain": [
       "DataFrame[age: string, workclass: string, fnlwgt: string, education: string, education.num: string, marital.status: string, occupation: string, relationship: string, race: string, sex: string, capital.gain: string, capital.loss: string, hours.per.week: string, native.country: string, income: string, age_group: string]"
      ]
     },
     "execution_count": 27,
     "metadata": {},
     "output_type": "execute_result"
    }
   ],
   "source": []
  },
  {
   "cell_type": "code",
   "execution_count": 35,
   "metadata": {},
   "outputs": [],
   "source": [
    "xx = sample_function_get_max_fnlwgt(x)"
   ]
  },
  {
   "cell_type": "code",
   "execution_count": 36,
   "metadata": {
    "scrolled": true
   },
   "outputs": [
    {
     "name": "stdout",
     "output_type": "stream",
     "text": [
      "+---------+----------+\n",
      "|age_group|max_fnlwgt|\n",
      "+---------+----------+\n",
      "|youth-age|     99970|\n",
      "|  mid-age|     99971|\n",
      "|  old-age|     99987|\n",
      "+---------+----------+\n",
      "\n"
     ]
    }
   ],
   "source": [
    "xx.show()"
   ]
  },
  {
   "cell_type": "code",
   "execution_count": null,
   "metadata": {},
   "outputs": [],
   "source": []
  }
 ],
 "metadata": {
  "kernelspec": {
   "display_name": "Python 3",
   "language": "python",
   "name": "python3"
  },
  "language_info": {
   "codemirror_mode": {
    "name": "ipython",
    "version": 3
   },
   "file_extension": ".py",
   "mimetype": "text/x-python",
   "name": "python",
   "nbconvert_exporter": "python",
   "pygments_lexer": "ipython3",
   "version": "3.7.3"
  }
 },
 "nbformat": 4,
 "nbformat_minor": 4
}
